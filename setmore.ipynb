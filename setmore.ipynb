{
 "cells": [
  {
   "cell_type": "code",
   "execution_count": 7,
   "metadata": {},
   "outputs": [],
   "source": [
    "from setmore import *\n",
    "from IPython import *\n",
    "from IPython.display import *\n",
    "from ipywidgets import *\n",
    "import numpy as np\n",
    "import pandas as pd\n",
    "import plotly.express as px"
   ]
  },
  {
   "cell_type": "code",
   "execution_count": 2,
   "metadata": {},
   "outputs": [],
   "source": []
  },
  {
   "cell_type": "code",
   "execution_count": 8,
   "metadata": {},
   "outputs": [
    {
     "data": {
      "application/vnd.jupyter.widget-view+json": {
       "model_id": "a91b9d2de7644261bbd2a92e5178ff3c",
       "version_major": 2,
       "version_minor": 0
      },
      "text/plain": [
       "interactive(children=(Dropdown(description='x', index=3, options=('Time', 'Type', 'Peer', 'Month'), value='Mon…"
      ]
     },
     "metadata": {},
     "output_type": "display_data"
    }
   ],
   "source": [
    "df = get_appointments(\"01-06-2022\", \"01-11-2022\")\n",
    "# fix column name errors\n",
    "@interact(x = Dropdown(options = [\"Time\", \"Type\", \n",
    "                                  \"Peer\", \"Month\"], \n",
    "                       value = \"Month\"),\n",
    "          graph = Dropdown(options = [\"Bar\", \"Pie\"], value = \"Bar\"))\n",
    "def visualize(x, graph):\n",
    "    title = f\"{graph} Chart of {x} of Appointments\"\n",
    "    if graph == \"Bar\":\n",
    "        g = px.histogram(df, x, \n",
    "                         template = \"seaborn\", color = x, title = title)\n",
    "        g = g.update_xaxes(categoryorder = \"total descending\")\n",
    "    else:\n",
    "        g = px.pie(df, x, template = \"seaborn\", title = title)\n",
    "    g.update_layout(width = 1600, height = 800).show()"
   ]
  },
  {
   "cell_type": "code",
   "execution_count": null,
   "metadata": {},
   "outputs": [],
   "source": []
  }
 ],
 "metadata": {
  "kernelspec": {
   "display_name": "Python 3",
   "language": "python",
   "name": "python3"
  },
  "language_info": {
   "codemirror_mode": {
    "name": "ipython",
    "version": 3
   },
   "file_extension": ".py",
   "mimetype": "text/x-python",
   "name": "python",
   "nbconvert_exporter": "python",
   "pygments_lexer": "ipython3",
   "version": "3.10.1"
  },
  "orig_nbformat": 4,
  "vscode": {
   "interpreter": {
    "hash": "aee8b7b246df8f9039afb4144a1f6fd8d2ca17a180786b69acc140d282b71a49"
   }
  }
 },
 "nbformat": 4,
 "nbformat_minor": 2
}
