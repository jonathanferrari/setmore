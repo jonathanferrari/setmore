{
 "cells": [
  {
   "cell_type": "markdown",
   "metadata": {},
   "source": [
    "# Setmore Data Analysis\n",
    "## Author: [Jonathan Ferrari](https://jonathanferrari.com)\n",
    "## Documentation/Reference : [Project Repository](https://github.com/jonathanferrari/setmore)\n",
    "\n",
    "> For questions, review documentation or contact author"
   ]
  },
  {
   "cell_type": "code",
   "execution_count": 1,
   "metadata": {},
   "outputs": [],
   "source": [
    "from setmore import *\n",
    "from IPython import *\n",
    "from IPython.display import *\n",
    "from ipywidgets import *\n",
    "import numpy as np\n",
    "import pandas as pd\n",
    "import plotly.express as px\n",
    "import plotly.figure_factory as ff\n",
    "import numpy as np"
   ]
  },
  {
   "cell_type": "code",
   "execution_count": 2,
   "metadata": {},
   "outputs": [
    {
     "data": {
      "text/markdown": [
       "##Choose a Start Date:"
      ],
      "text/plain": [
       "<IPython.core.display.Markdown object>"
      ]
     },
     "metadata": {},
     "output_type": "display_data"
    },
    {
     "data": {
      "application/vnd.jupyter.widget-view+json": {
       "model_id": "137e6e5420764255b640b7f730701034",
       "version_major": 2,
       "version_minor": 0
      },
      "text/plain": [
       "DatePicker(value=None)"
      ]
     },
     "metadata": {},
     "output_type": "display_data"
    }
   ],
   "source": [
    "printmd(\"##Choose a Start Date:\")\n",
    "start"
   ]
  },
  {
   "cell_type": "code",
   "execution_count": 3,
   "metadata": {},
   "outputs": [
    {
     "data": {
      "text/markdown": [
       "##Choose an End Date:"
      ],
      "text/plain": [
       "<IPython.core.display.Markdown object>"
      ]
     },
     "metadata": {},
     "output_type": "display_data"
    },
    {
     "data": {
      "application/vnd.jupyter.widget-view+json": {
       "model_id": "ded4e1f3ca434d2cb526383c6d5936cd",
       "version_major": 2,
       "version_minor": 0
      },
      "text/plain": [
       "DatePicker(value=None)"
      ]
     },
     "metadata": {},
     "output_type": "display_data"
    }
   ],
   "source": [
    "printmd(\"##Choose an End Date:\")\n",
    "end"
   ]
  },
  {
   "cell_type": "code",
   "execution_count": 7,
   "metadata": {},
   "outputs": [],
   "source": [
    "s, e = get_dates(start, end)\n",
    "df = get_appointments(s, e)"
   ]
  },
  {
   "cell_type": "code",
   "execution_count": 8,
   "metadata": {},
   "outputs": [
    {
     "data": {
      "application/vnd.jupyter.widget-view+json": {
       "model_id": "2fb35cbe46a442d99554d61ea6001e34",
       "version_major": 2,
       "version_minor": 0
      },
      "text/plain": [
       "interactive(children=(Dropdown(description='x', options=('all', 'date', 'staff', 'service', 'time', 'month', '…"
      ]
     },
     "metadata": {},
     "output_type": "display_data"
    },
    {
     "data": {
      "application/vnd.plotly.v1+json": {
       "config": {
        "plotlyServerURL": "https://plot.ly"
       },
       "data": [
        {
         "hovertemplate": "start=%{x}<br>key=%{y}<extra></extra>",
         "legendgroup": "",
         "line": {
          "color": "rgb(76,114,176)",
          "dash": "solid"
         },
         "marker": {
          "symbol": "circle"
         },
         "mode": "lines",
         "name": "",
         "orientation": "h",
         "showlegend": false,
         "type": "scatter",
         "x": [
          "2022-08-24T16:00:00+00:00",
          "2022-08-24T17:00:00+00:00",
          "2022-08-25T14:00:00+00:00",
          "2022-08-25T17:00:00+00:00",
          "2022-08-29T10:00:00+00:00",
          "2022-08-29T11:00:00+00:00",
          "2022-08-29T12:30:00+00:00",
          "2022-08-29T17:00:00+00:00",
          "2022-08-29T21:00:00+00:00",
          "2022-08-30T12:30:00+00:00",
          "2022-08-30T15:00:00+00:00",
          "2022-08-31T09:00:00+00:00",
          "2022-08-31T10:00:00+00:00",
          "2022-09-07T15:30:00+00:00",
          "2022-09-12T12:00:00+00:00",
          "2022-09-12T15:00:00+00:00",
          "2022-09-12T16:00:00+00:00",
          "2022-09-14T12:30:00+00:00",
          "2022-09-15T13:00:00+00:00",
          "2022-09-15T14:00:00+00:00",
          "2022-09-15T14:30:00+00:00",
          "2022-09-16T09:00:00+00:00",
          "2022-09-16T11:00:00+00:00",
          "2022-09-19T09:00:00+00:00",
          "2022-09-19T11:00:00+00:00",
          "2022-09-19T11:00:00+00:00",
          "2022-09-19T12:00:00+00:00",
          "2022-09-19T16:00:00+00:00",
          "2022-09-21T09:00:00+00:00",
          "2022-09-21T11:00:00+00:00",
          "2022-09-22T16:00:00+00:00",
          "2022-09-23T11:00:00+00:00",
          "2022-09-26T13:00:00+00:00",
          "2022-09-27T09:00:00+00:00",
          "2022-09-28T10:00:00+00:00",
          "2022-09-28T11:00:00+00:00",
          "2022-09-29T09:30:00+00:00",
          "2022-09-29T11:00:00+00:00",
          "2022-09-30T15:00:00+00:00",
          "2022-10-03T10:00:00+00:00",
          "2022-10-03T11:00:00+00:00",
          "2022-10-03T12:00:00+00:00",
          "2022-10-03T15:00:00+00:00",
          "2022-10-05T16:00:00+00:00",
          "2022-10-07T10:00:00+00:00",
          "2022-10-07T11:00:00+00:00",
          "2022-10-10T11:00:00+00:00",
          "2022-10-11T13:00:00+00:00",
          "2022-10-11T14:00:00+00:00",
          "2022-10-11T15:00:00+00:00",
          "2022-10-11T15:00:00+00:00",
          "2022-10-12T13:00:00+00:00",
          "2022-10-12T14:00:00+00:00",
          "2022-10-13T10:00:00+00:00",
          "2022-10-13T10:30:00+00:00",
          "2022-10-17T10:00:00+00:00",
          "2022-10-17T11:00:00+00:00",
          "2022-10-17T12:00:00+00:00",
          "2022-10-17T13:00:00+00:00",
          "2022-10-19T09:00:00+00:00",
          "2022-10-20T12:00:00+00:00",
          "2022-10-24T12:00:00+00:00",
          "2022-10-24T13:00:00+00:00",
          "2022-10-24T14:00:00+00:00",
          "2022-10-24T14:00:00+00:00",
          "2022-10-24T15:00:00+00:00",
          "2022-10-25T14:00:00+00:00",
          "2022-10-25T14:00:00+00:00",
          "2022-10-25T15:00:00+00:00",
          "2022-10-26T10:00:00+00:00",
          "2022-10-26T14:00:00+00:00",
          "2022-10-26T14:00:00+00:00",
          "2022-10-27T18:00:00+00:00",
          "2022-10-27T19:00:00+00:00",
          "2022-10-28T09:00:00+00:00",
          "2022-10-28T11:00:00+00:00",
          "2022-10-28T12:00:00+00:00",
          "2022-10-28T12:00:00+00:00",
          "2022-10-31T11:00:00+00:00",
          "2022-10-31T11:00:00+00:00",
          "2022-10-31T12:00:00+00:00",
          "2022-10-31T12:00:00+00:00",
          "2022-11-01T13:00:00+00:00",
          "2022-11-01T14:00:00+00:00",
          "2022-11-01T15:00:00+00:00",
          "2022-11-01T16:00:00+00:00",
          "2022-11-02T09:00:00+00:00",
          "2022-11-02T10:00:00+00:00",
          "2022-11-02T11:00:00+00:00",
          "2022-11-02T11:00:00+00:00",
          "2022-11-03T12:00:00+00:00",
          "2022-11-03T14:00:00+00:00",
          "2022-11-04T10:00:00+00:00",
          "2022-11-04T12:00:00+00:00",
          "2022-11-04T14:00:00+00:00",
          "2022-11-04T15:00:00+00:00",
          "2022-11-07T11:00:00+00:00",
          "2022-11-07T12:00:00+00:00",
          "2022-11-07T13:00:00+00:00",
          "2022-11-07T15:00:00+00:00",
          "2022-11-08T13:00:00+00:00",
          "2022-11-08T14:00:00+00:00",
          "2022-11-08T15:00:00+00:00",
          "2022-11-08T16:00:00+00:00",
          "2022-11-08T16:00:00+00:00",
          "2022-11-09T12:00:00+00:00",
          "2022-11-09T12:00:00+00:00",
          "2022-11-09T13:00:00+00:00",
          "2022-11-09T15:00:00+00:00",
          "2022-11-09T15:00:00+00:00",
          "2022-11-09T17:00:00+00:00",
          "2022-11-10T15:30:00+00:00",
          "2022-11-10T19:00:00+00:00",
          "2022-11-11T10:00:00+00:00",
          "2022-11-14T12:00:00+00:00",
          "2022-11-14T12:00:00+00:00",
          "2022-11-14T13:00:00+00:00",
          "2022-11-14T16:00:00+00:00",
          "2022-11-15T13:00:00+00:00",
          "2022-11-15T14:00:00+00:00",
          "2022-11-15T15:00:00+00:00",
          "2022-11-16T11:00:00+00:00",
          "2022-11-16T16:00:00+00:00",
          "2022-11-17T14:00:00+00:00",
          "2022-11-18T11:00:00+00:00",
          "2022-11-18T12:00:00+00:00",
          "2022-11-21T13:00:00+00:00",
          "2022-11-21T14:00:00+00:00",
          "2022-11-21T14:00:00+00:00",
          "2022-11-21T15:00:00+00:00",
          "2022-11-21T16:00:00+00:00",
          "2022-11-22T19:00:00+00:00"
         ],
         "xaxis": "x",
         "y": [
          "2c39ca35-0375-453f-881a-69e1328777e8",
          "07c5b792-78a8-45b4-b8b6-e6a58e1d11a0",
          "1ed2bd61-9418-4eac-a3d9-cce1f8745135",
          "abbfc1ab-440f-4bf1-9482-8492d73f75ee",
          "a03bbff9-5b11-4604-9359-8f48bf2b18ac",
          "78072393-0d0c-4340-9dff-a52e7e15cd7c",
          "41c3f605-bfc4-4812-b3de-d43f2f31e9a1",
          "d94642ca-077b-4a5c-b2c9-95c637eddc37",
          "5e8d3ff0-ed11-434e-9d50-22ea712a23b2",
          "61cc6cc2-4be6-4555-876c-1e7282a9830c",
          "c48f0e3f-7700-4038-83f9-744f293fb6ac",
          "d85245f2-437a-4047-9ef6-d7b408c3a0f8",
          "5fd41ee7-1862-44ef-bad8-f8eaa1c70409",
          "5b3d21fc-91f7-4657-96e5-66cdb30e7f98",
          "f46a39b7-8524-4bc1-9983-6ea39749bf8e",
          "a5eb96ae-9ea5-48d3-a111-fec84a9b91e7",
          "d2a07003-643b-4e83-8f10-053263a9fa9c",
          "32f6d575-fec6-4600-a60a-28bfc3097067",
          "90021c4a-7b2e-4bb8-bd15-d7350e29c8f2",
          "b732ebb7-ffe5-49f8-8c11-a3b9d3ae88c4",
          "92066053-8f74-4bf5-b5eb-420149e8f2bd",
          "6b4ce8ae-0ff2-4238-9e57-2a1116fa7298",
          "c0d08c3a-4a61-4dfe-a339-96f5449e5182",
          "b62d77a7-aad3-4a44-9720-8f890761af75",
          "5658b375-47d3-4945-b24d-92a9dae9a562",
          "bd32a9e2-5fa0-4c18-8673-0e6af528d05d",
          "f8592768-1560-4c92-9f41-5ab430d90515",
          "f4d04a91-1a86-4a90-af66-5a657b9efaa0",
          "b91cdc2f-4885-4e12-b411-036f1cc3f224",
          "b5ee61f7-c271-41f9-85f2-c3bdc5e3995a",
          "eaf61604-2745-4d05-8d84-0902fd94c285",
          "8e654bc0-8aa7-40e4-848d-2159b49a28fd",
          "f1216ee1-8b35-4713-ab01-743473365d49",
          "546336e5-5c3b-49f3-a9ec-3426e57f50f0",
          "be382161-2fa9-47c5-899c-cfb42cacde9e",
          "454c6ead-7a12-4d68-8bec-a2ed021eecd0",
          "de41eef7-50a5-46c5-a1d2-a45eb6871ede",
          "49177479-599b-4d78-bdf2-4c5e38749ad9",
          "cf6c661a-368a-40ef-b960-b9c6ede6c07b",
          "95228d1b-38bb-43a7-8a45-01794fc34d3f",
          "ba3674a1-a02c-4d33-a910-8cf952f8aa8a",
          "64508750-ec5e-41ba-824a-52a0748d4c33",
          "199b05de-dab4-4b3e-94b5-6711c617f999",
          "08480046-310e-4e8a-9f1e-c3d29d188175",
          "e203062a-f1ef-4793-9023-7c944310c60f",
          "1be43f89-03e9-4d43-a294-01a127214a9d",
          "0d2ec98b-7167-42fc-a052-3444b9278d5f",
          "2ac99059-c0d1-421a-aaa3-86e4c8a634d3",
          "cf133400-646b-4ccd-b051-f80713c969ce",
          "a9a659c5-8692-4d22-b183-7784f22af3b5",
          "b91b2c26-1b82-45e3-99a5-a1daeca0fd84",
          "f246a7c7-2f22-4160-a48a-1dc8c781bd17",
          "98141707-6a7a-4322-83e2-0be07fba7c1b",
          "deecfc23-819f-4a2a-9bf6-6efa3eb6fa82",
          "53c03d95-79e6-4a51-8de7-e3b997bd3a08",
          "e241174e-2df2-43c8-954e-98152a98355b",
          "93c6cee8-ce4d-469c-aa62-81c7c63308de",
          "75da3813-f3a3-4e09-96c8-c1a53196ec11",
          "b866bd7a-c50f-4d03-8d7b-6eb1af7b1325",
          "7aaca63d-f1c7-4a4a-b65a-e28826d92266",
          "870ae249-05fd-41d8-b215-d1c1c60abf63",
          "5d6cac24-b642-493b-8d69-38d674305c1d",
          "a210cfd8-02bd-4be1-8274-54fa4745d9da",
          "08619eef-0cf3-4961-bce1-1789602c14cc",
          "31cd2210-5c18-4d51-abe4-6ff282da179d",
          "8380bcc3-dca0-49e5-b37a-ebc2021be1b5",
          "8350d7d6-2a48-4cff-9f2f-859304bbb737",
          "e0fa7a0a-01c9-4846-87a4-a8331f02677d",
          "7eb5e75c-5273-4da4-b254-840aabf8738c",
          "ef6bcc5d-7d64-490b-968c-66b015f58fd8",
          "681413c0-31ca-467e-be90-a19c23ee6ca3",
          "dca5fde9-790d-43d3-8a15-b8092ae1be1b",
          "51f1df84-be1c-4976-bd36-e0bd1f444240",
          "6639ad32-36e1-453d-9f24-325a96bb40c0",
          "f42b8d0c-b21a-4a4f-86d3-87500eb99976",
          "b43ebb67-7a3f-400c-96eb-3f7936e543b4",
          "11270f42-71d0-4b39-abce-9d5d65499407",
          "3015fe72-1163-4573-9412-cd9d1894487c",
          "09c1de64-0c53-4440-9a77-f2d80f6ec7f8",
          "70c17720-4d41-445d-942d-80f40e012b7b",
          "80bdd941-ab78-40bd-9300-51534fb6e096",
          "c27be410-dac0-4ff9-b9bb-495c38c3c608",
          "4ef3fd3a-a7f9-411c-861b-d4b517490659",
          "87206ada-8ee3-4a97-9872-0468cfde504b",
          "34e90f17-a1e5-447e-8b81-a2f1477688cb",
          "0c0795d4-2d59-4915-b15c-65377feac988",
          "51302a4c-6415-4ca6-a802-6361aedeb867",
          "19c7c1c4-6dd1-461a-bd31-0f43d20d0c85",
          "07aa4d71-7f6b-4d84-ba4a-4cc3defd056e",
          "abf16eb2-2bbe-4011-90dc-7a8d109c273e",
          "84843fe7-b87f-4c1c-8c77-ca70443239bd",
          "9badc733-2b18-469d-ab29-7437bbcd9589",
          "25d34e11-63ae-4037-aa3d-28ba68ff7c2b",
          "0ee6126a-6c59-44c8-b53c-21bb9e5e09d7",
          "3872187e-081c-4c6d-8dc6-da4ee84bd641",
          "99d333c1-dafe-460f-bb15-0cfe61fc49cf",
          "43e521e1-9ec7-4711-b418-0e2c56506f0d",
          "c830a48b-79c8-4d41-b969-0d0b25f2e7d7",
          "03e3e1ed-f75d-453f-9907-f71f1181f9fb",
          "16364c90-6190-4b3d-8188-652398dd98da",
          "e74dc4d0-3785-4d1e-a7fb-60e498bf6a4d",
          "84fbffea-2609-4201-907f-7167eb5a93e5",
          "ac1ef397-a6f8-40d0-b699-ddb49b020dc2",
          "09377b6e-88f4-4d4b-806f-2530b3dfa3f6",
          "2d7fa546-f78c-411a-b518-f78f5b02a783",
          "5643ed24-569b-4329-b61f-15ead7a24850",
          "f82a6e11-7713-40e6-910e-8252ce3fd92f",
          "a0c744a1-33bf-4598-98c4-9fd9b4d57246",
          "9cf3da28-7e0f-4d47-a275-4285967897d8",
          "9dfcc82e-904b-47c8-847c-fdcf4de7f23a",
          "bbb0f05a-6df0-47ce-a647-a0691b2aa7c1",
          "9c25fcd3-2387-460a-a48b-3d8ab7081f28",
          "ec187594-a74a-472f-b3af-11c31bea11dd",
          "325f583c-919f-404f-b25f-14508193de81",
          "99b626d6-4e17-4784-8684-870d5bfaa048",
          "ecad51d2-26e2-4b8e-80a3-82a066631f28",
          "cfc40e57-bcee-4fb1-b15b-73892724d7a4",
          "a1cc388c-eea3-47c7-a862-936302d1eeca",
          "4f1a7324-c351-432f-8db9-dcad921a6d88",
          "a977e3eb-b514-4ac3-afc9-27c23390b3c0",
          "cc73b1e2-93e4-4cc4-b8d0-8d8e127f7380",
          "ce6c603b-2dbf-489a-b04c-21843210dd5c",
          "87d351d6-9527-4de8-87b2-211d3ab09743",
          "88318c9a-7d3b-4feb-bcc7-84ab20c82c7b",
          "88368966-2326-4ddb-a0db-38bbb6ee284c",
          "8bcb89e9-2447-4b75-afbd-4d11d1035679",
          "36e103bd-c010-4bc8-93d0-e27f30ef0c10",
          "41c9d970-eb23-43d3-bb5e-768374fe6135",
          "8f1dc14c-c480-4bdb-a248-9957a3a457d1",
          "df71085f-26d7-45af-961b-61b3fee0e61d",
          "6988b871-4832-4f7f-8dff-26df0605817a",
          "1e7df0fe-2560-4913-90f6-f04b94d35ce1"
         ],
         "yaxis": "y"
        }
       ],
       "layout": {
        "height": 600,
        "legend": {
         "tracegroupgap": 0
        },
        "template": {
         "data": {
          "bar": [
           {
            "error_x": {
             "color": "rgb(36,36,36)"
            },
            "error_y": {
             "color": "rgb(36,36,36)"
            },
            "marker": {
             "line": {
              "color": "rgb(234,234,242)",
              "width": 0.5
             },
             "pattern": {
              "fillmode": "overlay",
              "size": 10,
              "solidity": 0.2
             }
            },
            "type": "bar"
           }
          ],
          "barpolar": [
           {
            "marker": {
             "line": {
              "color": "rgb(234,234,242)",
              "width": 0.5
             },
             "pattern": {
              "fillmode": "overlay",
              "size": 10,
              "solidity": 0.2
             }
            },
            "type": "barpolar"
           }
          ],
          "carpet": [
           {
            "aaxis": {
             "endlinecolor": "rgb(36,36,36)",
             "gridcolor": "white",
             "linecolor": "white",
             "minorgridcolor": "white",
             "startlinecolor": "rgb(36,36,36)"
            },
            "baxis": {
             "endlinecolor": "rgb(36,36,36)",
             "gridcolor": "white",
             "linecolor": "white",
             "minorgridcolor": "white",
             "startlinecolor": "rgb(36,36,36)"
            },
            "type": "carpet"
           }
          ],
          "choropleth": [
           {
            "colorbar": {
             "outlinewidth": 0,
             "tickcolor": "rgb(36,36,36)",
             "ticklen": 8,
             "ticks": "outside",
             "tickwidth": 2
            },
            "type": "choropleth"
           }
          ],
          "contour": [
           {
            "colorbar": {
             "outlinewidth": 0,
             "tickcolor": "rgb(36,36,36)",
             "ticklen": 8,
             "ticks": "outside",
             "tickwidth": 2
            },
            "colorscale": [
             [
              0,
              "rgb(2,4,25)"
             ],
             [
              0.06274509803921569,
              "rgb(24,15,41)"
             ],
             [
              0.12549019607843137,
              "rgb(47,23,57)"
             ],
             [
              0.18823529411764706,
              "rgb(71,28,72)"
             ],
             [
              0.25098039215686274,
              "rgb(97,30,82)"
             ],
             [
              0.3137254901960784,
              "rgb(123,30,89)"
             ],
             [
              0.3764705882352941,
              "rgb(150,27,91)"
             ],
             [
              0.4392156862745098,
              "rgb(177,22,88)"
             ],
             [
              0.5019607843137255,
              "rgb(203,26,79)"
             ],
             [
              0.5647058823529412,
              "rgb(223,47,67)"
             ],
             [
              0.6274509803921569,
              "rgb(236,76,61)"
             ],
             [
              0.6901960784313725,
              "rgb(242,107,73)"
             ],
             [
              0.7529411764705882,
              "rgb(244,135,95)"
             ],
             [
              0.8156862745098039,
              "rgb(245,162,122)"
             ],
             [
              0.8784313725490196,
              "rgb(246,188,153)"
             ],
             [
              0.9411764705882353,
              "rgb(247,212,187)"
             ],
             [
              1,
              "rgb(250,234,220)"
             ]
            ],
            "type": "contour"
           }
          ],
          "contourcarpet": [
           {
            "colorbar": {
             "outlinewidth": 0,
             "tickcolor": "rgb(36,36,36)",
             "ticklen": 8,
             "ticks": "outside",
             "tickwidth": 2
            },
            "type": "contourcarpet"
           }
          ],
          "heatmap": [
           {
            "colorbar": {
             "outlinewidth": 0,
             "tickcolor": "rgb(36,36,36)",
             "ticklen": 8,
             "ticks": "outside",
             "tickwidth": 2
            },
            "colorscale": [
             [
              0,
              "rgb(2,4,25)"
             ],
             [
              0.06274509803921569,
              "rgb(24,15,41)"
             ],
             [
              0.12549019607843137,
              "rgb(47,23,57)"
             ],
             [
              0.18823529411764706,
              "rgb(71,28,72)"
             ],
             [
              0.25098039215686274,
              "rgb(97,30,82)"
             ],
             [
              0.3137254901960784,
              "rgb(123,30,89)"
             ],
             [
              0.3764705882352941,
              "rgb(150,27,91)"
             ],
             [
              0.4392156862745098,
              "rgb(177,22,88)"
             ],
             [
              0.5019607843137255,
              "rgb(203,26,79)"
             ],
             [
              0.5647058823529412,
              "rgb(223,47,67)"
             ],
             [
              0.6274509803921569,
              "rgb(236,76,61)"
             ],
             [
              0.6901960784313725,
              "rgb(242,107,73)"
             ],
             [
              0.7529411764705882,
              "rgb(244,135,95)"
             ],
             [
              0.8156862745098039,
              "rgb(245,162,122)"
             ],
             [
              0.8784313725490196,
              "rgb(246,188,153)"
             ],
             [
              0.9411764705882353,
              "rgb(247,212,187)"
             ],
             [
              1,
              "rgb(250,234,220)"
             ]
            ],
            "type": "heatmap"
           }
          ],
          "heatmapgl": [
           {
            "colorbar": {
             "outlinewidth": 0,
             "tickcolor": "rgb(36,36,36)",
             "ticklen": 8,
             "ticks": "outside",
             "tickwidth": 2
            },
            "colorscale": [
             [
              0,
              "rgb(2,4,25)"
             ],
             [
              0.06274509803921569,
              "rgb(24,15,41)"
             ],
             [
              0.12549019607843137,
              "rgb(47,23,57)"
             ],
             [
              0.18823529411764706,
              "rgb(71,28,72)"
             ],
             [
              0.25098039215686274,
              "rgb(97,30,82)"
             ],
             [
              0.3137254901960784,
              "rgb(123,30,89)"
             ],
             [
              0.3764705882352941,
              "rgb(150,27,91)"
             ],
             [
              0.4392156862745098,
              "rgb(177,22,88)"
             ],
             [
              0.5019607843137255,
              "rgb(203,26,79)"
             ],
             [
              0.5647058823529412,
              "rgb(223,47,67)"
             ],
             [
              0.6274509803921569,
              "rgb(236,76,61)"
             ],
             [
              0.6901960784313725,
              "rgb(242,107,73)"
             ],
             [
              0.7529411764705882,
              "rgb(244,135,95)"
             ],
             [
              0.8156862745098039,
              "rgb(245,162,122)"
             ],
             [
              0.8784313725490196,
              "rgb(246,188,153)"
             ],
             [
              0.9411764705882353,
              "rgb(247,212,187)"
             ],
             [
              1,
              "rgb(250,234,220)"
             ]
            ],
            "type": "heatmapgl"
           }
          ],
          "histogram": [
           {
            "marker": {
             "pattern": {
              "fillmode": "overlay",
              "size": 10,
              "solidity": 0.2
             }
            },
            "type": "histogram"
           }
          ],
          "histogram2d": [
           {
            "colorbar": {
             "outlinewidth": 0,
             "tickcolor": "rgb(36,36,36)",
             "ticklen": 8,
             "ticks": "outside",
             "tickwidth": 2
            },
            "colorscale": [
             [
              0,
              "rgb(2,4,25)"
             ],
             [
              0.06274509803921569,
              "rgb(24,15,41)"
             ],
             [
              0.12549019607843137,
              "rgb(47,23,57)"
             ],
             [
              0.18823529411764706,
              "rgb(71,28,72)"
             ],
             [
              0.25098039215686274,
              "rgb(97,30,82)"
             ],
             [
              0.3137254901960784,
              "rgb(123,30,89)"
             ],
             [
              0.3764705882352941,
              "rgb(150,27,91)"
             ],
             [
              0.4392156862745098,
              "rgb(177,22,88)"
             ],
             [
              0.5019607843137255,
              "rgb(203,26,79)"
             ],
             [
              0.5647058823529412,
              "rgb(223,47,67)"
             ],
             [
              0.6274509803921569,
              "rgb(236,76,61)"
             ],
             [
              0.6901960784313725,
              "rgb(242,107,73)"
             ],
             [
              0.7529411764705882,
              "rgb(244,135,95)"
             ],
             [
              0.8156862745098039,
              "rgb(245,162,122)"
             ],
             [
              0.8784313725490196,
              "rgb(246,188,153)"
             ],
             [
              0.9411764705882353,
              "rgb(247,212,187)"
             ],
             [
              1,
              "rgb(250,234,220)"
             ]
            ],
            "type": "histogram2d"
           }
          ],
          "histogram2dcontour": [
           {
            "colorbar": {
             "outlinewidth": 0,
             "tickcolor": "rgb(36,36,36)",
             "ticklen": 8,
             "ticks": "outside",
             "tickwidth": 2
            },
            "colorscale": [
             [
              0,
              "rgb(2,4,25)"
             ],
             [
              0.06274509803921569,
              "rgb(24,15,41)"
             ],
             [
              0.12549019607843137,
              "rgb(47,23,57)"
             ],
             [
              0.18823529411764706,
              "rgb(71,28,72)"
             ],
             [
              0.25098039215686274,
              "rgb(97,30,82)"
             ],
             [
              0.3137254901960784,
              "rgb(123,30,89)"
             ],
             [
              0.3764705882352941,
              "rgb(150,27,91)"
             ],
             [
              0.4392156862745098,
              "rgb(177,22,88)"
             ],
             [
              0.5019607843137255,
              "rgb(203,26,79)"
             ],
             [
              0.5647058823529412,
              "rgb(223,47,67)"
             ],
             [
              0.6274509803921569,
              "rgb(236,76,61)"
             ],
             [
              0.6901960784313725,
              "rgb(242,107,73)"
             ],
             [
              0.7529411764705882,
              "rgb(244,135,95)"
             ],
             [
              0.8156862745098039,
              "rgb(245,162,122)"
             ],
             [
              0.8784313725490196,
              "rgb(246,188,153)"
             ],
             [
              0.9411764705882353,
              "rgb(247,212,187)"
             ],
             [
              1,
              "rgb(250,234,220)"
             ]
            ],
            "type": "histogram2dcontour"
           }
          ],
          "mesh3d": [
           {
            "colorbar": {
             "outlinewidth": 0,
             "tickcolor": "rgb(36,36,36)",
             "ticklen": 8,
             "ticks": "outside",
             "tickwidth": 2
            },
            "type": "mesh3d"
           }
          ],
          "parcoords": [
           {
            "line": {
             "colorbar": {
              "outlinewidth": 0,
              "tickcolor": "rgb(36,36,36)",
              "ticklen": 8,
              "ticks": "outside",
              "tickwidth": 2
             }
            },
            "type": "parcoords"
           }
          ],
          "pie": [
           {
            "automargin": true,
            "type": "pie"
           }
          ],
          "scatter": [
           {
            "marker": {
             "colorbar": {
              "outlinewidth": 0,
              "tickcolor": "rgb(36,36,36)",
              "ticklen": 8,
              "ticks": "outside",
              "tickwidth": 2
             }
            },
            "type": "scatter"
           }
          ],
          "scatter3d": [
           {
            "line": {
             "colorbar": {
              "outlinewidth": 0,
              "tickcolor": "rgb(36,36,36)",
              "ticklen": 8,
              "ticks": "outside",
              "tickwidth": 2
             }
            },
            "marker": {
             "colorbar": {
              "outlinewidth": 0,
              "tickcolor": "rgb(36,36,36)",
              "ticklen": 8,
              "ticks": "outside",
              "tickwidth": 2
             }
            },
            "type": "scatter3d"
           }
          ],
          "scattercarpet": [
           {
            "marker": {
             "colorbar": {
              "outlinewidth": 0,
              "tickcolor": "rgb(36,36,36)",
              "ticklen": 8,
              "ticks": "outside",
              "tickwidth": 2
             }
            },
            "type": "scattercarpet"
           }
          ],
          "scattergeo": [
           {
            "marker": {
             "colorbar": {
              "outlinewidth": 0,
              "tickcolor": "rgb(36,36,36)",
              "ticklen": 8,
              "ticks": "outside",
              "tickwidth": 2
             }
            },
            "type": "scattergeo"
           }
          ],
          "scattergl": [
           {
            "marker": {
             "colorbar": {
              "outlinewidth": 0,
              "tickcolor": "rgb(36,36,36)",
              "ticklen": 8,
              "ticks": "outside",
              "tickwidth": 2
             }
            },
            "type": "scattergl"
           }
          ],
          "scattermapbox": [
           {
            "marker": {
             "colorbar": {
              "outlinewidth": 0,
              "tickcolor": "rgb(36,36,36)",
              "ticklen": 8,
              "ticks": "outside",
              "tickwidth": 2
             }
            },
            "type": "scattermapbox"
           }
          ],
          "scatterpolar": [
           {
            "marker": {
             "colorbar": {
              "outlinewidth": 0,
              "tickcolor": "rgb(36,36,36)",
              "ticklen": 8,
              "ticks": "outside",
              "tickwidth": 2
             }
            },
            "type": "scatterpolar"
           }
          ],
          "scatterpolargl": [
           {
            "marker": {
             "colorbar": {
              "outlinewidth": 0,
              "tickcolor": "rgb(36,36,36)",
              "ticklen": 8,
              "ticks": "outside",
              "tickwidth": 2
             }
            },
            "type": "scatterpolargl"
           }
          ],
          "scatterternary": [
           {
            "marker": {
             "colorbar": {
              "outlinewidth": 0,
              "tickcolor": "rgb(36,36,36)",
              "ticklen": 8,
              "ticks": "outside",
              "tickwidth": 2
             }
            },
            "type": "scatterternary"
           }
          ],
          "surface": [
           {
            "colorbar": {
             "outlinewidth": 0,
             "tickcolor": "rgb(36,36,36)",
             "ticklen": 8,
             "ticks": "outside",
             "tickwidth": 2
            },
            "colorscale": [
             [
              0,
              "rgb(2,4,25)"
             ],
             [
              0.06274509803921569,
              "rgb(24,15,41)"
             ],
             [
              0.12549019607843137,
              "rgb(47,23,57)"
             ],
             [
              0.18823529411764706,
              "rgb(71,28,72)"
             ],
             [
              0.25098039215686274,
              "rgb(97,30,82)"
             ],
             [
              0.3137254901960784,
              "rgb(123,30,89)"
             ],
             [
              0.3764705882352941,
              "rgb(150,27,91)"
             ],
             [
              0.4392156862745098,
              "rgb(177,22,88)"
             ],
             [
              0.5019607843137255,
              "rgb(203,26,79)"
             ],
             [
              0.5647058823529412,
              "rgb(223,47,67)"
             ],
             [
              0.6274509803921569,
              "rgb(236,76,61)"
             ],
             [
              0.6901960784313725,
              "rgb(242,107,73)"
             ],
             [
              0.7529411764705882,
              "rgb(244,135,95)"
             ],
             [
              0.8156862745098039,
              "rgb(245,162,122)"
             ],
             [
              0.8784313725490196,
              "rgb(246,188,153)"
             ],
             [
              0.9411764705882353,
              "rgb(247,212,187)"
             ],
             [
              1,
              "rgb(250,234,220)"
             ]
            ],
            "type": "surface"
           }
          ],
          "table": [
           {
            "cells": {
             "fill": {
              "color": "rgb(231,231,240)"
             },
             "line": {
              "color": "white"
             }
            },
            "header": {
             "fill": {
              "color": "rgb(183,183,191)"
             },
             "line": {
              "color": "white"
             }
            },
            "type": "table"
           }
          ]
         },
         "layout": {
          "annotationdefaults": {
           "arrowcolor": "rgb(67,103,167)"
          },
          "autotypenumbers": "strict",
          "coloraxis": {
           "colorbar": {
            "outlinewidth": 0,
            "tickcolor": "rgb(36,36,36)",
            "ticklen": 8,
            "ticks": "outside",
            "tickwidth": 2
           }
          },
          "colorscale": {
           "sequential": [
            [
             0,
             "rgb(2,4,25)"
            ],
            [
             0.06274509803921569,
             "rgb(24,15,41)"
            ],
            [
             0.12549019607843137,
             "rgb(47,23,57)"
            ],
            [
             0.18823529411764706,
             "rgb(71,28,72)"
            ],
            [
             0.25098039215686274,
             "rgb(97,30,82)"
            ],
            [
             0.3137254901960784,
             "rgb(123,30,89)"
            ],
            [
             0.3764705882352941,
             "rgb(150,27,91)"
            ],
            [
             0.4392156862745098,
             "rgb(177,22,88)"
            ],
            [
             0.5019607843137255,
             "rgb(203,26,79)"
            ],
            [
             0.5647058823529412,
             "rgb(223,47,67)"
            ],
            [
             0.6274509803921569,
             "rgb(236,76,61)"
            ],
            [
             0.6901960784313725,
             "rgb(242,107,73)"
            ],
            [
             0.7529411764705882,
             "rgb(244,135,95)"
            ],
            [
             0.8156862745098039,
             "rgb(245,162,122)"
            ],
            [
             0.8784313725490196,
             "rgb(246,188,153)"
            ],
            [
             0.9411764705882353,
             "rgb(247,212,187)"
            ],
            [
             1,
             "rgb(250,234,220)"
            ]
           ],
           "sequentialminus": [
            [
             0,
             "rgb(2,4,25)"
            ],
            [
             0.06274509803921569,
             "rgb(24,15,41)"
            ],
            [
             0.12549019607843137,
             "rgb(47,23,57)"
            ],
            [
             0.18823529411764706,
             "rgb(71,28,72)"
            ],
            [
             0.25098039215686274,
             "rgb(97,30,82)"
            ],
            [
             0.3137254901960784,
             "rgb(123,30,89)"
            ],
            [
             0.3764705882352941,
             "rgb(150,27,91)"
            ],
            [
             0.4392156862745098,
             "rgb(177,22,88)"
            ],
            [
             0.5019607843137255,
             "rgb(203,26,79)"
            ],
            [
             0.5647058823529412,
             "rgb(223,47,67)"
            ],
            [
             0.6274509803921569,
             "rgb(236,76,61)"
            ],
            [
             0.6901960784313725,
             "rgb(242,107,73)"
            ],
            [
             0.7529411764705882,
             "rgb(244,135,95)"
            ],
            [
             0.8156862745098039,
             "rgb(245,162,122)"
            ],
            [
             0.8784313725490196,
             "rgb(246,188,153)"
            ],
            [
             0.9411764705882353,
             "rgb(247,212,187)"
            ],
            [
             1,
             "rgb(250,234,220)"
            ]
           ]
          },
          "colorway": [
           "rgb(76,114,176)",
           "rgb(221,132,82)",
           "rgb(85,168,104)",
           "rgb(196,78,82)",
           "rgb(129,114,179)",
           "rgb(147,120,96)",
           "rgb(218,139,195)",
           "rgb(140,140,140)",
           "rgb(204,185,116)",
           "rgb(100,181,205)"
          ],
          "font": {
           "color": "rgb(36,36,36)"
          },
          "geo": {
           "bgcolor": "white",
           "lakecolor": "white",
           "landcolor": "rgb(234,234,242)",
           "showlakes": true,
           "showland": true,
           "subunitcolor": "white"
          },
          "hoverlabel": {
           "align": "left"
          },
          "hovermode": "closest",
          "paper_bgcolor": "white",
          "plot_bgcolor": "rgb(234,234,242)",
          "polar": {
           "angularaxis": {
            "gridcolor": "white",
            "linecolor": "white",
            "showgrid": true,
            "ticks": ""
           },
           "bgcolor": "rgb(234,234,242)",
           "radialaxis": {
            "gridcolor": "white",
            "linecolor": "white",
            "showgrid": true,
            "ticks": ""
           }
          },
          "scene": {
           "xaxis": {
            "backgroundcolor": "rgb(234,234,242)",
            "gridcolor": "white",
            "gridwidth": 2,
            "linecolor": "white",
            "showbackground": true,
            "showgrid": true,
            "ticks": "",
            "zerolinecolor": "white"
           },
           "yaxis": {
            "backgroundcolor": "rgb(234,234,242)",
            "gridcolor": "white",
            "gridwidth": 2,
            "linecolor": "white",
            "showbackground": true,
            "showgrid": true,
            "ticks": "",
            "zerolinecolor": "white"
           },
           "zaxis": {
            "backgroundcolor": "rgb(234,234,242)",
            "gridcolor": "white",
            "gridwidth": 2,
            "linecolor": "white",
            "showbackground": true,
            "showgrid": true,
            "ticks": "",
            "zerolinecolor": "white"
           }
          },
          "shapedefaults": {
           "fillcolor": "rgb(67,103,167)",
           "line": {
            "width": 0
           },
           "opacity": 0.5
          },
          "ternary": {
           "aaxis": {
            "gridcolor": "white",
            "linecolor": "white",
            "showgrid": true,
            "ticks": ""
           },
           "baxis": {
            "gridcolor": "white",
            "linecolor": "white",
            "showgrid": true,
            "ticks": ""
           },
           "bgcolor": "rgb(234,234,242)",
           "caxis": {
            "gridcolor": "white",
            "linecolor": "white",
            "showgrid": true,
            "ticks": ""
           }
          },
          "xaxis": {
           "automargin": true,
           "gridcolor": "white",
           "linecolor": "white",
           "showgrid": true,
           "ticks": "",
           "title": {
            "standoff": 15
           },
           "zerolinecolor": "white"
          },
          "yaxis": {
           "automargin": true,
           "gridcolor": "white",
           "linecolor": "white",
           "showgrid": true,
           "ticks": "",
           "title": {
            "standoff": 15
           },
           "zerolinecolor": "white"
          }
         }
        },
        "title": {
         "text": "Line Plot of Appointments"
        },
        "width": 1300,
        "xaxis": {
         "anchor": "y",
         "domain": [
          0,
          1
         ],
         "title": {
          "text": "start"
         }
        },
        "yaxis": {
         "anchor": "x",
         "domain": [
          0,
          1
         ],
         "showticklabels": false,
         "title": {
          "text": "key"
         },
         "visible": false
        }
       }
      }
     },
     "metadata": {},
     "output_type": "display_data"
    }
   ],
   "source": [
    "plot(df)"
   ]
  }
 ],
 "metadata": {
  "kernelspec": {
   "display_name": "Python 3",
   "language": "python",
   "name": "python3"
  },
  "language_info": {
   "codemirror_mode": {
    "name": "ipython",
    "version": 3
   },
   "file_extension": ".py",
   "mimetype": "text/x-python",
   "name": "python",
   "nbconvert_exporter": "python",
   "pygments_lexer": "ipython3",
   "version": "3.10.1"
  },
  "orig_nbformat": 4,
  "vscode": {
   "interpreter": {
    "hash": "aee8b7b246df8f9039afb4144a1f6fd8d2ca17a180786b69acc140d282b71a49"
   }
  }
 },
 "nbformat": 4,
 "nbformat_minor": 2
}
