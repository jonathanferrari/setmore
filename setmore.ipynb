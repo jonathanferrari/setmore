{
 "cells": [
  {
   "cell_type": "code",
   "execution_count": 75,
   "metadata": {},
   "outputs": [],
   "source": [
    "from setmore import *\n",
    "from IPython import *\n",
    "from IPython.display import *\n",
    "from ipywidgets import *\n",
    "import numpy as np\n",
    "import pandas as pd\n",
    "import plotly.express as px\n",
    "import plotly.figure_factory as ff\n",
    "import numpy as np"
   ]
  },
  {
   "cell_type": "code",
   "execution_count": 7,
   "metadata": {},
   "outputs": [],
   "source": [
    "df = get_appointments(\"01-06-2022\", \"01-11-2022\")"
   ]
  },
  {
   "cell_type": "code",
   "execution_count": 88,
   "metadata": {},
   "outputs": [
    {
     "data": {
      "application/vnd.plotly.v1+json": {
       "config": {
        "plotlyServerURL": "https://plot.ly"
       },
       "data": [
        {
         "alignmentgroup": "True",
         "box": {
          "visible": false
         },
         "hovertemplate": "length=Half-Hour<br>start=%{x}<extra></extra>",
         "legendgroup": "Half-Hour",
         "marker": {
          "color": "#636efa"
         },
         "name": "Half-Hour",
         "offsetgroup": "Half-Hour",
         "orientation": "h",
         "scalegroup": "True",
         "showlegend": true,
         "type": "violin",
         "x": [
          "2022-06-08T17:00:00+00:00",
          "2022-06-16T16:00:00+00:00",
          "2022-06-20T21:00:00+00:00",
          "2022-06-30T20:00:00+00:00",
          "2022-07-01T16:00:00+00:00",
          "2022-07-05T20:00:00+00:00",
          "2022-07-06T16:00:00+00:00",
          "2022-07-07T19:00:00+00:00",
          "2022-07-11T10:00:00+00:00",
          "2022-07-12T16:00:00+00:00",
          "2022-07-14T16:00:00+00:00",
          "2022-07-14T20:00:00+00:00",
          "2022-07-14T21:00:00+00:00",
          "2022-07-15T18:00:00+00:00",
          "2022-07-18T18:00:00+00:00",
          "2022-07-18T19:00:00+00:00",
          "2022-07-19T16:00:00+00:00",
          "2022-07-20T15:00:00+00:00",
          "2022-07-21T19:00:00+00:00",
          "2022-07-26T16:00:00+00:00",
          "2022-07-26T16:00:00+00:00",
          "2022-07-27T16:00:00+00:00",
          "2022-07-27T16:00:00+00:00",
          "2022-07-27T18:00:00+00:00",
          "2022-07-29T19:00:00+00:00",
          "2022-08-01T11:00:00+00:00",
          "2022-08-01T16:00:00+00:00",
          "2022-08-02T17:00:00+00:00",
          "2022-08-02T21:00:00+00:00",
          "2022-08-03T17:00:00+00:00",
          "2022-08-05T17:00:00+00:00",
          "2022-08-08T10:00:00+00:00",
          "2022-08-08T16:00:00+00:00",
          "2022-08-08T18:00:00+00:00",
          "2022-08-09T16:00:00+00:00",
          "2022-08-11T20:00:00+00:00",
          "2022-08-11T21:00:00+00:00",
          "2022-08-12T19:00:00+00:00",
          "2022-08-22T10:00:00+00:00",
          "2022-08-23T16:00:00+00:00",
          "2022-08-25T17:00:00+00:00",
          "2022-08-29T10:00:00+00:00",
          "2022-08-29T11:00:00+00:00",
          "2022-08-29T12:30:00+00:00",
          "2022-08-29T17:00:00+00:00",
          "2022-08-29T21:00:00+00:00",
          "2022-08-30T12:30:00+00:00",
          "2022-08-30T15:00:00+00:00",
          "2022-08-31T10:00:00+00:00",
          "2022-09-07T15:30:00+00:00",
          "2022-09-12T12:00:00+00:00",
          "2022-09-12T16:00:00+00:00",
          "2022-09-16T09:00:00+00:00",
          "2022-09-16T11:00:00+00:00",
          "2022-09-19T09:00:00+00:00",
          "2022-09-19T11:00:00+00:00",
          "2022-09-19T11:00:00+00:00",
          "2022-09-19T16:00:00+00:00",
          "2022-09-21T09:00:00+00:00",
          "2022-09-21T11:00:00+00:00",
          "2022-09-26T13:00:00+00:00",
          "2022-09-29T11:00:00+00:00",
          "2022-09-30T15:00:00+00:00",
          "2022-10-03T12:00:00+00:00",
          "2022-10-05T16:00:00+00:00",
          "2022-10-07T10:00:00+00:00",
          "2022-10-07T11:00:00+00:00",
          "2022-10-11T15:00:00+00:00",
          "2022-10-12T13:00:00+00:00",
          "2022-10-17T10:00:00+00:00",
          "2022-10-17T11:00:00+00:00",
          "2022-10-17T13:00:00+00:00",
          "2022-10-24T13:00:00+00:00"
         ],
         "x0": " ",
         "xaxis": "x",
         "y0": " ",
         "yaxis": "y"
        },
        {
         "alignmentgroup": "True",
         "box": {
          "visible": false
         },
         "hovertemplate": "length=Hour<br>start=%{x}<extra></extra>",
         "legendgroup": "Hour",
         "marker": {
          "color": "#EF553B"
         },
         "name": "Hour",
         "offsetgroup": "Hour",
         "orientation": "h",
         "scalegroup": "True",
         "showlegend": true,
         "type": "violin",
         "x": [
          "2022-06-09T15:00:00+00:00",
          "2022-06-13T16:00:00+00:00",
          "2022-06-13T17:00:00+00:00",
          "2022-06-14T20:00:00+00:00",
          "2022-06-15T15:00:00+00:00",
          "2022-06-18T16:00:00+00:00",
          "2022-06-20T20:00:00+00:00",
          "2022-06-21T16:00:00+00:00",
          "2022-06-27T16:00:00+00:00",
          "2022-07-11T16:00:00+00:00",
          "2022-07-11T17:00:00+00:00",
          "2022-07-11T18:00:00+00:00",
          "2022-07-13T15:00:00+00:00",
          "2022-07-18T16:00:00+00:00",
          "2022-07-19T15:00:00+00:00",
          "2022-07-19T17:00:00+00:00",
          "2022-07-19T20:00:00+00:00",
          "2022-07-20T16:00:00+00:00",
          "2022-07-20T16:00:00+00:00",
          "2022-07-20T17:00:00+00:00",
          "2022-07-20T20:00:00+00:00",
          "2022-07-22T18:00:00+00:00",
          "2022-07-25T17:00:00+00:00",
          "2022-07-25T18:00:00+00:00",
          "2022-07-27T15:00:00+00:00",
          "2022-07-27T17:00:00+00:00",
          "2022-07-28T20:00:00+00:00",
          "2022-08-01T10:00:00+00:00",
          "2022-08-05T20:00:00+00:00",
          "2022-08-08T20:00:00+00:00",
          "2022-08-09T20:00:00+00:00",
          "2022-08-11T16:00:00+00:00",
          "2022-08-12T17:00:00+00:00",
          "2022-08-12T18:00:00+00:00",
          "2022-08-17T09:00:00+00:00",
          "2022-08-18T14:00:00+00:00",
          "2022-08-24T16:00:00+00:00",
          "2022-08-24T17:00:00+00:00",
          "2022-08-25T14:00:00+00:00",
          "2022-08-31T09:00:00+00:00",
          "2022-09-12T15:00:00+00:00",
          "2022-09-14T12:30:00+00:00",
          "2022-09-15T13:00:00+00:00",
          "2022-09-15T14:00:00+00:00",
          "2022-09-15T14:30:00+00:00",
          "2022-09-19T12:00:00+00:00",
          "2022-09-22T16:00:00+00:00",
          "2022-09-23T11:00:00+00:00",
          "2022-09-27T09:00:00+00:00",
          "2022-09-28T10:00:00+00:00",
          "2022-09-28T11:00:00+00:00",
          "2022-09-29T09:30:00+00:00",
          "2022-10-03T10:00:00+00:00",
          "2022-10-03T11:00:00+00:00",
          "2022-10-03T15:00:00+00:00",
          "2022-10-10T11:00:00+00:00",
          "2022-10-11T13:00:00+00:00",
          "2022-10-11T14:00:00+00:00",
          "2022-10-11T15:00:00+00:00",
          "2022-10-12T14:00:00+00:00",
          "2022-10-13T10:00:00+00:00",
          "2022-10-13T10:30:00+00:00",
          "2022-10-17T12:00:00+00:00",
          "2022-10-19T09:00:00+00:00",
          "2022-10-20T12:00:00+00:00",
          "2022-10-24T12:00:00+00:00",
          "2022-10-24T14:00:00+00:00",
          "2022-10-24T14:00:00+00:00",
          "2022-10-24T15:00:00+00:00",
          "2022-10-25T14:00:00+00:00",
          "2022-10-25T14:00:00+00:00",
          "2022-10-25T15:00:00+00:00",
          "2022-10-26T10:00:00+00:00",
          "2022-10-26T14:00:00+00:00",
          "2022-10-26T14:00:00+00:00",
          "2022-10-27T18:00:00+00:00",
          "2022-10-27T19:00:00+00:00",
          "2022-10-28T09:00:00+00:00",
          "2022-10-28T11:00:00+00:00",
          "2022-10-28T12:00:00+00:00",
          "2022-10-28T12:00:00+00:00",
          "2022-10-31T11:00:00+00:00",
          "2022-10-31T11:00:00+00:00",
          "2022-10-31T12:00:00+00:00",
          "2022-10-31T12:00:00+00:00",
          "2022-11-01T13:00:00+00:00",
          "2022-11-01T14:00:00+00:00",
          "2022-11-01T15:00:00+00:00",
          "2022-11-01T16:00:00+00:00"
         ],
         "x0": " ",
         "xaxis": "x",
         "y0": " ",
         "yaxis": "y"
        }
       ],
       "layout": {
        "legend": {
         "title": {
          "text": "length"
         },
         "tracegroupgap": 0
        },
        "margin": {
         "t": 60
        },
        "template": {
         "data": {
          "bar": [
           {
            "error_x": {
             "color": "#2a3f5f"
            },
            "error_y": {
             "color": "#2a3f5f"
            },
            "marker": {
             "line": {
              "color": "#E5ECF6",
              "width": 0.5
             },
             "pattern": {
              "fillmode": "overlay",
              "size": 10,
              "solidity": 0.2
             }
            },
            "type": "bar"
           }
          ],
          "barpolar": [
           {
            "marker": {
             "line": {
              "color": "#E5ECF6",
              "width": 0.5
             },
             "pattern": {
              "fillmode": "overlay",
              "size": 10,
              "solidity": 0.2
             }
            },
            "type": "barpolar"
           }
          ],
          "carpet": [
           {
            "aaxis": {
             "endlinecolor": "#2a3f5f",
             "gridcolor": "white",
             "linecolor": "white",
             "minorgridcolor": "white",
             "startlinecolor": "#2a3f5f"
            },
            "baxis": {
             "endlinecolor": "#2a3f5f",
             "gridcolor": "white",
             "linecolor": "white",
             "minorgridcolor": "white",
             "startlinecolor": "#2a3f5f"
            },
            "type": "carpet"
           }
          ],
          "choropleth": [
           {
            "colorbar": {
             "outlinewidth": 0,
             "ticks": ""
            },
            "type": "choropleth"
           }
          ],
          "contour": [
           {
            "colorbar": {
             "outlinewidth": 0,
             "ticks": ""
            },
            "colorscale": [
             [
              0,
              "#0d0887"
             ],
             [
              0.1111111111111111,
              "#46039f"
             ],
             [
              0.2222222222222222,
              "#7201a8"
             ],
             [
              0.3333333333333333,
              "#9c179e"
             ],
             [
              0.4444444444444444,
              "#bd3786"
             ],
             [
              0.5555555555555556,
              "#d8576b"
             ],
             [
              0.6666666666666666,
              "#ed7953"
             ],
             [
              0.7777777777777778,
              "#fb9f3a"
             ],
             [
              0.8888888888888888,
              "#fdca26"
             ],
             [
              1,
              "#f0f921"
             ]
            ],
            "type": "contour"
           }
          ],
          "contourcarpet": [
           {
            "colorbar": {
             "outlinewidth": 0,
             "ticks": ""
            },
            "type": "contourcarpet"
           }
          ],
          "heatmap": [
           {
            "colorbar": {
             "outlinewidth": 0,
             "ticks": ""
            },
            "colorscale": [
             [
              0,
              "#0d0887"
             ],
             [
              0.1111111111111111,
              "#46039f"
             ],
             [
              0.2222222222222222,
              "#7201a8"
             ],
             [
              0.3333333333333333,
              "#9c179e"
             ],
             [
              0.4444444444444444,
              "#bd3786"
             ],
             [
              0.5555555555555556,
              "#d8576b"
             ],
             [
              0.6666666666666666,
              "#ed7953"
             ],
             [
              0.7777777777777778,
              "#fb9f3a"
             ],
             [
              0.8888888888888888,
              "#fdca26"
             ],
             [
              1,
              "#f0f921"
             ]
            ],
            "type": "heatmap"
           }
          ],
          "heatmapgl": [
           {
            "colorbar": {
             "outlinewidth": 0,
             "ticks": ""
            },
            "colorscale": [
             [
              0,
              "#0d0887"
             ],
             [
              0.1111111111111111,
              "#46039f"
             ],
             [
              0.2222222222222222,
              "#7201a8"
             ],
             [
              0.3333333333333333,
              "#9c179e"
             ],
             [
              0.4444444444444444,
              "#bd3786"
             ],
             [
              0.5555555555555556,
              "#d8576b"
             ],
             [
              0.6666666666666666,
              "#ed7953"
             ],
             [
              0.7777777777777778,
              "#fb9f3a"
             ],
             [
              0.8888888888888888,
              "#fdca26"
             ],
             [
              1,
              "#f0f921"
             ]
            ],
            "type": "heatmapgl"
           }
          ],
          "histogram": [
           {
            "marker": {
             "pattern": {
              "fillmode": "overlay",
              "size": 10,
              "solidity": 0.2
             }
            },
            "type": "histogram"
           }
          ],
          "histogram2d": [
           {
            "colorbar": {
             "outlinewidth": 0,
             "ticks": ""
            },
            "colorscale": [
             [
              0,
              "#0d0887"
             ],
             [
              0.1111111111111111,
              "#46039f"
             ],
             [
              0.2222222222222222,
              "#7201a8"
             ],
             [
              0.3333333333333333,
              "#9c179e"
             ],
             [
              0.4444444444444444,
              "#bd3786"
             ],
             [
              0.5555555555555556,
              "#d8576b"
             ],
             [
              0.6666666666666666,
              "#ed7953"
             ],
             [
              0.7777777777777778,
              "#fb9f3a"
             ],
             [
              0.8888888888888888,
              "#fdca26"
             ],
             [
              1,
              "#f0f921"
             ]
            ],
            "type": "histogram2d"
           }
          ],
          "histogram2dcontour": [
           {
            "colorbar": {
             "outlinewidth": 0,
             "ticks": ""
            },
            "colorscale": [
             [
              0,
              "#0d0887"
             ],
             [
              0.1111111111111111,
              "#46039f"
             ],
             [
              0.2222222222222222,
              "#7201a8"
             ],
             [
              0.3333333333333333,
              "#9c179e"
             ],
             [
              0.4444444444444444,
              "#bd3786"
             ],
             [
              0.5555555555555556,
              "#d8576b"
             ],
             [
              0.6666666666666666,
              "#ed7953"
             ],
             [
              0.7777777777777778,
              "#fb9f3a"
             ],
             [
              0.8888888888888888,
              "#fdca26"
             ],
             [
              1,
              "#f0f921"
             ]
            ],
            "type": "histogram2dcontour"
           }
          ],
          "mesh3d": [
           {
            "colorbar": {
             "outlinewidth": 0,
             "ticks": ""
            },
            "type": "mesh3d"
           }
          ],
          "parcoords": [
           {
            "line": {
             "colorbar": {
              "outlinewidth": 0,
              "ticks": ""
             }
            },
            "type": "parcoords"
           }
          ],
          "pie": [
           {
            "automargin": true,
            "type": "pie"
           }
          ],
          "scatter": [
           {
            "marker": {
             "colorbar": {
              "outlinewidth": 0,
              "ticks": ""
             }
            },
            "type": "scatter"
           }
          ],
          "scatter3d": [
           {
            "line": {
             "colorbar": {
              "outlinewidth": 0,
              "ticks": ""
             }
            },
            "marker": {
             "colorbar": {
              "outlinewidth": 0,
              "ticks": ""
             }
            },
            "type": "scatter3d"
           }
          ],
          "scattercarpet": [
           {
            "marker": {
             "colorbar": {
              "outlinewidth": 0,
              "ticks": ""
             }
            },
            "type": "scattercarpet"
           }
          ],
          "scattergeo": [
           {
            "marker": {
             "colorbar": {
              "outlinewidth": 0,
              "ticks": ""
             }
            },
            "type": "scattergeo"
           }
          ],
          "scattergl": [
           {
            "marker": {
             "colorbar": {
              "outlinewidth": 0,
              "ticks": ""
             }
            },
            "type": "scattergl"
           }
          ],
          "scattermapbox": [
           {
            "marker": {
             "colorbar": {
              "outlinewidth": 0,
              "ticks": ""
             }
            },
            "type": "scattermapbox"
           }
          ],
          "scatterpolar": [
           {
            "marker": {
             "colorbar": {
              "outlinewidth": 0,
              "ticks": ""
             }
            },
            "type": "scatterpolar"
           }
          ],
          "scatterpolargl": [
           {
            "marker": {
             "colorbar": {
              "outlinewidth": 0,
              "ticks": ""
             }
            },
            "type": "scatterpolargl"
           }
          ],
          "scatterternary": [
           {
            "marker": {
             "colorbar": {
              "outlinewidth": 0,
              "ticks": ""
             }
            },
            "type": "scatterternary"
           }
          ],
          "surface": [
           {
            "colorbar": {
             "outlinewidth": 0,
             "ticks": ""
            },
            "colorscale": [
             [
              0,
              "#0d0887"
             ],
             [
              0.1111111111111111,
              "#46039f"
             ],
             [
              0.2222222222222222,
              "#7201a8"
             ],
             [
              0.3333333333333333,
              "#9c179e"
             ],
             [
              0.4444444444444444,
              "#bd3786"
             ],
             [
              0.5555555555555556,
              "#d8576b"
             ],
             [
              0.6666666666666666,
              "#ed7953"
             ],
             [
              0.7777777777777778,
              "#fb9f3a"
             ],
             [
              0.8888888888888888,
              "#fdca26"
             ],
             [
              1,
              "#f0f921"
             ]
            ],
            "type": "surface"
           }
          ],
          "table": [
           {
            "cells": {
             "fill": {
              "color": "#EBF0F8"
             },
             "line": {
              "color": "white"
             }
            },
            "header": {
             "fill": {
              "color": "#C8D4E3"
             },
             "line": {
              "color": "white"
             }
            },
            "type": "table"
           }
          ]
         },
         "layout": {
          "annotationdefaults": {
           "arrowcolor": "#2a3f5f",
           "arrowhead": 0,
           "arrowwidth": 1
          },
          "autotypenumbers": "strict",
          "coloraxis": {
           "colorbar": {
            "outlinewidth": 0,
            "ticks": ""
           }
          },
          "colorscale": {
           "diverging": [
            [
             0,
             "#8e0152"
            ],
            [
             0.1,
             "#c51b7d"
            ],
            [
             0.2,
             "#de77ae"
            ],
            [
             0.3,
             "#f1b6da"
            ],
            [
             0.4,
             "#fde0ef"
            ],
            [
             0.5,
             "#f7f7f7"
            ],
            [
             0.6,
             "#e6f5d0"
            ],
            [
             0.7,
             "#b8e186"
            ],
            [
             0.8,
             "#7fbc41"
            ],
            [
             0.9,
             "#4d9221"
            ],
            [
             1,
             "#276419"
            ]
           ],
           "sequential": [
            [
             0,
             "#0d0887"
            ],
            [
             0.1111111111111111,
             "#46039f"
            ],
            [
             0.2222222222222222,
             "#7201a8"
            ],
            [
             0.3333333333333333,
             "#9c179e"
            ],
            [
             0.4444444444444444,
             "#bd3786"
            ],
            [
             0.5555555555555556,
             "#d8576b"
            ],
            [
             0.6666666666666666,
             "#ed7953"
            ],
            [
             0.7777777777777778,
             "#fb9f3a"
            ],
            [
             0.8888888888888888,
             "#fdca26"
            ],
            [
             1,
             "#f0f921"
            ]
           ],
           "sequentialminus": [
            [
             0,
             "#0d0887"
            ],
            [
             0.1111111111111111,
             "#46039f"
            ],
            [
             0.2222222222222222,
             "#7201a8"
            ],
            [
             0.3333333333333333,
             "#9c179e"
            ],
            [
             0.4444444444444444,
             "#bd3786"
            ],
            [
             0.5555555555555556,
             "#d8576b"
            ],
            [
             0.6666666666666666,
             "#ed7953"
            ],
            [
             0.7777777777777778,
             "#fb9f3a"
            ],
            [
             0.8888888888888888,
             "#fdca26"
            ],
            [
             1,
             "#f0f921"
            ]
           ]
          },
          "colorway": [
           "#636efa",
           "#EF553B",
           "#00cc96",
           "#ab63fa",
           "#FFA15A",
           "#19d3f3",
           "#FF6692",
           "#B6E880",
           "#FF97FF",
           "#FECB52"
          ],
          "font": {
           "color": "#2a3f5f"
          },
          "geo": {
           "bgcolor": "white",
           "lakecolor": "white",
           "landcolor": "#E5ECF6",
           "showlakes": true,
           "showland": true,
           "subunitcolor": "white"
          },
          "hoverlabel": {
           "align": "left"
          },
          "hovermode": "closest",
          "mapbox": {
           "style": "light"
          },
          "paper_bgcolor": "white",
          "plot_bgcolor": "#E5ECF6",
          "polar": {
           "angularaxis": {
            "gridcolor": "white",
            "linecolor": "white",
            "ticks": ""
           },
           "bgcolor": "#E5ECF6",
           "radialaxis": {
            "gridcolor": "white",
            "linecolor": "white",
            "ticks": ""
           }
          },
          "scene": {
           "xaxis": {
            "backgroundcolor": "#E5ECF6",
            "gridcolor": "white",
            "gridwidth": 2,
            "linecolor": "white",
            "showbackground": true,
            "ticks": "",
            "zerolinecolor": "white"
           },
           "yaxis": {
            "backgroundcolor": "#E5ECF6",
            "gridcolor": "white",
            "gridwidth": 2,
            "linecolor": "white",
            "showbackground": true,
            "ticks": "",
            "zerolinecolor": "white"
           },
           "zaxis": {
            "backgroundcolor": "#E5ECF6",
            "gridcolor": "white",
            "gridwidth": 2,
            "linecolor": "white",
            "showbackground": true,
            "ticks": "",
            "zerolinecolor": "white"
           }
          },
          "shapedefaults": {
           "line": {
            "color": "#2a3f5f"
           }
          },
          "ternary": {
           "aaxis": {
            "gridcolor": "white",
            "linecolor": "white",
            "ticks": ""
           },
           "baxis": {
            "gridcolor": "white",
            "linecolor": "white",
            "ticks": ""
           },
           "bgcolor": "#E5ECF6",
           "caxis": {
            "gridcolor": "white",
            "linecolor": "white",
            "ticks": ""
           }
          },
          "title": {
           "x": 0.05
          },
          "xaxis": {
           "automargin": true,
           "gridcolor": "white",
           "linecolor": "white",
           "ticks": "",
           "title": {
            "standoff": 15
           },
           "zerolinecolor": "white",
           "zerolinewidth": 2
          },
          "yaxis": {
           "automargin": true,
           "gridcolor": "white",
           "linecolor": "white",
           "ticks": "",
           "title": {
            "standoff": 15
           },
           "zerolinecolor": "white",
           "zerolinewidth": 2
          }
         }
        },
        "violinmode": "group",
        "xaxis": {
         "anchor": "y",
         "domain": [
          0,
          1
         ],
         "title": {
          "text": "start"
         }
        },
        "yaxis": {
         "anchor": "x",
         "domain": [
          0,
          1
         ]
        }
       }
      }
     },
     "metadata": {},
     "output_type": "display_data"
    }
   ],
   "source": [
    "px.violin(df, x = \"start\", color = \"length\")"
   ]
  },
  {
   "cell_type": "code",
   "execution_count": 64,
   "metadata": {},
   "outputs": [
    {
     "data": {
      "application/vnd.plotly.v1+json": {
       "config": {
        "plotlyServerURL": "https://plot.ly"
       },
       "data": [
        {
         "alignmentgroup": "True",
         "boxpoints": "all",
         "fillcolor": "rgba(255,255,255,0)",
         "hoveron": "points",
         "hovertemplate": "staff=%{y}<br>start=%{x}<extra></extra>",
         "legendgroup": "Jonathan Ferrari ",
         "line": {
          "color": "rgba(255,255,255,0)"
         },
         "marker": {
          "color": "rgb(76,114,176)"
         },
         "name": "Jonathan Ferrari ",
         "offsetgroup": "Jonathan Ferrari ",
         "orientation": "v",
         "pointpos": 0,
         "showlegend": true,
         "type": "box",
         "x": [
          "2022-06-08T17:00:00+00:00",
          "2022-06-09T15:00:00+00:00",
          "2022-06-13T16:00:00+00:00",
          "2022-06-13T17:00:00+00:00",
          "2022-06-14T20:00:00+00:00",
          "2022-06-15T15:00:00+00:00",
          "2022-06-16T16:00:00+00:00",
          "2022-06-18T16:00:00+00:00",
          "2022-06-20T20:00:00+00:00",
          "2022-06-20T21:00:00+00:00",
          "2022-06-21T16:00:00+00:00",
          "2022-06-27T16:00:00+00:00",
          "2022-06-30T20:00:00+00:00",
          "2022-07-01T16:00:00+00:00",
          "2022-07-05T20:00:00+00:00",
          "2022-07-06T16:00:00+00:00",
          "2022-07-07T19:00:00+00:00",
          "2022-07-11T16:00:00+00:00",
          "2022-07-11T17:00:00+00:00",
          "2022-07-11T18:00:00+00:00",
          "2022-07-12T16:00:00+00:00",
          "2022-07-14T16:00:00+00:00",
          "2022-07-14T20:00:00+00:00",
          "2022-07-14T21:00:00+00:00",
          "2022-07-15T18:00:00+00:00",
          "2022-07-18T16:00:00+00:00",
          "2022-07-18T18:00:00+00:00",
          "2022-07-18T19:00:00+00:00",
          "2022-07-19T16:00:00+00:00",
          "2022-07-19T17:00:00+00:00",
          "2022-07-19T20:00:00+00:00",
          "2022-07-20T16:00:00+00:00",
          "2022-07-20T17:00:00+00:00",
          "2022-07-20T20:00:00+00:00",
          "2022-07-21T19:00:00+00:00",
          "2022-07-22T18:00:00+00:00",
          "2022-07-25T17:00:00+00:00",
          "2022-07-25T18:00:00+00:00",
          "2022-07-26T16:00:00+00:00",
          "2022-07-27T16:00:00+00:00",
          "2022-07-27T17:00:00+00:00",
          "2022-07-27T18:00:00+00:00",
          "2022-07-28T20:00:00+00:00",
          "2022-07-29T19:00:00+00:00",
          "2022-08-01T16:00:00+00:00",
          "2022-08-02T17:00:00+00:00",
          "2022-08-02T21:00:00+00:00",
          "2022-08-03T17:00:00+00:00",
          "2022-08-05T17:00:00+00:00",
          "2022-08-05T20:00:00+00:00",
          "2022-08-08T16:00:00+00:00",
          "2022-08-08T18:00:00+00:00",
          "2022-08-08T20:00:00+00:00",
          "2022-08-09T16:00:00+00:00",
          "2022-08-09T20:00:00+00:00",
          "2022-08-11T16:00:00+00:00",
          "2022-08-11T20:00:00+00:00",
          "2022-08-11T21:00:00+00:00",
          "2022-08-12T17:00:00+00:00",
          "2022-08-12T18:00:00+00:00",
          "2022-08-12T19:00:00+00:00",
          "2022-08-29T12:30:00+00:00",
          "2022-08-29T17:00:00+00:00",
          "2022-08-29T21:00:00+00:00",
          "2022-08-30T12:30:00+00:00",
          "2022-09-07T15:30:00+00:00",
          "2022-09-14T12:30:00+00:00",
          "2022-09-19T11:00:00+00:00",
          "2022-09-27T09:00:00+00:00",
          "2022-10-03T11:00:00+00:00",
          "2022-10-10T11:00:00+00:00",
          "2022-10-13T10:00:00+00:00",
          "2022-10-26T14:00:00+00:00",
          "2022-10-27T19:00:00+00:00",
          "2022-10-31T11:00:00+00:00",
          "2022-10-31T12:00:00+00:00"
         ],
         "x0": " ",
         "xaxis": "x",
         "y": [
          "Jonathan Ferrari ",
          "Jonathan Ferrari ",
          "Jonathan Ferrari ",
          "Jonathan Ferrari ",
          "Jonathan Ferrari ",
          "Jonathan Ferrari ",
          "Jonathan Ferrari ",
          "Jonathan Ferrari ",
          "Jonathan Ferrari ",
          "Jonathan Ferrari ",
          "Jonathan Ferrari ",
          "Jonathan Ferrari ",
          "Jonathan Ferrari ",
          "Jonathan Ferrari ",
          "Jonathan Ferrari ",
          "Jonathan Ferrari ",
          "Jonathan Ferrari ",
          "Jonathan Ferrari ",
          "Jonathan Ferrari ",
          "Jonathan Ferrari ",
          "Jonathan Ferrari ",
          "Jonathan Ferrari ",
          "Jonathan Ferrari ",
          "Jonathan Ferrari ",
          "Jonathan Ferrari ",
          "Jonathan Ferrari ",
          "Jonathan Ferrari ",
          "Jonathan Ferrari ",
          "Jonathan Ferrari ",
          "Jonathan Ferrari ",
          "Jonathan Ferrari ",
          "Jonathan Ferrari ",
          "Jonathan Ferrari ",
          "Jonathan Ferrari ",
          "Jonathan Ferrari ",
          "Jonathan Ferrari ",
          "Jonathan Ferrari ",
          "Jonathan Ferrari ",
          "Jonathan Ferrari ",
          "Jonathan Ferrari ",
          "Jonathan Ferrari ",
          "Jonathan Ferrari ",
          "Jonathan Ferrari ",
          "Jonathan Ferrari ",
          "Jonathan Ferrari ",
          "Jonathan Ferrari ",
          "Jonathan Ferrari ",
          "Jonathan Ferrari ",
          "Jonathan Ferrari ",
          "Jonathan Ferrari ",
          "Jonathan Ferrari ",
          "Jonathan Ferrari ",
          "Jonathan Ferrari ",
          "Jonathan Ferrari ",
          "Jonathan Ferrari ",
          "Jonathan Ferrari ",
          "Jonathan Ferrari ",
          "Jonathan Ferrari ",
          "Jonathan Ferrari ",
          "Jonathan Ferrari ",
          "Jonathan Ferrari ",
          "Jonathan Ferrari ",
          "Jonathan Ferrari ",
          "Jonathan Ferrari ",
          "Jonathan Ferrari ",
          "Jonathan Ferrari ",
          "Jonathan Ferrari ",
          "Jonathan Ferrari ",
          "Jonathan Ferrari ",
          "Jonathan Ferrari ",
          "Jonathan Ferrari ",
          "Jonathan Ferrari ",
          "Jonathan Ferrari ",
          "Jonathan Ferrari ",
          "Jonathan Ferrari ",
          "Jonathan Ferrari "
         ],
         "y0": " ",
         "yaxis": "y"
        },
        {
         "alignmentgroup": "True",
         "boxpoints": "all",
         "fillcolor": "rgba(255,255,255,0)",
         "hoveron": "points",
         "hovertemplate": "staff=%{y}<br>start=%{x}<extra></extra>",
         "legendgroup": "Katherin Velazquez ",
         "line": {
          "color": "rgba(255,255,255,0)"
         },
         "marker": {
          "color": "rgb(221,132,82)"
         },
         "name": "Katherin Velazquez ",
         "offsetgroup": "Katherin Velazquez ",
         "orientation": "v",
         "pointpos": 0,
         "showlegend": true,
         "type": "box",
         "x": [
          "2022-07-11T10:00:00+00:00",
          "2022-07-13T15:00:00+00:00",
          "2022-07-19T15:00:00+00:00",
          "2022-07-20T15:00:00+00:00",
          "2022-07-20T16:00:00+00:00",
          "2022-07-26T16:00:00+00:00",
          "2022-07-27T15:00:00+00:00",
          "2022-07-27T16:00:00+00:00",
          "2022-08-01T10:00:00+00:00",
          "2022-08-01T11:00:00+00:00",
          "2022-08-08T10:00:00+00:00",
          "2022-08-29T11:00:00+00:00",
          "2022-08-30T15:00:00+00:00",
          "2022-09-19T16:00:00+00:00",
          "2022-09-29T09:30:00+00:00",
          "2022-09-29T11:00:00+00:00",
          "2022-10-20T12:00:00+00:00"
         ],
         "x0": " ",
         "xaxis": "x",
         "y": [
          "Katherin Velazquez ",
          "Katherin Velazquez ",
          "Katherin Velazquez ",
          "Katherin Velazquez ",
          "Katherin Velazquez ",
          "Katherin Velazquez ",
          "Katherin Velazquez ",
          "Katherin Velazquez ",
          "Katherin Velazquez ",
          "Katherin Velazquez ",
          "Katherin Velazquez ",
          "Katherin Velazquez ",
          "Katherin Velazquez ",
          "Katherin Velazquez ",
          "Katherin Velazquez ",
          "Katherin Velazquez ",
          "Katherin Velazquez "
         ],
         "y0": " ",
         "yaxis": "y"
        },
        {
         "alignmentgroup": "True",
         "boxpoints": "all",
         "fillcolor": "rgba(255,255,255,0)",
         "hoveron": "points",
         "hovertemplate": "staff=%{y}<br>start=%{x}<extra></extra>",
         "legendgroup": "Trae Sebastian ",
         "line": {
          "color": "rgba(255,255,255,0)"
         },
         "marker": {
          "color": "rgb(85,168,104)"
         },
         "name": "Trae Sebastian ",
         "offsetgroup": "Trae Sebastian ",
         "orientation": "v",
         "pointpos": 0,
         "showlegend": true,
         "type": "box",
         "x": [
          "2022-08-17T09:00:00+00:00",
          "2022-08-18T14:00:00+00:00",
          "2022-08-22T10:00:00+00:00",
          "2022-08-23T16:00:00+00:00",
          "2022-08-24T16:00:00+00:00",
          "2022-08-24T17:00:00+00:00",
          "2022-08-25T14:00:00+00:00",
          "2022-08-25T17:00:00+00:00",
          "2022-09-15T13:00:00+00:00",
          "2022-09-15T14:00:00+00:00",
          "2022-09-22T16:00:00+00:00",
          "2022-10-11T15:00:00+00:00",
          "2022-10-25T14:00:00+00:00",
          "2022-10-25T15:00:00+00:00",
          "2022-10-27T18:00:00+00:00",
          "2022-11-01T16:00:00+00:00"
         ],
         "x0": " ",
         "xaxis": "x",
         "y": [
          "Trae Sebastian ",
          "Trae Sebastian ",
          "Trae Sebastian ",
          "Trae Sebastian ",
          "Trae Sebastian ",
          "Trae Sebastian ",
          "Trae Sebastian ",
          "Trae Sebastian ",
          "Trae Sebastian ",
          "Trae Sebastian ",
          "Trae Sebastian ",
          "Trae Sebastian ",
          "Trae Sebastian ",
          "Trae Sebastian ",
          "Trae Sebastian ",
          "Trae Sebastian "
         ],
         "y0": " ",
         "yaxis": "y"
        },
        {
         "alignmentgroup": "True",
         "boxpoints": "all",
         "fillcolor": "rgba(255,255,255,0)",
         "hoveron": "points",
         "hovertemplate": "staff=%{y}<br>start=%{x}<extra></extra>",
         "legendgroup": "Victoria Dinov ",
         "line": {
          "color": "rgba(255,255,255,0)"
         },
         "marker": {
          "color": "rgb(196,78,82)"
         },
         "name": "Victoria Dinov ",
         "offsetgroup": "Victoria Dinov ",
         "orientation": "v",
         "pointpos": 0,
         "showlegend": true,
         "type": "box",
         "x": [
          "2022-08-29T10:00:00+00:00",
          "2022-09-15T14:30:00+00:00",
          "2022-10-03T12:00:00+00:00",
          "2022-10-12T14:00:00+00:00",
          "2022-10-24T14:00:00+00:00",
          "2022-10-25T14:00:00+00:00",
          "2022-10-31T12:00:00+00:00"
         ],
         "x0": " ",
         "xaxis": "x",
         "y": [
          "Victoria Dinov ",
          "Victoria Dinov ",
          "Victoria Dinov ",
          "Victoria Dinov ",
          "Victoria Dinov ",
          "Victoria Dinov ",
          "Victoria Dinov "
         ],
         "y0": " ",
         "yaxis": "y"
        },
        {
         "alignmentgroup": "True",
         "boxpoints": "all",
         "fillcolor": "rgba(255,255,255,0)",
         "hoveron": "points",
         "hovertemplate": "staff=%{y}<br>start=%{x}<extra></extra>",
         "legendgroup": "Jaqueline Verduzco ",
         "line": {
          "color": "rgba(255,255,255,0)"
         },
         "marker": {
          "color": "rgb(129,114,179)"
         },
         "name": "Jaqueline Verduzco ",
         "offsetgroup": "Jaqueline Verduzco ",
         "orientation": "v",
         "pointpos": 0,
         "showlegend": true,
         "type": "box",
         "x": [
          "2022-08-31T09:00:00+00:00",
          "2022-08-31T10:00:00+00:00",
          "2022-09-12T12:00:00+00:00",
          "2022-09-12T15:00:00+00:00",
          "2022-09-16T11:00:00+00:00",
          "2022-09-19T09:00:00+00:00",
          "2022-09-19T11:00:00+00:00",
          "2022-09-19T12:00:00+00:00",
          "2022-09-23T11:00:00+00:00",
          "2022-09-26T13:00:00+00:00",
          "2022-09-28T10:00:00+00:00",
          "2022-09-28T11:00:00+00:00",
          "2022-09-30T15:00:00+00:00",
          "2022-10-07T11:00:00+00:00",
          "2022-10-24T12:00:00+00:00",
          "2022-10-24T14:00:00+00:00",
          "2022-10-24T15:00:00+00:00",
          "2022-10-28T11:00:00+00:00",
          "2022-10-28T12:00:00+00:00"
         ],
         "x0": " ",
         "xaxis": "x",
         "y": [
          "Jaqueline Verduzco ",
          "Jaqueline Verduzco ",
          "Jaqueline Verduzco ",
          "Jaqueline Verduzco ",
          "Jaqueline Verduzco ",
          "Jaqueline Verduzco ",
          "Jaqueline Verduzco ",
          "Jaqueline Verduzco ",
          "Jaqueline Verduzco ",
          "Jaqueline Verduzco ",
          "Jaqueline Verduzco ",
          "Jaqueline Verduzco ",
          "Jaqueline Verduzco ",
          "Jaqueline Verduzco ",
          "Jaqueline Verduzco ",
          "Jaqueline Verduzco ",
          "Jaqueline Verduzco ",
          "Jaqueline Verduzco ",
          "Jaqueline Verduzco "
         ],
         "y0": " ",
         "yaxis": "y"
        },
        {
         "alignmentgroup": "True",
         "boxpoints": "all",
         "fillcolor": "rgba(255,255,255,0)",
         "hoveron": "points",
         "hovertemplate": "staff=%{y}<br>start=%{x}<extra></extra>",
         "legendgroup": "Myles Jefferson ",
         "line": {
          "color": "rgba(255,255,255,0)"
         },
         "marker": {
          "color": "rgb(147,120,96)"
         },
         "name": "Myles Jefferson ",
         "offsetgroup": "Myles Jefferson ",
         "orientation": "v",
         "pointpos": 0,
         "showlegend": true,
         "type": "box",
         "x": [
          "2022-09-12T16:00:00+00:00",
          "2022-10-03T15:00:00+00:00",
          "2022-10-05T16:00:00+00:00",
          "2022-10-26T14:00:00+00:00",
          "2022-10-28T09:00:00+00:00"
         ],
         "x0": " ",
         "xaxis": "x",
         "y": [
          "Myles Jefferson ",
          "Myles Jefferson ",
          "Myles Jefferson ",
          "Myles Jefferson ",
          "Myles Jefferson "
         ],
         "y0": " ",
         "yaxis": "y"
        },
        {
         "alignmentgroup": "True",
         "boxpoints": "all",
         "fillcolor": "rgba(255,255,255,0)",
         "hoveron": "points",
         "hovertemplate": "staff=%{y}<br>start=%{x}<extra></extra>",
         "legendgroup": "Kavya Dasari ",
         "line": {
          "color": "rgba(255,255,255,0)"
         },
         "marker": {
          "color": "rgb(218,139,195)"
         },
         "name": "Kavya Dasari ",
         "offsetgroup": "Kavya Dasari ",
         "orientation": "v",
         "pointpos": 0,
         "showlegend": true,
         "type": "box",
         "x": [
          "2022-09-16T09:00:00+00:00",
          "2022-09-21T09:00:00+00:00",
          "2022-09-21T11:00:00+00:00",
          "2022-10-07T10:00:00+00:00",
          "2022-10-13T10:30:00+00:00",
          "2022-10-19T09:00:00+00:00",
          "2022-10-26T10:00:00+00:00",
          "2022-10-28T12:00:00+00:00"
         ],
         "x0": " ",
         "xaxis": "x",
         "y": [
          "Kavya Dasari ",
          "Kavya Dasari ",
          "Kavya Dasari ",
          "Kavya Dasari ",
          "Kavya Dasari ",
          "Kavya Dasari ",
          "Kavya Dasari ",
          "Kavya Dasari "
         ],
         "y0": " ",
         "yaxis": "y"
        },
        {
         "alignmentgroup": "True",
         "boxpoints": "all",
         "fillcolor": "rgba(255,255,255,0)",
         "hoveron": "points",
         "hovertemplate": "staff=%{y}<br>start=%{x}<extra></extra>",
         "legendgroup": "Victoria Cantrell ",
         "line": {
          "color": "rgba(255,255,255,0)"
         },
         "marker": {
          "color": "rgb(140,140,140)"
         },
         "name": "Victoria Cantrell ",
         "offsetgroup": "Victoria Cantrell ",
         "orientation": "v",
         "pointpos": 0,
         "showlegend": true,
         "type": "box",
         "x": [
          "2022-10-03T10:00:00+00:00",
          "2022-10-12T13:00:00+00:00",
          "2022-10-17T10:00:00+00:00",
          "2022-10-17T11:00:00+00:00",
          "2022-10-17T12:00:00+00:00",
          "2022-10-17T13:00:00+00:00",
          "2022-10-24T13:00:00+00:00",
          "2022-10-31T11:00:00+00:00"
         ],
         "x0": " ",
         "xaxis": "x",
         "y": [
          "Victoria Cantrell ",
          "Victoria Cantrell ",
          "Victoria Cantrell ",
          "Victoria Cantrell ",
          "Victoria Cantrell ",
          "Victoria Cantrell ",
          "Victoria Cantrell ",
          "Victoria Cantrell "
         ],
         "y0": " ",
         "yaxis": "y"
        },
        {
         "alignmentgroup": "True",
         "boxpoints": "all",
         "fillcolor": "rgba(255,255,255,0)",
         "hoveron": "points",
         "hovertemplate": "staff=%{y}<br>start=%{x}<extra></extra>",
         "legendgroup": "Elsy Lewis ",
         "line": {
          "color": "rgba(255,255,255,0)"
         },
         "marker": {
          "color": "rgb(204,185,116)"
         },
         "name": "Elsy Lewis ",
         "offsetgroup": "Elsy Lewis ",
         "orientation": "v",
         "pointpos": 0,
         "showlegend": true,
         "type": "box",
         "x": [
          "2022-10-11T13:00:00+00:00",
          "2022-10-11T14:00:00+00:00",
          "2022-10-11T15:00:00+00:00",
          "2022-11-01T13:00:00+00:00",
          "2022-11-01T14:00:00+00:00",
          "2022-11-01T15:00:00+00:00"
         ],
         "x0": " ",
         "xaxis": "x",
         "y": [
          "Elsy Lewis ",
          "Elsy Lewis ",
          "Elsy Lewis ",
          "Elsy Lewis ",
          "Elsy Lewis ",
          "Elsy Lewis "
         ],
         "y0": " ",
         "yaxis": "y"
        }
       ],
       "layout": {
        "boxmode": "group",
        "legend": {
         "title": {
          "text": "staff"
         },
         "tracegroupgap": 0
        },
        "margin": {
         "t": 60
        },
        "template": {
         "data": {
          "bar": [
           {
            "error_x": {
             "color": "rgb(36,36,36)"
            },
            "error_y": {
             "color": "rgb(36,36,36)"
            },
            "marker": {
             "line": {
              "color": "rgb(234,234,242)",
              "width": 0.5
             },
             "pattern": {
              "fillmode": "overlay",
              "size": 10,
              "solidity": 0.2
             }
            },
            "type": "bar"
           }
          ],
          "barpolar": [
           {
            "marker": {
             "line": {
              "color": "rgb(234,234,242)",
              "width": 0.5
             },
             "pattern": {
              "fillmode": "overlay",
              "size": 10,
              "solidity": 0.2
             }
            },
            "type": "barpolar"
           }
          ],
          "carpet": [
           {
            "aaxis": {
             "endlinecolor": "rgb(36,36,36)",
             "gridcolor": "white",
             "linecolor": "white",
             "minorgridcolor": "white",
             "startlinecolor": "rgb(36,36,36)"
            },
            "baxis": {
             "endlinecolor": "rgb(36,36,36)",
             "gridcolor": "white",
             "linecolor": "white",
             "minorgridcolor": "white",
             "startlinecolor": "rgb(36,36,36)"
            },
            "type": "carpet"
           }
          ],
          "choropleth": [
           {
            "colorbar": {
             "outlinewidth": 0,
             "tickcolor": "rgb(36,36,36)",
             "ticklen": 8,
             "ticks": "outside",
             "tickwidth": 2
            },
            "type": "choropleth"
           }
          ],
          "contour": [
           {
            "colorbar": {
             "outlinewidth": 0,
             "tickcolor": "rgb(36,36,36)",
             "ticklen": 8,
             "ticks": "outside",
             "tickwidth": 2
            },
            "colorscale": [
             [
              0,
              "rgb(2,4,25)"
             ],
             [
              0.06274509803921569,
              "rgb(24,15,41)"
             ],
             [
              0.12549019607843137,
              "rgb(47,23,57)"
             ],
             [
              0.18823529411764706,
              "rgb(71,28,72)"
             ],
             [
              0.25098039215686274,
              "rgb(97,30,82)"
             ],
             [
              0.3137254901960784,
              "rgb(123,30,89)"
             ],
             [
              0.3764705882352941,
              "rgb(150,27,91)"
             ],
             [
              0.4392156862745098,
              "rgb(177,22,88)"
             ],
             [
              0.5019607843137255,
              "rgb(203,26,79)"
             ],
             [
              0.5647058823529412,
              "rgb(223,47,67)"
             ],
             [
              0.6274509803921569,
              "rgb(236,76,61)"
             ],
             [
              0.6901960784313725,
              "rgb(242,107,73)"
             ],
             [
              0.7529411764705882,
              "rgb(244,135,95)"
             ],
             [
              0.8156862745098039,
              "rgb(245,162,122)"
             ],
             [
              0.8784313725490196,
              "rgb(246,188,153)"
             ],
             [
              0.9411764705882353,
              "rgb(247,212,187)"
             ],
             [
              1,
              "rgb(250,234,220)"
             ]
            ],
            "type": "contour"
           }
          ],
          "contourcarpet": [
           {
            "colorbar": {
             "outlinewidth": 0,
             "tickcolor": "rgb(36,36,36)",
             "ticklen": 8,
             "ticks": "outside",
             "tickwidth": 2
            },
            "type": "contourcarpet"
           }
          ],
          "heatmap": [
           {
            "colorbar": {
             "outlinewidth": 0,
             "tickcolor": "rgb(36,36,36)",
             "ticklen": 8,
             "ticks": "outside",
             "tickwidth": 2
            },
            "colorscale": [
             [
              0,
              "rgb(2,4,25)"
             ],
             [
              0.06274509803921569,
              "rgb(24,15,41)"
             ],
             [
              0.12549019607843137,
              "rgb(47,23,57)"
             ],
             [
              0.18823529411764706,
              "rgb(71,28,72)"
             ],
             [
              0.25098039215686274,
              "rgb(97,30,82)"
             ],
             [
              0.3137254901960784,
              "rgb(123,30,89)"
             ],
             [
              0.3764705882352941,
              "rgb(150,27,91)"
             ],
             [
              0.4392156862745098,
              "rgb(177,22,88)"
             ],
             [
              0.5019607843137255,
              "rgb(203,26,79)"
             ],
             [
              0.5647058823529412,
              "rgb(223,47,67)"
             ],
             [
              0.6274509803921569,
              "rgb(236,76,61)"
             ],
             [
              0.6901960784313725,
              "rgb(242,107,73)"
             ],
             [
              0.7529411764705882,
              "rgb(244,135,95)"
             ],
             [
              0.8156862745098039,
              "rgb(245,162,122)"
             ],
             [
              0.8784313725490196,
              "rgb(246,188,153)"
             ],
             [
              0.9411764705882353,
              "rgb(247,212,187)"
             ],
             [
              1,
              "rgb(250,234,220)"
             ]
            ],
            "type": "heatmap"
           }
          ],
          "heatmapgl": [
           {
            "colorbar": {
             "outlinewidth": 0,
             "tickcolor": "rgb(36,36,36)",
             "ticklen": 8,
             "ticks": "outside",
             "tickwidth": 2
            },
            "colorscale": [
             [
              0,
              "rgb(2,4,25)"
             ],
             [
              0.06274509803921569,
              "rgb(24,15,41)"
             ],
             [
              0.12549019607843137,
              "rgb(47,23,57)"
             ],
             [
              0.18823529411764706,
              "rgb(71,28,72)"
             ],
             [
              0.25098039215686274,
              "rgb(97,30,82)"
             ],
             [
              0.3137254901960784,
              "rgb(123,30,89)"
             ],
             [
              0.3764705882352941,
              "rgb(150,27,91)"
             ],
             [
              0.4392156862745098,
              "rgb(177,22,88)"
             ],
             [
              0.5019607843137255,
              "rgb(203,26,79)"
             ],
             [
              0.5647058823529412,
              "rgb(223,47,67)"
             ],
             [
              0.6274509803921569,
              "rgb(236,76,61)"
             ],
             [
              0.6901960784313725,
              "rgb(242,107,73)"
             ],
             [
              0.7529411764705882,
              "rgb(244,135,95)"
             ],
             [
              0.8156862745098039,
              "rgb(245,162,122)"
             ],
             [
              0.8784313725490196,
              "rgb(246,188,153)"
             ],
             [
              0.9411764705882353,
              "rgb(247,212,187)"
             ],
             [
              1,
              "rgb(250,234,220)"
             ]
            ],
            "type": "heatmapgl"
           }
          ],
          "histogram": [
           {
            "marker": {
             "pattern": {
              "fillmode": "overlay",
              "size": 10,
              "solidity": 0.2
             }
            },
            "type": "histogram"
           }
          ],
          "histogram2d": [
           {
            "colorbar": {
             "outlinewidth": 0,
             "tickcolor": "rgb(36,36,36)",
             "ticklen": 8,
             "ticks": "outside",
             "tickwidth": 2
            },
            "colorscale": [
             [
              0,
              "rgb(2,4,25)"
             ],
             [
              0.06274509803921569,
              "rgb(24,15,41)"
             ],
             [
              0.12549019607843137,
              "rgb(47,23,57)"
             ],
             [
              0.18823529411764706,
              "rgb(71,28,72)"
             ],
             [
              0.25098039215686274,
              "rgb(97,30,82)"
             ],
             [
              0.3137254901960784,
              "rgb(123,30,89)"
             ],
             [
              0.3764705882352941,
              "rgb(150,27,91)"
             ],
             [
              0.4392156862745098,
              "rgb(177,22,88)"
             ],
             [
              0.5019607843137255,
              "rgb(203,26,79)"
             ],
             [
              0.5647058823529412,
              "rgb(223,47,67)"
             ],
             [
              0.6274509803921569,
              "rgb(236,76,61)"
             ],
             [
              0.6901960784313725,
              "rgb(242,107,73)"
             ],
             [
              0.7529411764705882,
              "rgb(244,135,95)"
             ],
             [
              0.8156862745098039,
              "rgb(245,162,122)"
             ],
             [
              0.8784313725490196,
              "rgb(246,188,153)"
             ],
             [
              0.9411764705882353,
              "rgb(247,212,187)"
             ],
             [
              1,
              "rgb(250,234,220)"
             ]
            ],
            "type": "histogram2d"
           }
          ],
          "histogram2dcontour": [
           {
            "colorbar": {
             "outlinewidth": 0,
             "tickcolor": "rgb(36,36,36)",
             "ticklen": 8,
             "ticks": "outside",
             "tickwidth": 2
            },
            "colorscale": [
             [
              0,
              "rgb(2,4,25)"
             ],
             [
              0.06274509803921569,
              "rgb(24,15,41)"
             ],
             [
              0.12549019607843137,
              "rgb(47,23,57)"
             ],
             [
              0.18823529411764706,
              "rgb(71,28,72)"
             ],
             [
              0.25098039215686274,
              "rgb(97,30,82)"
             ],
             [
              0.3137254901960784,
              "rgb(123,30,89)"
             ],
             [
              0.3764705882352941,
              "rgb(150,27,91)"
             ],
             [
              0.4392156862745098,
              "rgb(177,22,88)"
             ],
             [
              0.5019607843137255,
              "rgb(203,26,79)"
             ],
             [
              0.5647058823529412,
              "rgb(223,47,67)"
             ],
             [
              0.6274509803921569,
              "rgb(236,76,61)"
             ],
             [
              0.6901960784313725,
              "rgb(242,107,73)"
             ],
             [
              0.7529411764705882,
              "rgb(244,135,95)"
             ],
             [
              0.8156862745098039,
              "rgb(245,162,122)"
             ],
             [
              0.8784313725490196,
              "rgb(246,188,153)"
             ],
             [
              0.9411764705882353,
              "rgb(247,212,187)"
             ],
             [
              1,
              "rgb(250,234,220)"
             ]
            ],
            "type": "histogram2dcontour"
           }
          ],
          "mesh3d": [
           {
            "colorbar": {
             "outlinewidth": 0,
             "tickcolor": "rgb(36,36,36)",
             "ticklen": 8,
             "ticks": "outside",
             "tickwidth": 2
            },
            "type": "mesh3d"
           }
          ],
          "parcoords": [
           {
            "line": {
             "colorbar": {
              "outlinewidth": 0,
              "tickcolor": "rgb(36,36,36)",
              "ticklen": 8,
              "ticks": "outside",
              "tickwidth": 2
             }
            },
            "type": "parcoords"
           }
          ],
          "pie": [
           {
            "automargin": true,
            "type": "pie"
           }
          ],
          "scatter": [
           {
            "marker": {
             "colorbar": {
              "outlinewidth": 0,
              "tickcolor": "rgb(36,36,36)",
              "ticklen": 8,
              "ticks": "outside",
              "tickwidth": 2
             }
            },
            "type": "scatter"
           }
          ],
          "scatter3d": [
           {
            "line": {
             "colorbar": {
              "outlinewidth": 0,
              "tickcolor": "rgb(36,36,36)",
              "ticklen": 8,
              "ticks": "outside",
              "tickwidth": 2
             }
            },
            "marker": {
             "colorbar": {
              "outlinewidth": 0,
              "tickcolor": "rgb(36,36,36)",
              "ticklen": 8,
              "ticks": "outside",
              "tickwidth": 2
             }
            },
            "type": "scatter3d"
           }
          ],
          "scattercarpet": [
           {
            "marker": {
             "colorbar": {
              "outlinewidth": 0,
              "tickcolor": "rgb(36,36,36)",
              "ticklen": 8,
              "ticks": "outside",
              "tickwidth": 2
             }
            },
            "type": "scattercarpet"
           }
          ],
          "scattergeo": [
           {
            "marker": {
             "colorbar": {
              "outlinewidth": 0,
              "tickcolor": "rgb(36,36,36)",
              "ticklen": 8,
              "ticks": "outside",
              "tickwidth": 2
             }
            },
            "type": "scattergeo"
           }
          ],
          "scattergl": [
           {
            "marker": {
             "colorbar": {
              "outlinewidth": 0,
              "tickcolor": "rgb(36,36,36)",
              "ticklen": 8,
              "ticks": "outside",
              "tickwidth": 2
             }
            },
            "type": "scattergl"
           }
          ],
          "scattermapbox": [
           {
            "marker": {
             "colorbar": {
              "outlinewidth": 0,
              "tickcolor": "rgb(36,36,36)",
              "ticklen": 8,
              "ticks": "outside",
              "tickwidth": 2
             }
            },
            "type": "scattermapbox"
           }
          ],
          "scatterpolar": [
           {
            "marker": {
             "colorbar": {
              "outlinewidth": 0,
              "tickcolor": "rgb(36,36,36)",
              "ticklen": 8,
              "ticks": "outside",
              "tickwidth": 2
             }
            },
            "type": "scatterpolar"
           }
          ],
          "scatterpolargl": [
           {
            "marker": {
             "colorbar": {
              "outlinewidth": 0,
              "tickcolor": "rgb(36,36,36)",
              "ticklen": 8,
              "ticks": "outside",
              "tickwidth": 2
             }
            },
            "type": "scatterpolargl"
           }
          ],
          "scatterternary": [
           {
            "marker": {
             "colorbar": {
              "outlinewidth": 0,
              "tickcolor": "rgb(36,36,36)",
              "ticklen": 8,
              "ticks": "outside",
              "tickwidth": 2
             }
            },
            "type": "scatterternary"
           }
          ],
          "surface": [
           {
            "colorbar": {
             "outlinewidth": 0,
             "tickcolor": "rgb(36,36,36)",
             "ticklen": 8,
             "ticks": "outside",
             "tickwidth": 2
            },
            "colorscale": [
             [
              0,
              "rgb(2,4,25)"
             ],
             [
              0.06274509803921569,
              "rgb(24,15,41)"
             ],
             [
              0.12549019607843137,
              "rgb(47,23,57)"
             ],
             [
              0.18823529411764706,
              "rgb(71,28,72)"
             ],
             [
              0.25098039215686274,
              "rgb(97,30,82)"
             ],
             [
              0.3137254901960784,
              "rgb(123,30,89)"
             ],
             [
              0.3764705882352941,
              "rgb(150,27,91)"
             ],
             [
              0.4392156862745098,
              "rgb(177,22,88)"
             ],
             [
              0.5019607843137255,
              "rgb(203,26,79)"
             ],
             [
              0.5647058823529412,
              "rgb(223,47,67)"
             ],
             [
              0.6274509803921569,
              "rgb(236,76,61)"
             ],
             [
              0.6901960784313725,
              "rgb(242,107,73)"
             ],
             [
              0.7529411764705882,
              "rgb(244,135,95)"
             ],
             [
              0.8156862745098039,
              "rgb(245,162,122)"
             ],
             [
              0.8784313725490196,
              "rgb(246,188,153)"
             ],
             [
              0.9411764705882353,
              "rgb(247,212,187)"
             ],
             [
              1,
              "rgb(250,234,220)"
             ]
            ],
            "type": "surface"
           }
          ],
          "table": [
           {
            "cells": {
             "fill": {
              "color": "rgb(231,231,240)"
             },
             "line": {
              "color": "white"
             }
            },
            "header": {
             "fill": {
              "color": "rgb(183,183,191)"
             },
             "line": {
              "color": "white"
             }
            },
            "type": "table"
           }
          ]
         },
         "layout": {
          "annotationdefaults": {
           "arrowcolor": "rgb(67,103,167)"
          },
          "autotypenumbers": "strict",
          "coloraxis": {
           "colorbar": {
            "outlinewidth": 0,
            "tickcolor": "rgb(36,36,36)",
            "ticklen": 8,
            "ticks": "outside",
            "tickwidth": 2
           }
          },
          "colorscale": {
           "sequential": [
            [
             0,
             "rgb(2,4,25)"
            ],
            [
             0.06274509803921569,
             "rgb(24,15,41)"
            ],
            [
             0.12549019607843137,
             "rgb(47,23,57)"
            ],
            [
             0.18823529411764706,
             "rgb(71,28,72)"
            ],
            [
             0.25098039215686274,
             "rgb(97,30,82)"
            ],
            [
             0.3137254901960784,
             "rgb(123,30,89)"
            ],
            [
             0.3764705882352941,
             "rgb(150,27,91)"
            ],
            [
             0.4392156862745098,
             "rgb(177,22,88)"
            ],
            [
             0.5019607843137255,
             "rgb(203,26,79)"
            ],
            [
             0.5647058823529412,
             "rgb(223,47,67)"
            ],
            [
             0.6274509803921569,
             "rgb(236,76,61)"
            ],
            [
             0.6901960784313725,
             "rgb(242,107,73)"
            ],
            [
             0.7529411764705882,
             "rgb(244,135,95)"
            ],
            [
             0.8156862745098039,
             "rgb(245,162,122)"
            ],
            [
             0.8784313725490196,
             "rgb(246,188,153)"
            ],
            [
             0.9411764705882353,
             "rgb(247,212,187)"
            ],
            [
             1,
             "rgb(250,234,220)"
            ]
           ],
           "sequentialminus": [
            [
             0,
             "rgb(2,4,25)"
            ],
            [
             0.06274509803921569,
             "rgb(24,15,41)"
            ],
            [
             0.12549019607843137,
             "rgb(47,23,57)"
            ],
            [
             0.18823529411764706,
             "rgb(71,28,72)"
            ],
            [
             0.25098039215686274,
             "rgb(97,30,82)"
            ],
            [
             0.3137254901960784,
             "rgb(123,30,89)"
            ],
            [
             0.3764705882352941,
             "rgb(150,27,91)"
            ],
            [
             0.4392156862745098,
             "rgb(177,22,88)"
            ],
            [
             0.5019607843137255,
             "rgb(203,26,79)"
            ],
            [
             0.5647058823529412,
             "rgb(223,47,67)"
            ],
            [
             0.6274509803921569,
             "rgb(236,76,61)"
            ],
            [
             0.6901960784313725,
             "rgb(242,107,73)"
            ],
            [
             0.7529411764705882,
             "rgb(244,135,95)"
            ],
            [
             0.8156862745098039,
             "rgb(245,162,122)"
            ],
            [
             0.8784313725490196,
             "rgb(246,188,153)"
            ],
            [
             0.9411764705882353,
             "rgb(247,212,187)"
            ],
            [
             1,
             "rgb(250,234,220)"
            ]
           ]
          },
          "colorway": [
           "rgb(76,114,176)",
           "rgb(221,132,82)",
           "rgb(85,168,104)",
           "rgb(196,78,82)",
           "rgb(129,114,179)",
           "rgb(147,120,96)",
           "rgb(218,139,195)",
           "rgb(140,140,140)",
           "rgb(204,185,116)",
           "rgb(100,181,205)"
          ],
          "font": {
           "color": "rgb(36,36,36)"
          },
          "geo": {
           "bgcolor": "white",
           "lakecolor": "white",
           "landcolor": "rgb(234,234,242)",
           "showlakes": true,
           "showland": true,
           "subunitcolor": "white"
          },
          "hoverlabel": {
           "align": "left"
          },
          "hovermode": "closest",
          "paper_bgcolor": "white",
          "plot_bgcolor": "rgb(234,234,242)",
          "polar": {
           "angularaxis": {
            "gridcolor": "white",
            "linecolor": "white",
            "showgrid": true,
            "ticks": ""
           },
           "bgcolor": "rgb(234,234,242)",
           "radialaxis": {
            "gridcolor": "white",
            "linecolor": "white",
            "showgrid": true,
            "ticks": ""
           }
          },
          "scene": {
           "xaxis": {
            "backgroundcolor": "rgb(234,234,242)",
            "gridcolor": "white",
            "gridwidth": 2,
            "linecolor": "white",
            "showbackground": true,
            "showgrid": true,
            "ticks": "",
            "zerolinecolor": "white"
           },
           "yaxis": {
            "backgroundcolor": "rgb(234,234,242)",
            "gridcolor": "white",
            "gridwidth": 2,
            "linecolor": "white",
            "showbackground": true,
            "showgrid": true,
            "ticks": "",
            "zerolinecolor": "white"
           },
           "zaxis": {
            "backgroundcolor": "rgb(234,234,242)",
            "gridcolor": "white",
            "gridwidth": 2,
            "linecolor": "white",
            "showbackground": true,
            "showgrid": true,
            "ticks": "",
            "zerolinecolor": "white"
           }
          },
          "shapedefaults": {
           "fillcolor": "rgb(67,103,167)",
           "line": {
            "width": 0
           },
           "opacity": 0.5
          },
          "ternary": {
           "aaxis": {
            "gridcolor": "white",
            "linecolor": "white",
            "showgrid": true,
            "ticks": ""
           },
           "baxis": {
            "gridcolor": "white",
            "linecolor": "white",
            "showgrid": true,
            "ticks": ""
           },
           "bgcolor": "rgb(234,234,242)",
           "caxis": {
            "gridcolor": "white",
            "linecolor": "white",
            "showgrid": true,
            "ticks": ""
           }
          },
          "xaxis": {
           "automargin": true,
           "gridcolor": "white",
           "linecolor": "white",
           "showgrid": true,
           "ticks": "",
           "title": {
            "standoff": 15
           },
           "zerolinecolor": "white"
          },
          "yaxis": {
           "automargin": true,
           "gridcolor": "white",
           "linecolor": "white",
           "showgrid": true,
           "ticks": "",
           "title": {
            "standoff": 15
           },
           "zerolinecolor": "white"
          }
         }
        },
        "xaxis": {
         "anchor": "y",
         "domain": [
          0,
          1
         ],
         "title": {
          "text": "start"
         }
        },
        "yaxis": {
         "anchor": "x",
         "categoryarray": [
          "Elsy Lewis ",
          "Victoria Cantrell ",
          "Kavya Dasari ",
          "Myles Jefferson ",
          "Jaqueline Verduzco ",
          "Victoria Dinov ",
          "Trae Sebastian ",
          "Katherin Velazquez ",
          "Jonathan Ferrari "
         ],
         "categoryorder": "array",
         "domain": [
          0,
          1
         ],
         "title": {
          "text": "staff"
         }
        }
       }
      }
     },
     "metadata": {},
     "output_type": "display_data"
    }
   ],
   "source": [
    "px.strip(df,x = \"start\", y = \"staff\", color = \"staff\", template = \"seaborn\")"
   ]
  },
  {
   "cell_type": "code",
   "execution_count": 95,
   "metadata": {},
   "outputs": [],
   "source": [
    "# fix column name errors\n",
    "def plot(df):\n",
    "    \n",
    "    @interact(x = Dropdown(options = [\"all\", \"date\", 'staff', 'service', \n",
    "                                    'time', 'month', 'weekday', 'length'], \n",
    "                        value = \"all\"))\n",
    "    def pick_plotter(x):\n",
    "        if x == \"all\":\n",
    "            g = px.line(df, x = \"start\", color = \"staff\", template = \"seaborn\", title = \"Appointments by Staff\")\n",
    "            g.update_yaxes(visible=False, showticklabels=False)\n",
    "            g.show()\n",
    "        elif x == \"date\":\n",
    "            @interact(graph = Dropdown(options = [\"Bar\", \"Pie\"], value = \"Bar\"))\n",
    "            def date_plot(graph):\n",
    "                pass\n",
    "        else:\n",
    "            @interact(graph = Dropdown(options = [\"Bar\", \"Pie\"], value = \"Bar\"))\n",
    "            def visualize(graph):\n",
    "                title = f\"{graph} Chart of {x} of Appointments\"\n",
    "                if graph == \"Bar\":\n",
    "                    g = px.histogram(df, x, \n",
    "                                    template = \"seaborn\", color = x, title = title)\n",
    "                    g = g.update_xaxes(categoryorder = \"total descending\")\n",
    "                else:\n",
    "                    g = px.pie(df, x, template = \"seaborn\", title = title)\n",
    "                #g.update_layout(width = 1600, height = 800)\n",
    "                g.show()"
   ]
  },
  {
   "cell_type": "code",
   "execution_count": 96,
   "metadata": {},
   "outputs": [
    {
     "data": {
      "application/vnd.jupyter.widget-view+json": {
       "model_id": "ace09dde1eaa428da47572c66a784217",
       "version_major": 2,
       "version_minor": 0
      },
      "text/plain": [
       "interactive(children=(Dropdown(description='x', options=('all', 'date', 'staff', 'service', 'time', 'month', '…"
      ]
     },
     "metadata": {},
     "output_type": "display_data"
    },
    {
     "data": {
      "application/vnd.plotly.v1+json": {
       "config": {
        "plotlyServerURL": "https://plot.ly"
       },
       "data": [
        {
         "hovertemplate": "staff=Jonathan Ferrari <br>start=%{x}<br>key=%{y}<extra></extra>",
         "legendgroup": "Jonathan Ferrari ",
         "line": {
          "color": "rgb(76,114,176)",
          "dash": "solid"
         },
         "marker": {
          "symbol": "circle"
         },
         "mode": "lines",
         "name": "Jonathan Ferrari ",
         "orientation": "h",
         "showlegend": true,
         "type": "scatter",
         "x": [
          "2022-06-08T17:00:00+00:00",
          "2022-06-09T15:00:00+00:00",
          "2022-06-13T16:00:00+00:00",
          "2022-06-13T17:00:00+00:00",
          "2022-06-14T20:00:00+00:00",
          "2022-06-15T15:00:00+00:00",
          "2022-06-16T16:00:00+00:00",
          "2022-06-18T16:00:00+00:00",
          "2022-06-20T20:00:00+00:00",
          "2022-06-20T21:00:00+00:00",
          "2022-06-21T16:00:00+00:00",
          "2022-06-27T16:00:00+00:00",
          "2022-06-30T20:00:00+00:00",
          "2022-07-01T16:00:00+00:00",
          "2022-07-05T20:00:00+00:00",
          "2022-07-06T16:00:00+00:00",
          "2022-07-07T19:00:00+00:00",
          "2022-07-11T16:00:00+00:00",
          "2022-07-11T17:00:00+00:00",
          "2022-07-11T18:00:00+00:00",
          "2022-07-12T16:00:00+00:00",
          "2022-07-14T16:00:00+00:00",
          "2022-07-14T20:00:00+00:00",
          "2022-07-14T21:00:00+00:00",
          "2022-07-15T18:00:00+00:00",
          "2022-07-18T16:00:00+00:00",
          "2022-07-18T18:00:00+00:00",
          "2022-07-18T19:00:00+00:00",
          "2022-07-19T16:00:00+00:00",
          "2022-07-19T17:00:00+00:00",
          "2022-07-19T20:00:00+00:00",
          "2022-07-20T16:00:00+00:00",
          "2022-07-20T17:00:00+00:00",
          "2022-07-20T20:00:00+00:00",
          "2022-07-21T19:00:00+00:00",
          "2022-07-22T18:00:00+00:00",
          "2022-07-25T17:00:00+00:00",
          "2022-07-25T18:00:00+00:00",
          "2022-07-26T16:00:00+00:00",
          "2022-07-27T16:00:00+00:00",
          "2022-07-27T17:00:00+00:00",
          "2022-07-27T18:00:00+00:00",
          "2022-07-28T20:00:00+00:00",
          "2022-07-29T19:00:00+00:00",
          "2022-08-01T16:00:00+00:00",
          "2022-08-02T17:00:00+00:00",
          "2022-08-02T21:00:00+00:00",
          "2022-08-03T17:00:00+00:00",
          "2022-08-05T17:00:00+00:00",
          "2022-08-05T20:00:00+00:00",
          "2022-08-08T16:00:00+00:00",
          "2022-08-08T18:00:00+00:00",
          "2022-08-08T20:00:00+00:00",
          "2022-08-09T16:00:00+00:00",
          "2022-08-09T20:00:00+00:00",
          "2022-08-11T16:00:00+00:00",
          "2022-08-11T20:00:00+00:00",
          "2022-08-11T21:00:00+00:00",
          "2022-08-12T17:00:00+00:00",
          "2022-08-12T18:00:00+00:00",
          "2022-08-12T19:00:00+00:00",
          "2022-08-29T12:30:00+00:00",
          "2022-08-29T17:00:00+00:00",
          "2022-08-29T21:00:00+00:00",
          "2022-08-30T12:30:00+00:00",
          "2022-09-07T15:30:00+00:00",
          "2022-09-14T12:30:00+00:00",
          "2022-09-19T11:00:00+00:00",
          "2022-09-27T09:00:00+00:00",
          "2022-10-03T11:00:00+00:00",
          "2022-10-10T11:00:00+00:00",
          "2022-10-13T10:00:00+00:00",
          "2022-10-26T14:00:00+00:00",
          "2022-10-27T19:00:00+00:00",
          "2022-10-31T11:00:00+00:00",
          "2022-10-31T12:00:00+00:00"
         ],
         "xaxis": "x",
         "y": [
          "47471c83-0f64-4405-bc96-629cb2d09afe",
          "434b3a62-1eb0-4760-9187-ae7f1b3575c7",
          "40a8785f-470c-4324-ae46-57370ec9a69b",
          "55481828-7270-4bf1-a4f8-4d80a040f0d4",
          "c5a2f5b2-7607-4b1d-bafc-76b1fbda3bdc",
          "6f884682-9fe2-40a2-a7f2-2292540a38cc",
          "be46278d-18ae-40c2-9766-00051489a050",
          "b34b25c7-14c6-4959-a68b-3b07bb2d9eba",
          "a09f7d9e-2131-4148-a37a-71f89510ea60",
          "de783201-c736-40b1-8c96-1da293fe3d5c",
          "0762e73e-fdfd-459c-97ee-65bba56ea4e2",
          "ed8bbf06-5d0a-45c2-af95-52834625b2ca",
          "f1b76810-1c8f-423b-9ab2-bcca6e70f68c",
          "cb0aebaa-7e7a-4d44-9f27-2b80390d2ff2",
          "44dfcabc-3cd1-484b-821e-dd5688decbbf",
          "d75f716b-e1ef-4c85-ac08-706b8095c935",
          "68ebb815-a98b-49e2-b83e-9b6691439d22",
          "b3b5bd7c-85cc-4d26-b021-af7c32e73c8e",
          "16e5c2c1-296c-482c-8a8b-ce2ae86ee761",
          "c371413b-99a7-4b84-a6de-9a1f5ac4f03e",
          "52a63bac-8f72-40ce-9dee-255ca8a212cb",
          "e32cdbd9-c438-49bf-98bd-5095d8c5b82f",
          "73873ecc-6ba7-4333-a134-6379f422541f",
          "659eacd5-a67a-4668-a8f1-5b52f1ac8265",
          "472401a1-cc62-4fe5-bfe9-11f3addbed9a",
          "64b3e1cd-9bd9-4663-a19b-450c6d83bcec",
          "16ef4f7e-35ec-4133-a6fd-17d236e8d868",
          "911028dc-704d-4a0b-9836-57077ef58d2c",
          "7b2585c6-8167-4264-8809-d68ece0f2559",
          "32af3ae5-cd24-47c3-8d7a-9c75f206c83b",
          "8148bf4b-eba0-4a17-b90b-3385574bb90a",
          "bd125809-d493-47ee-b5a4-c1410d047d36",
          "28e92b2e-81f6-43bc-957a-a084309e0dd1",
          "e9452dae-ae57-487f-982a-aada86045d0b",
          "50c2005e-65c9-4219-b8ea-c3b23872e9e9",
          "ee7721d1-ecc5-4626-baa1-e4508bf9f808",
          "bbe7de5b-271c-406a-b543-310f45cd8a33",
          "2b9eb6bd-e03e-4bac-907f-e2c6395405eb",
          "2dc525de-6a0a-4640-b31e-b5d2651f6d0c",
          "08cd8dd3-86e0-4845-a1a2-4e2b2c445e46",
          "e03b2bae-655d-487c-ade2-e5727e0e3083",
          "dcdee597-3870-4a2f-b13b-a5e119847579",
          "303d003d-b420-4fe5-85c9-ee11361c78f9",
          "76a5e369-21ad-4806-8190-b385d08a5a8e",
          "621382de-309c-4088-ab47-3072b5bfcebf",
          "320c5b83-615b-4cb4-881f-2fcd3acc894f",
          "2582265a-f180-41ed-a7ce-303a4afc1a24",
          "3b24b152-bd22-479b-9b9f-35ddb2bea0aa",
          "6ee4855e-c170-460c-aa28-8f305efc82f0",
          "27d3ee54-2ca7-46d3-b79b-e71597ee02c0",
          "e0e1fd6a-1d4d-46cb-8f4f-331d46f14fe7",
          "4c951c00-6390-469a-aa0b-dfd53dac8d90",
          "57d6835e-cf91-4bc3-ab2e-a2a3c6426b64",
          "b6e02b66-adbc-4a2a-b120-8bd6c18f152e",
          "20e5db92-dcaf-44a3-8a2a-fda916516632",
          "a5c97259-bcaf-43c7-aef4-3ddc1f560d87",
          "00e2775e-4231-423c-9498-41282ac9d8b0",
          "317bc093-807b-4b62-9b92-7471186b22d9",
          "ba0a2a29-50c9-433a-b07d-a6ae32e95b97",
          "f24c2d93-c59b-48f1-a855-414f8339ed73",
          "08ba2609-2b6d-48e1-9bdf-b643076e2a06",
          "41c3f605-bfc4-4812-b3de-d43f2f31e9a1",
          "d94642ca-077b-4a5c-b2c9-95c637eddc37",
          "5e8d3ff0-ed11-434e-9d50-22ea712a23b2",
          "61cc6cc2-4be6-4555-876c-1e7282a9830c",
          "5b3d21fc-91f7-4657-96e5-66cdb30e7f98",
          "32f6d575-fec6-4600-a60a-28bfc3097067",
          "5658b375-47d3-4945-b24d-92a9dae9a562",
          "546336e5-5c3b-49f3-a9ec-3426e57f50f0",
          "ba3674a1-a02c-4d33-a910-8cf952f8aa8a",
          "0d2ec98b-7167-42fc-a052-3444b9278d5f",
          "deecfc23-819f-4a2a-9bf6-6efa3eb6fa82",
          "681413c0-31ca-467e-be90-a19c23ee6ca3",
          "6639ad32-36e1-453d-9f24-325a96bb40c0",
          "70c17720-4d41-445d-942d-80f40e012b7b",
          "c27be410-dac0-4ff9-b9bb-495c38c3c608"
         ],
         "yaxis": "y"
        },
        {
         "hovertemplate": "staff=Katherin Velazquez <br>start=%{x}<br>key=%{y}<extra></extra>",
         "legendgroup": "Katherin Velazquez ",
         "line": {
          "color": "rgb(221,132,82)",
          "dash": "solid"
         },
         "marker": {
          "symbol": "circle"
         },
         "mode": "lines",
         "name": "Katherin Velazquez ",
         "orientation": "h",
         "showlegend": true,
         "type": "scatter",
         "x": [
          "2022-07-11T10:00:00+00:00",
          "2022-07-13T15:00:00+00:00",
          "2022-07-19T15:00:00+00:00",
          "2022-07-20T15:00:00+00:00",
          "2022-07-20T16:00:00+00:00",
          "2022-07-26T16:00:00+00:00",
          "2022-07-27T15:00:00+00:00",
          "2022-07-27T16:00:00+00:00",
          "2022-08-01T10:00:00+00:00",
          "2022-08-01T11:00:00+00:00",
          "2022-08-08T10:00:00+00:00",
          "2022-08-29T11:00:00+00:00",
          "2022-08-30T15:00:00+00:00",
          "2022-09-19T16:00:00+00:00",
          "2022-09-29T09:30:00+00:00",
          "2022-09-29T11:00:00+00:00",
          "2022-10-20T12:00:00+00:00"
         ],
         "xaxis": "x",
         "y": [
          "dde1baff-9b7d-4f45-af2f-d132c4f10b11",
          "64d0da59-0109-4622-b230-a51ab10d0a8c",
          "7fc14db8-ebe7-4083-8fb4-37de7dbbc117",
          "02a18476-f27a-48ea-9666-99f65cb04c77",
          "61a03135-9f91-41d6-bd52-adba01fa4335",
          "efcb2bf9-7b3c-498d-ad75-a0a155337ee6",
          "bbcc8d81-f3af-4bbd-9abc-4770029ee0b7",
          "cbadf8fc-f491-4c3b-be5c-2ac40f400a41",
          "15238a4a-cc17-4542-bf5d-a63b4c962b3f",
          "4e9cbfcb-51ee-456c-b058-12098f628bd1",
          "434238f7-e783-404b-9e16-08506162886b",
          "78072393-0d0c-4340-9dff-a52e7e15cd7c",
          "c48f0e3f-7700-4038-83f9-744f293fb6ac",
          "f4d04a91-1a86-4a90-af66-5a657b9efaa0",
          "de41eef7-50a5-46c5-a1d2-a45eb6871ede",
          "49177479-599b-4d78-bdf2-4c5e38749ad9",
          "870ae249-05fd-41d8-b215-d1c1c60abf63"
         ],
         "yaxis": "y"
        },
        {
         "hovertemplate": "staff=Trae Sebastian <br>start=%{x}<br>key=%{y}<extra></extra>",
         "legendgroup": "Trae Sebastian ",
         "line": {
          "color": "rgb(85,168,104)",
          "dash": "solid"
         },
         "marker": {
          "symbol": "circle"
         },
         "mode": "lines",
         "name": "Trae Sebastian ",
         "orientation": "h",
         "showlegend": true,
         "type": "scatter",
         "x": [
          "2022-08-17T09:00:00+00:00",
          "2022-08-18T14:00:00+00:00",
          "2022-08-22T10:00:00+00:00",
          "2022-08-23T16:00:00+00:00",
          "2022-08-24T16:00:00+00:00",
          "2022-08-24T17:00:00+00:00",
          "2022-08-25T14:00:00+00:00",
          "2022-08-25T17:00:00+00:00",
          "2022-09-15T13:00:00+00:00",
          "2022-09-15T14:00:00+00:00",
          "2022-09-22T16:00:00+00:00",
          "2022-10-11T15:00:00+00:00",
          "2022-10-25T14:00:00+00:00",
          "2022-10-25T15:00:00+00:00",
          "2022-10-27T18:00:00+00:00",
          "2022-11-01T16:00:00+00:00"
         ],
         "xaxis": "x",
         "y": [
          "f8dba519-66bc-41cc-8b5e-5af84e7120ab",
          "854877e4-3fba-4de9-b144-8e00beb7a989",
          "e3edfb0c-af5a-4b97-9fb6-a84c16db562e",
          "450c4ce0-2166-4e7f-8c99-c1abeedfe7c7",
          "2c39ca35-0375-453f-881a-69e1328777e8",
          "07c5b792-78a8-45b4-b8b6-e6a58e1d11a0",
          "1ed2bd61-9418-4eac-a3d9-cce1f8745135",
          "abbfc1ab-440f-4bf1-9482-8492d73f75ee",
          "90021c4a-7b2e-4bb8-bd15-d7350e29c8f2",
          "b732ebb7-ffe5-49f8-8c11-a3b9d3ae88c4",
          "eaf61604-2745-4d05-8d84-0902fd94c285",
          "b91b2c26-1b82-45e3-99a5-a1daeca0fd84",
          "8350d7d6-2a48-4cff-9f2f-859304bbb737",
          "7eb5e75c-5273-4da4-b254-840aabf8738c",
          "51f1df84-be1c-4976-bd36-e0bd1f444240",
          "0c0795d4-2d59-4915-b15c-65377feac988"
         ],
         "yaxis": "y"
        },
        {
         "hovertemplate": "staff=Victoria Dinov <br>start=%{x}<br>key=%{y}<extra></extra>",
         "legendgroup": "Victoria Dinov ",
         "line": {
          "color": "rgb(196,78,82)",
          "dash": "solid"
         },
         "marker": {
          "symbol": "circle"
         },
         "mode": "lines",
         "name": "Victoria Dinov ",
         "orientation": "h",
         "showlegend": true,
         "type": "scatter",
         "x": [
          "2022-08-29T10:00:00+00:00",
          "2022-09-15T14:30:00+00:00",
          "2022-10-03T12:00:00+00:00",
          "2022-10-12T14:00:00+00:00",
          "2022-10-24T14:00:00+00:00",
          "2022-10-25T14:00:00+00:00",
          "2022-10-31T12:00:00+00:00"
         ],
         "xaxis": "x",
         "y": [
          "a03bbff9-5b11-4604-9359-8f48bf2b18ac",
          "92066053-8f74-4bf5-b5eb-420149e8f2bd",
          "64508750-ec5e-41ba-824a-52a0748d4c33",
          "98141707-6a7a-4322-83e2-0be07fba7c1b",
          "31cd2210-5c18-4d51-abe4-6ff282da179d",
          "e0fa7a0a-01c9-4846-87a4-a8331f02677d",
          "80bdd941-ab78-40bd-9300-51534fb6e096"
         ],
         "yaxis": "y"
        },
        {
         "hovertemplate": "staff=Jaqueline Verduzco <br>start=%{x}<br>key=%{y}<extra></extra>",
         "legendgroup": "Jaqueline Verduzco ",
         "line": {
          "color": "rgb(129,114,179)",
          "dash": "solid"
         },
         "marker": {
          "symbol": "circle"
         },
         "mode": "lines",
         "name": "Jaqueline Verduzco ",
         "orientation": "h",
         "showlegend": true,
         "type": "scatter",
         "x": [
          "2022-08-31T09:00:00+00:00",
          "2022-08-31T10:00:00+00:00",
          "2022-09-12T12:00:00+00:00",
          "2022-09-12T15:00:00+00:00",
          "2022-09-16T11:00:00+00:00",
          "2022-09-19T09:00:00+00:00",
          "2022-09-19T11:00:00+00:00",
          "2022-09-19T12:00:00+00:00",
          "2022-09-23T11:00:00+00:00",
          "2022-09-26T13:00:00+00:00",
          "2022-09-28T10:00:00+00:00",
          "2022-09-28T11:00:00+00:00",
          "2022-09-30T15:00:00+00:00",
          "2022-10-07T11:00:00+00:00",
          "2022-10-24T12:00:00+00:00",
          "2022-10-24T14:00:00+00:00",
          "2022-10-24T15:00:00+00:00",
          "2022-10-28T11:00:00+00:00",
          "2022-10-28T12:00:00+00:00"
         ],
         "xaxis": "x",
         "y": [
          "d85245f2-437a-4047-9ef6-d7b408c3a0f8",
          "5fd41ee7-1862-44ef-bad8-f8eaa1c70409",
          "f46a39b7-8524-4bc1-9983-6ea39749bf8e",
          "a5eb96ae-9ea5-48d3-a111-fec84a9b91e7",
          "c0d08c3a-4a61-4dfe-a339-96f5449e5182",
          "b62d77a7-aad3-4a44-9720-8f890761af75",
          "bd32a9e2-5fa0-4c18-8673-0e6af528d05d",
          "f8592768-1560-4c92-9f41-5ab430d90515",
          "8e654bc0-8aa7-40e4-848d-2159b49a28fd",
          "f1216ee1-8b35-4713-ab01-743473365d49",
          "be382161-2fa9-47c5-899c-cfb42cacde9e",
          "454c6ead-7a12-4d68-8bec-a2ed021eecd0",
          "cf6c661a-368a-40ef-b960-b9c6ede6c07b",
          "1be43f89-03e9-4d43-a294-01a127214a9d",
          "5d6cac24-b642-493b-8d69-38d674305c1d",
          "08619eef-0cf3-4961-bce1-1789602c14cc",
          "8380bcc3-dca0-49e5-b37a-ebc2021be1b5",
          "b43ebb67-7a3f-400c-96eb-3f7936e543b4",
          "3015fe72-1163-4573-9412-cd9d1894487c"
         ],
         "yaxis": "y"
        },
        {
         "hovertemplate": "staff=Myles Jefferson <br>start=%{x}<br>key=%{y}<extra></extra>",
         "legendgroup": "Myles Jefferson ",
         "line": {
          "color": "rgb(147,120,96)",
          "dash": "solid"
         },
         "marker": {
          "symbol": "circle"
         },
         "mode": "lines",
         "name": "Myles Jefferson ",
         "orientation": "h",
         "showlegend": true,
         "type": "scatter",
         "x": [
          "2022-09-12T16:00:00+00:00",
          "2022-10-03T15:00:00+00:00",
          "2022-10-05T16:00:00+00:00",
          "2022-10-26T14:00:00+00:00",
          "2022-10-28T09:00:00+00:00"
         ],
         "xaxis": "x",
         "y": [
          "d2a07003-643b-4e83-8f10-053263a9fa9c",
          "199b05de-dab4-4b3e-94b5-6711c617f999",
          "08480046-310e-4e8a-9f1e-c3d29d188175",
          "dca5fde9-790d-43d3-8a15-b8092ae1be1b",
          "f42b8d0c-b21a-4a4f-86d3-87500eb99976"
         ],
         "yaxis": "y"
        },
        {
         "hovertemplate": "staff=Kavya Dasari <br>start=%{x}<br>key=%{y}<extra></extra>",
         "legendgroup": "Kavya Dasari ",
         "line": {
          "color": "rgb(218,139,195)",
          "dash": "solid"
         },
         "marker": {
          "symbol": "circle"
         },
         "mode": "lines",
         "name": "Kavya Dasari ",
         "orientation": "h",
         "showlegend": true,
         "type": "scatter",
         "x": [
          "2022-09-16T09:00:00+00:00",
          "2022-09-21T09:00:00+00:00",
          "2022-09-21T11:00:00+00:00",
          "2022-10-07T10:00:00+00:00",
          "2022-10-13T10:30:00+00:00",
          "2022-10-19T09:00:00+00:00",
          "2022-10-26T10:00:00+00:00",
          "2022-10-28T12:00:00+00:00"
         ],
         "xaxis": "x",
         "y": [
          "6b4ce8ae-0ff2-4238-9e57-2a1116fa7298",
          "b91cdc2f-4885-4e12-b411-036f1cc3f224",
          "b5ee61f7-c271-41f9-85f2-c3bdc5e3995a",
          "e203062a-f1ef-4793-9023-7c944310c60f",
          "53c03d95-79e6-4a51-8de7-e3b997bd3a08",
          "7aaca63d-f1c7-4a4a-b65a-e28826d92266",
          "ef6bcc5d-7d64-490b-968c-66b015f58fd8",
          "11270f42-71d0-4b39-abce-9d5d65499407"
         ],
         "yaxis": "y"
        },
        {
         "hovertemplate": "staff=Victoria Cantrell <br>start=%{x}<br>key=%{y}<extra></extra>",
         "legendgroup": "Victoria Cantrell ",
         "line": {
          "color": "rgb(140,140,140)",
          "dash": "solid"
         },
         "marker": {
          "symbol": "circle"
         },
         "mode": "lines",
         "name": "Victoria Cantrell ",
         "orientation": "h",
         "showlegend": true,
         "type": "scatter",
         "x": [
          "2022-10-03T10:00:00+00:00",
          "2022-10-12T13:00:00+00:00",
          "2022-10-17T10:00:00+00:00",
          "2022-10-17T11:00:00+00:00",
          "2022-10-17T12:00:00+00:00",
          "2022-10-17T13:00:00+00:00",
          "2022-10-24T13:00:00+00:00",
          "2022-10-31T11:00:00+00:00"
         ],
         "xaxis": "x",
         "y": [
          "95228d1b-38bb-43a7-8a45-01794fc34d3f",
          "f246a7c7-2f22-4160-a48a-1dc8c781bd17",
          "e241174e-2df2-43c8-954e-98152a98355b",
          "93c6cee8-ce4d-469c-aa62-81c7c63308de",
          "75da3813-f3a3-4e09-96c8-c1a53196ec11",
          "b866bd7a-c50f-4d03-8d7b-6eb1af7b1325",
          "a210cfd8-02bd-4be1-8274-54fa4745d9da",
          "09c1de64-0c53-4440-9a77-f2d80f6ec7f8"
         ],
         "yaxis": "y"
        },
        {
         "hovertemplate": "staff=Elsy Lewis <br>start=%{x}<br>key=%{y}<extra></extra>",
         "legendgroup": "Elsy Lewis ",
         "line": {
          "color": "rgb(204,185,116)",
          "dash": "solid"
         },
         "marker": {
          "symbol": "circle"
         },
         "mode": "lines",
         "name": "Elsy Lewis ",
         "orientation": "h",
         "showlegend": true,
         "type": "scatter",
         "x": [
          "2022-10-11T13:00:00+00:00",
          "2022-10-11T14:00:00+00:00",
          "2022-10-11T15:00:00+00:00",
          "2022-11-01T13:00:00+00:00",
          "2022-11-01T14:00:00+00:00",
          "2022-11-01T15:00:00+00:00"
         ],
         "xaxis": "x",
         "y": [
          "2ac99059-c0d1-421a-aaa3-86e4c8a634d3",
          "cf133400-646b-4ccd-b051-f80713c969ce",
          "a9a659c5-8692-4d22-b183-7784f22af3b5",
          "4ef3fd3a-a7f9-411c-861b-d4b517490659",
          "87206ada-8ee3-4a97-9872-0468cfde504b",
          "34e90f17-a1e5-447e-8b81-a2f1477688cb"
         ],
         "yaxis": "y"
        }
       ],
       "layout": {
        "legend": {
         "title": {
          "text": "staff"
         },
         "tracegroupgap": 0
        },
        "template": {
         "data": {
          "bar": [
           {
            "error_x": {
             "color": "rgb(36,36,36)"
            },
            "error_y": {
             "color": "rgb(36,36,36)"
            },
            "marker": {
             "line": {
              "color": "rgb(234,234,242)",
              "width": 0.5
             },
             "pattern": {
              "fillmode": "overlay",
              "size": 10,
              "solidity": 0.2
             }
            },
            "type": "bar"
           }
          ],
          "barpolar": [
           {
            "marker": {
             "line": {
              "color": "rgb(234,234,242)",
              "width": 0.5
             },
             "pattern": {
              "fillmode": "overlay",
              "size": 10,
              "solidity": 0.2
             }
            },
            "type": "barpolar"
           }
          ],
          "carpet": [
           {
            "aaxis": {
             "endlinecolor": "rgb(36,36,36)",
             "gridcolor": "white",
             "linecolor": "white",
             "minorgridcolor": "white",
             "startlinecolor": "rgb(36,36,36)"
            },
            "baxis": {
             "endlinecolor": "rgb(36,36,36)",
             "gridcolor": "white",
             "linecolor": "white",
             "minorgridcolor": "white",
             "startlinecolor": "rgb(36,36,36)"
            },
            "type": "carpet"
           }
          ],
          "choropleth": [
           {
            "colorbar": {
             "outlinewidth": 0,
             "tickcolor": "rgb(36,36,36)",
             "ticklen": 8,
             "ticks": "outside",
             "tickwidth": 2
            },
            "type": "choropleth"
           }
          ],
          "contour": [
           {
            "colorbar": {
             "outlinewidth": 0,
             "tickcolor": "rgb(36,36,36)",
             "ticklen": 8,
             "ticks": "outside",
             "tickwidth": 2
            },
            "colorscale": [
             [
              0,
              "rgb(2,4,25)"
             ],
             [
              0.06274509803921569,
              "rgb(24,15,41)"
             ],
             [
              0.12549019607843137,
              "rgb(47,23,57)"
             ],
             [
              0.18823529411764706,
              "rgb(71,28,72)"
             ],
             [
              0.25098039215686274,
              "rgb(97,30,82)"
             ],
             [
              0.3137254901960784,
              "rgb(123,30,89)"
             ],
             [
              0.3764705882352941,
              "rgb(150,27,91)"
             ],
             [
              0.4392156862745098,
              "rgb(177,22,88)"
             ],
             [
              0.5019607843137255,
              "rgb(203,26,79)"
             ],
             [
              0.5647058823529412,
              "rgb(223,47,67)"
             ],
             [
              0.6274509803921569,
              "rgb(236,76,61)"
             ],
             [
              0.6901960784313725,
              "rgb(242,107,73)"
             ],
             [
              0.7529411764705882,
              "rgb(244,135,95)"
             ],
             [
              0.8156862745098039,
              "rgb(245,162,122)"
             ],
             [
              0.8784313725490196,
              "rgb(246,188,153)"
             ],
             [
              0.9411764705882353,
              "rgb(247,212,187)"
             ],
             [
              1,
              "rgb(250,234,220)"
             ]
            ],
            "type": "contour"
           }
          ],
          "contourcarpet": [
           {
            "colorbar": {
             "outlinewidth": 0,
             "tickcolor": "rgb(36,36,36)",
             "ticklen": 8,
             "ticks": "outside",
             "tickwidth": 2
            },
            "type": "contourcarpet"
           }
          ],
          "heatmap": [
           {
            "colorbar": {
             "outlinewidth": 0,
             "tickcolor": "rgb(36,36,36)",
             "ticklen": 8,
             "ticks": "outside",
             "tickwidth": 2
            },
            "colorscale": [
             [
              0,
              "rgb(2,4,25)"
             ],
             [
              0.06274509803921569,
              "rgb(24,15,41)"
             ],
             [
              0.12549019607843137,
              "rgb(47,23,57)"
             ],
             [
              0.18823529411764706,
              "rgb(71,28,72)"
             ],
             [
              0.25098039215686274,
              "rgb(97,30,82)"
             ],
             [
              0.3137254901960784,
              "rgb(123,30,89)"
             ],
             [
              0.3764705882352941,
              "rgb(150,27,91)"
             ],
             [
              0.4392156862745098,
              "rgb(177,22,88)"
             ],
             [
              0.5019607843137255,
              "rgb(203,26,79)"
             ],
             [
              0.5647058823529412,
              "rgb(223,47,67)"
             ],
             [
              0.6274509803921569,
              "rgb(236,76,61)"
             ],
             [
              0.6901960784313725,
              "rgb(242,107,73)"
             ],
             [
              0.7529411764705882,
              "rgb(244,135,95)"
             ],
             [
              0.8156862745098039,
              "rgb(245,162,122)"
             ],
             [
              0.8784313725490196,
              "rgb(246,188,153)"
             ],
             [
              0.9411764705882353,
              "rgb(247,212,187)"
             ],
             [
              1,
              "rgb(250,234,220)"
             ]
            ],
            "type": "heatmap"
           }
          ],
          "heatmapgl": [
           {
            "colorbar": {
             "outlinewidth": 0,
             "tickcolor": "rgb(36,36,36)",
             "ticklen": 8,
             "ticks": "outside",
             "tickwidth": 2
            },
            "colorscale": [
             [
              0,
              "rgb(2,4,25)"
             ],
             [
              0.06274509803921569,
              "rgb(24,15,41)"
             ],
             [
              0.12549019607843137,
              "rgb(47,23,57)"
             ],
             [
              0.18823529411764706,
              "rgb(71,28,72)"
             ],
             [
              0.25098039215686274,
              "rgb(97,30,82)"
             ],
             [
              0.3137254901960784,
              "rgb(123,30,89)"
             ],
             [
              0.3764705882352941,
              "rgb(150,27,91)"
             ],
             [
              0.4392156862745098,
              "rgb(177,22,88)"
             ],
             [
              0.5019607843137255,
              "rgb(203,26,79)"
             ],
             [
              0.5647058823529412,
              "rgb(223,47,67)"
             ],
             [
              0.6274509803921569,
              "rgb(236,76,61)"
             ],
             [
              0.6901960784313725,
              "rgb(242,107,73)"
             ],
             [
              0.7529411764705882,
              "rgb(244,135,95)"
             ],
             [
              0.8156862745098039,
              "rgb(245,162,122)"
             ],
             [
              0.8784313725490196,
              "rgb(246,188,153)"
             ],
             [
              0.9411764705882353,
              "rgb(247,212,187)"
             ],
             [
              1,
              "rgb(250,234,220)"
             ]
            ],
            "type": "heatmapgl"
           }
          ],
          "histogram": [
           {
            "marker": {
             "pattern": {
              "fillmode": "overlay",
              "size": 10,
              "solidity": 0.2
             }
            },
            "type": "histogram"
           }
          ],
          "histogram2d": [
           {
            "colorbar": {
             "outlinewidth": 0,
             "tickcolor": "rgb(36,36,36)",
             "ticklen": 8,
             "ticks": "outside",
             "tickwidth": 2
            },
            "colorscale": [
             [
              0,
              "rgb(2,4,25)"
             ],
             [
              0.06274509803921569,
              "rgb(24,15,41)"
             ],
             [
              0.12549019607843137,
              "rgb(47,23,57)"
             ],
             [
              0.18823529411764706,
              "rgb(71,28,72)"
             ],
             [
              0.25098039215686274,
              "rgb(97,30,82)"
             ],
             [
              0.3137254901960784,
              "rgb(123,30,89)"
             ],
             [
              0.3764705882352941,
              "rgb(150,27,91)"
             ],
             [
              0.4392156862745098,
              "rgb(177,22,88)"
             ],
             [
              0.5019607843137255,
              "rgb(203,26,79)"
             ],
             [
              0.5647058823529412,
              "rgb(223,47,67)"
             ],
             [
              0.6274509803921569,
              "rgb(236,76,61)"
             ],
             [
              0.6901960784313725,
              "rgb(242,107,73)"
             ],
             [
              0.7529411764705882,
              "rgb(244,135,95)"
             ],
             [
              0.8156862745098039,
              "rgb(245,162,122)"
             ],
             [
              0.8784313725490196,
              "rgb(246,188,153)"
             ],
             [
              0.9411764705882353,
              "rgb(247,212,187)"
             ],
             [
              1,
              "rgb(250,234,220)"
             ]
            ],
            "type": "histogram2d"
           }
          ],
          "histogram2dcontour": [
           {
            "colorbar": {
             "outlinewidth": 0,
             "tickcolor": "rgb(36,36,36)",
             "ticklen": 8,
             "ticks": "outside",
             "tickwidth": 2
            },
            "colorscale": [
             [
              0,
              "rgb(2,4,25)"
             ],
             [
              0.06274509803921569,
              "rgb(24,15,41)"
             ],
             [
              0.12549019607843137,
              "rgb(47,23,57)"
             ],
             [
              0.18823529411764706,
              "rgb(71,28,72)"
             ],
             [
              0.25098039215686274,
              "rgb(97,30,82)"
             ],
             [
              0.3137254901960784,
              "rgb(123,30,89)"
             ],
             [
              0.3764705882352941,
              "rgb(150,27,91)"
             ],
             [
              0.4392156862745098,
              "rgb(177,22,88)"
             ],
             [
              0.5019607843137255,
              "rgb(203,26,79)"
             ],
             [
              0.5647058823529412,
              "rgb(223,47,67)"
             ],
             [
              0.6274509803921569,
              "rgb(236,76,61)"
             ],
             [
              0.6901960784313725,
              "rgb(242,107,73)"
             ],
             [
              0.7529411764705882,
              "rgb(244,135,95)"
             ],
             [
              0.8156862745098039,
              "rgb(245,162,122)"
             ],
             [
              0.8784313725490196,
              "rgb(246,188,153)"
             ],
             [
              0.9411764705882353,
              "rgb(247,212,187)"
             ],
             [
              1,
              "rgb(250,234,220)"
             ]
            ],
            "type": "histogram2dcontour"
           }
          ],
          "mesh3d": [
           {
            "colorbar": {
             "outlinewidth": 0,
             "tickcolor": "rgb(36,36,36)",
             "ticklen": 8,
             "ticks": "outside",
             "tickwidth": 2
            },
            "type": "mesh3d"
           }
          ],
          "parcoords": [
           {
            "line": {
             "colorbar": {
              "outlinewidth": 0,
              "tickcolor": "rgb(36,36,36)",
              "ticklen": 8,
              "ticks": "outside",
              "tickwidth": 2
             }
            },
            "type": "parcoords"
           }
          ],
          "pie": [
           {
            "automargin": true,
            "type": "pie"
           }
          ],
          "scatter": [
           {
            "marker": {
             "colorbar": {
              "outlinewidth": 0,
              "tickcolor": "rgb(36,36,36)",
              "ticklen": 8,
              "ticks": "outside",
              "tickwidth": 2
             }
            },
            "type": "scatter"
           }
          ],
          "scatter3d": [
           {
            "line": {
             "colorbar": {
              "outlinewidth": 0,
              "tickcolor": "rgb(36,36,36)",
              "ticklen": 8,
              "ticks": "outside",
              "tickwidth": 2
             }
            },
            "marker": {
             "colorbar": {
              "outlinewidth": 0,
              "tickcolor": "rgb(36,36,36)",
              "ticklen": 8,
              "ticks": "outside",
              "tickwidth": 2
             }
            },
            "type": "scatter3d"
           }
          ],
          "scattercarpet": [
           {
            "marker": {
             "colorbar": {
              "outlinewidth": 0,
              "tickcolor": "rgb(36,36,36)",
              "ticklen": 8,
              "ticks": "outside",
              "tickwidth": 2
             }
            },
            "type": "scattercarpet"
           }
          ],
          "scattergeo": [
           {
            "marker": {
             "colorbar": {
              "outlinewidth": 0,
              "tickcolor": "rgb(36,36,36)",
              "ticklen": 8,
              "ticks": "outside",
              "tickwidth": 2
             }
            },
            "type": "scattergeo"
           }
          ],
          "scattergl": [
           {
            "marker": {
             "colorbar": {
              "outlinewidth": 0,
              "tickcolor": "rgb(36,36,36)",
              "ticklen": 8,
              "ticks": "outside",
              "tickwidth": 2
             }
            },
            "type": "scattergl"
           }
          ],
          "scattermapbox": [
           {
            "marker": {
             "colorbar": {
              "outlinewidth": 0,
              "tickcolor": "rgb(36,36,36)",
              "ticklen": 8,
              "ticks": "outside",
              "tickwidth": 2
             }
            },
            "type": "scattermapbox"
           }
          ],
          "scatterpolar": [
           {
            "marker": {
             "colorbar": {
              "outlinewidth": 0,
              "tickcolor": "rgb(36,36,36)",
              "ticklen": 8,
              "ticks": "outside",
              "tickwidth": 2
             }
            },
            "type": "scatterpolar"
           }
          ],
          "scatterpolargl": [
           {
            "marker": {
             "colorbar": {
              "outlinewidth": 0,
              "tickcolor": "rgb(36,36,36)",
              "ticklen": 8,
              "ticks": "outside",
              "tickwidth": 2
             }
            },
            "type": "scatterpolargl"
           }
          ],
          "scatterternary": [
           {
            "marker": {
             "colorbar": {
              "outlinewidth": 0,
              "tickcolor": "rgb(36,36,36)",
              "ticklen": 8,
              "ticks": "outside",
              "tickwidth": 2
             }
            },
            "type": "scatterternary"
           }
          ],
          "surface": [
           {
            "colorbar": {
             "outlinewidth": 0,
             "tickcolor": "rgb(36,36,36)",
             "ticklen": 8,
             "ticks": "outside",
             "tickwidth": 2
            },
            "colorscale": [
             [
              0,
              "rgb(2,4,25)"
             ],
             [
              0.06274509803921569,
              "rgb(24,15,41)"
             ],
             [
              0.12549019607843137,
              "rgb(47,23,57)"
             ],
             [
              0.18823529411764706,
              "rgb(71,28,72)"
             ],
             [
              0.25098039215686274,
              "rgb(97,30,82)"
             ],
             [
              0.3137254901960784,
              "rgb(123,30,89)"
             ],
             [
              0.3764705882352941,
              "rgb(150,27,91)"
             ],
             [
              0.4392156862745098,
              "rgb(177,22,88)"
             ],
             [
              0.5019607843137255,
              "rgb(203,26,79)"
             ],
             [
              0.5647058823529412,
              "rgb(223,47,67)"
             ],
             [
              0.6274509803921569,
              "rgb(236,76,61)"
             ],
             [
              0.6901960784313725,
              "rgb(242,107,73)"
             ],
             [
              0.7529411764705882,
              "rgb(244,135,95)"
             ],
             [
              0.8156862745098039,
              "rgb(245,162,122)"
             ],
             [
              0.8784313725490196,
              "rgb(246,188,153)"
             ],
             [
              0.9411764705882353,
              "rgb(247,212,187)"
             ],
             [
              1,
              "rgb(250,234,220)"
             ]
            ],
            "type": "surface"
           }
          ],
          "table": [
           {
            "cells": {
             "fill": {
              "color": "rgb(231,231,240)"
             },
             "line": {
              "color": "white"
             }
            },
            "header": {
             "fill": {
              "color": "rgb(183,183,191)"
             },
             "line": {
              "color": "white"
             }
            },
            "type": "table"
           }
          ]
         },
         "layout": {
          "annotationdefaults": {
           "arrowcolor": "rgb(67,103,167)"
          },
          "autotypenumbers": "strict",
          "coloraxis": {
           "colorbar": {
            "outlinewidth": 0,
            "tickcolor": "rgb(36,36,36)",
            "ticklen": 8,
            "ticks": "outside",
            "tickwidth": 2
           }
          },
          "colorscale": {
           "sequential": [
            [
             0,
             "rgb(2,4,25)"
            ],
            [
             0.06274509803921569,
             "rgb(24,15,41)"
            ],
            [
             0.12549019607843137,
             "rgb(47,23,57)"
            ],
            [
             0.18823529411764706,
             "rgb(71,28,72)"
            ],
            [
             0.25098039215686274,
             "rgb(97,30,82)"
            ],
            [
             0.3137254901960784,
             "rgb(123,30,89)"
            ],
            [
             0.3764705882352941,
             "rgb(150,27,91)"
            ],
            [
             0.4392156862745098,
             "rgb(177,22,88)"
            ],
            [
             0.5019607843137255,
             "rgb(203,26,79)"
            ],
            [
             0.5647058823529412,
             "rgb(223,47,67)"
            ],
            [
             0.6274509803921569,
             "rgb(236,76,61)"
            ],
            [
             0.6901960784313725,
             "rgb(242,107,73)"
            ],
            [
             0.7529411764705882,
             "rgb(244,135,95)"
            ],
            [
             0.8156862745098039,
             "rgb(245,162,122)"
            ],
            [
             0.8784313725490196,
             "rgb(246,188,153)"
            ],
            [
             0.9411764705882353,
             "rgb(247,212,187)"
            ],
            [
             1,
             "rgb(250,234,220)"
            ]
           ],
           "sequentialminus": [
            [
             0,
             "rgb(2,4,25)"
            ],
            [
             0.06274509803921569,
             "rgb(24,15,41)"
            ],
            [
             0.12549019607843137,
             "rgb(47,23,57)"
            ],
            [
             0.18823529411764706,
             "rgb(71,28,72)"
            ],
            [
             0.25098039215686274,
             "rgb(97,30,82)"
            ],
            [
             0.3137254901960784,
             "rgb(123,30,89)"
            ],
            [
             0.3764705882352941,
             "rgb(150,27,91)"
            ],
            [
             0.4392156862745098,
             "rgb(177,22,88)"
            ],
            [
             0.5019607843137255,
             "rgb(203,26,79)"
            ],
            [
             0.5647058823529412,
             "rgb(223,47,67)"
            ],
            [
             0.6274509803921569,
             "rgb(236,76,61)"
            ],
            [
             0.6901960784313725,
             "rgb(242,107,73)"
            ],
            [
             0.7529411764705882,
             "rgb(244,135,95)"
            ],
            [
             0.8156862745098039,
             "rgb(245,162,122)"
            ],
            [
             0.8784313725490196,
             "rgb(246,188,153)"
            ],
            [
             0.9411764705882353,
             "rgb(247,212,187)"
            ],
            [
             1,
             "rgb(250,234,220)"
            ]
           ]
          },
          "colorway": [
           "rgb(76,114,176)",
           "rgb(221,132,82)",
           "rgb(85,168,104)",
           "rgb(196,78,82)",
           "rgb(129,114,179)",
           "rgb(147,120,96)",
           "rgb(218,139,195)",
           "rgb(140,140,140)",
           "rgb(204,185,116)",
           "rgb(100,181,205)"
          ],
          "font": {
           "color": "rgb(36,36,36)"
          },
          "geo": {
           "bgcolor": "white",
           "lakecolor": "white",
           "landcolor": "rgb(234,234,242)",
           "showlakes": true,
           "showland": true,
           "subunitcolor": "white"
          },
          "hoverlabel": {
           "align": "left"
          },
          "hovermode": "closest",
          "paper_bgcolor": "white",
          "plot_bgcolor": "rgb(234,234,242)",
          "polar": {
           "angularaxis": {
            "gridcolor": "white",
            "linecolor": "white",
            "showgrid": true,
            "ticks": ""
           },
           "bgcolor": "rgb(234,234,242)",
           "radialaxis": {
            "gridcolor": "white",
            "linecolor": "white",
            "showgrid": true,
            "ticks": ""
           }
          },
          "scene": {
           "xaxis": {
            "backgroundcolor": "rgb(234,234,242)",
            "gridcolor": "white",
            "gridwidth": 2,
            "linecolor": "white",
            "showbackground": true,
            "showgrid": true,
            "ticks": "",
            "zerolinecolor": "white"
           },
           "yaxis": {
            "backgroundcolor": "rgb(234,234,242)",
            "gridcolor": "white",
            "gridwidth": 2,
            "linecolor": "white",
            "showbackground": true,
            "showgrid": true,
            "ticks": "",
            "zerolinecolor": "white"
           },
           "zaxis": {
            "backgroundcolor": "rgb(234,234,242)",
            "gridcolor": "white",
            "gridwidth": 2,
            "linecolor": "white",
            "showbackground": true,
            "showgrid": true,
            "ticks": "",
            "zerolinecolor": "white"
           }
          },
          "shapedefaults": {
           "fillcolor": "rgb(67,103,167)",
           "line": {
            "width": 0
           },
           "opacity": 0.5
          },
          "ternary": {
           "aaxis": {
            "gridcolor": "white",
            "linecolor": "white",
            "showgrid": true,
            "ticks": ""
           },
           "baxis": {
            "gridcolor": "white",
            "linecolor": "white",
            "showgrid": true,
            "ticks": ""
           },
           "bgcolor": "rgb(234,234,242)",
           "caxis": {
            "gridcolor": "white",
            "linecolor": "white",
            "showgrid": true,
            "ticks": ""
           }
          },
          "xaxis": {
           "automargin": true,
           "gridcolor": "white",
           "linecolor": "white",
           "showgrid": true,
           "ticks": "",
           "title": {
            "standoff": 15
           },
           "zerolinecolor": "white"
          },
          "yaxis": {
           "automargin": true,
           "gridcolor": "white",
           "linecolor": "white",
           "showgrid": true,
           "ticks": "",
           "title": {
            "standoff": 15
           },
           "zerolinecolor": "white"
          }
         }
        },
        "title": {
         "text": "Appointments by Staff"
        },
        "xaxis": {
         "anchor": "y",
         "domain": [
          0,
          1
         ],
         "title": {
          "text": "start"
         }
        },
        "yaxis": {
         "anchor": "x",
         "domain": [
          0,
          1
         ],
         "showticklabels": false,
         "title": {
          "text": "key"
         },
         "visible": false
        }
       }
      }
     },
     "metadata": {},
     "output_type": "display_data"
    },
    {
     "data": {
      "application/vnd.plotly.v1+json": {
       "config": {
        "plotlyServerURL": "https://plot.ly"
       },
       "data": [
        {
         "alignmentgroup": "True",
         "bingroup": "x",
         "hovertemplate": "service=%{x}<br>count=%{y}<extra></extra>",
         "legendgroup": "Virtual",
         "marker": {
          "color": "rgb(76,114,176)",
          "pattern": {
           "shape": ""
          }
         },
         "name": "Virtual",
         "offsetgroup": "Virtual",
         "orientation": "v",
         "showlegend": true,
         "type": "histogram",
         "x": [
          "Virtual",
          "Virtual",
          "Virtual",
          "Virtual",
          "Virtual",
          "Virtual",
          "Virtual",
          "Virtual",
          "Virtual",
          "Virtual",
          "Virtual",
          "Virtual",
          "Virtual",
          "Virtual",
          "Virtual",
          "Virtual",
          "Virtual",
          "Virtual",
          "Virtual",
          "Virtual",
          "Virtual",
          "Virtual",
          "Virtual",
          "Virtual",
          "Virtual",
          "Virtual",
          "Virtual",
          "Virtual",
          "Virtual",
          "Virtual",
          "Virtual",
          "Virtual",
          "Virtual",
          "Virtual",
          "Virtual",
          "Virtual",
          "Virtual",
          "Virtual",
          "Virtual",
          "Virtual",
          "Virtual",
          "Virtual",
          "Virtual",
          "Virtual",
          "Virtual",
          "Virtual",
          "Virtual",
          "Virtual",
          "Virtual",
          "Virtual",
          "Virtual",
          "Virtual",
          "Virtual",
          "Virtual",
          "Virtual",
          "Virtual",
          "Virtual",
          "Virtual",
          "Virtual",
          "Virtual",
          "Virtual",
          "Virtual",
          "Virtual",
          "Virtual",
          "Virtual",
          "Virtual",
          "Virtual",
          "Virtual",
          "Virtual",
          "Virtual",
          "Virtual",
          "Virtual",
          "Virtual",
          "Virtual",
          "Virtual",
          "Virtual",
          "Virtual",
          "Virtual",
          "Virtual",
          "Virtual",
          "Virtual",
          "Virtual",
          "Virtual",
          "Virtual",
          "Virtual",
          "Virtual",
          "Virtual",
          "Virtual",
          "Virtual",
          "Virtual",
          "Virtual",
          "Virtual",
          "Virtual",
          "Virtual",
          "Virtual",
          "Virtual",
          "Virtual",
          "Virtual",
          "Virtual",
          "Virtual",
          "Virtual",
          "Virtual",
          "Virtual",
          "Virtual",
          "Virtual",
          "Virtual",
          "Virtual",
          "Virtual",
          "Virtual",
          "Virtual",
          "Virtual",
          "Virtual",
          "Virtual",
          "Virtual",
          "Virtual",
          "Virtual",
          "Virtual",
          "Virtual",
          "Virtual",
          "Virtual",
          "Virtual",
          "Virtual",
          "Virtual",
          "Virtual",
          "Virtual",
          "Virtual",
          "Virtual",
          "Virtual",
          "Virtual",
          "Virtual",
          "Virtual",
          "Virtual",
          "Virtual",
          "Virtual",
          "Virtual",
          "Virtual",
          "Virtual",
          "Virtual",
          "Virtual",
          "Virtual",
          "Virtual",
          "Virtual",
          "Virtual",
          "Virtual",
          "Virtual",
          "Virtual",
          "Virtual",
          "Virtual",
          "Virtual",
          "Virtual",
          "Virtual",
          "Virtual"
         ],
         "xaxis": "x",
         "yaxis": "y"
        },
        {
         "alignmentgroup": "True",
         "bingroup": "x",
         "hovertemplate": "service=%{x}<br>count=%{y}<extra></extra>",
         "legendgroup": "In Person",
         "marker": {
          "color": "rgb(221,132,82)",
          "pattern": {
           "shape": ""
          }
         },
         "name": "In Person",
         "offsetgroup": "In Person",
         "orientation": "v",
         "showlegend": true,
         "type": "histogram",
         "x": [
          "In Person",
          "In Person",
          "In Person",
          "In Person",
          "In Person",
          "In Person",
          "In Person",
          "In Person",
          "In Person",
          "In Person"
         ],
         "xaxis": "x",
         "yaxis": "y"
        }
       ],
       "layout": {
        "barmode": "relative",
        "legend": {
         "title": {
          "text": "service"
         },
         "tracegroupgap": 0
        },
        "template": {
         "data": {
          "bar": [
           {
            "error_x": {
             "color": "rgb(36,36,36)"
            },
            "error_y": {
             "color": "rgb(36,36,36)"
            },
            "marker": {
             "line": {
              "color": "rgb(234,234,242)",
              "width": 0.5
             },
             "pattern": {
              "fillmode": "overlay",
              "size": 10,
              "solidity": 0.2
             }
            },
            "type": "bar"
           }
          ],
          "barpolar": [
           {
            "marker": {
             "line": {
              "color": "rgb(234,234,242)",
              "width": 0.5
             },
             "pattern": {
              "fillmode": "overlay",
              "size": 10,
              "solidity": 0.2
             }
            },
            "type": "barpolar"
           }
          ],
          "carpet": [
           {
            "aaxis": {
             "endlinecolor": "rgb(36,36,36)",
             "gridcolor": "white",
             "linecolor": "white",
             "minorgridcolor": "white",
             "startlinecolor": "rgb(36,36,36)"
            },
            "baxis": {
             "endlinecolor": "rgb(36,36,36)",
             "gridcolor": "white",
             "linecolor": "white",
             "minorgridcolor": "white",
             "startlinecolor": "rgb(36,36,36)"
            },
            "type": "carpet"
           }
          ],
          "choropleth": [
           {
            "colorbar": {
             "outlinewidth": 0,
             "tickcolor": "rgb(36,36,36)",
             "ticklen": 8,
             "ticks": "outside",
             "tickwidth": 2
            },
            "type": "choropleth"
           }
          ],
          "contour": [
           {
            "colorbar": {
             "outlinewidth": 0,
             "tickcolor": "rgb(36,36,36)",
             "ticklen": 8,
             "ticks": "outside",
             "tickwidth": 2
            },
            "colorscale": [
             [
              0,
              "rgb(2,4,25)"
             ],
             [
              0.06274509803921569,
              "rgb(24,15,41)"
             ],
             [
              0.12549019607843137,
              "rgb(47,23,57)"
             ],
             [
              0.18823529411764706,
              "rgb(71,28,72)"
             ],
             [
              0.25098039215686274,
              "rgb(97,30,82)"
             ],
             [
              0.3137254901960784,
              "rgb(123,30,89)"
             ],
             [
              0.3764705882352941,
              "rgb(150,27,91)"
             ],
             [
              0.4392156862745098,
              "rgb(177,22,88)"
             ],
             [
              0.5019607843137255,
              "rgb(203,26,79)"
             ],
             [
              0.5647058823529412,
              "rgb(223,47,67)"
             ],
             [
              0.6274509803921569,
              "rgb(236,76,61)"
             ],
             [
              0.6901960784313725,
              "rgb(242,107,73)"
             ],
             [
              0.7529411764705882,
              "rgb(244,135,95)"
             ],
             [
              0.8156862745098039,
              "rgb(245,162,122)"
             ],
             [
              0.8784313725490196,
              "rgb(246,188,153)"
             ],
             [
              0.9411764705882353,
              "rgb(247,212,187)"
             ],
             [
              1,
              "rgb(250,234,220)"
             ]
            ],
            "type": "contour"
           }
          ],
          "contourcarpet": [
           {
            "colorbar": {
             "outlinewidth": 0,
             "tickcolor": "rgb(36,36,36)",
             "ticklen": 8,
             "ticks": "outside",
             "tickwidth": 2
            },
            "type": "contourcarpet"
           }
          ],
          "heatmap": [
           {
            "colorbar": {
             "outlinewidth": 0,
             "tickcolor": "rgb(36,36,36)",
             "ticklen": 8,
             "ticks": "outside",
             "tickwidth": 2
            },
            "colorscale": [
             [
              0,
              "rgb(2,4,25)"
             ],
             [
              0.06274509803921569,
              "rgb(24,15,41)"
             ],
             [
              0.12549019607843137,
              "rgb(47,23,57)"
             ],
             [
              0.18823529411764706,
              "rgb(71,28,72)"
             ],
             [
              0.25098039215686274,
              "rgb(97,30,82)"
             ],
             [
              0.3137254901960784,
              "rgb(123,30,89)"
             ],
             [
              0.3764705882352941,
              "rgb(150,27,91)"
             ],
             [
              0.4392156862745098,
              "rgb(177,22,88)"
             ],
             [
              0.5019607843137255,
              "rgb(203,26,79)"
             ],
             [
              0.5647058823529412,
              "rgb(223,47,67)"
             ],
             [
              0.6274509803921569,
              "rgb(236,76,61)"
             ],
             [
              0.6901960784313725,
              "rgb(242,107,73)"
             ],
             [
              0.7529411764705882,
              "rgb(244,135,95)"
             ],
             [
              0.8156862745098039,
              "rgb(245,162,122)"
             ],
             [
              0.8784313725490196,
              "rgb(246,188,153)"
             ],
             [
              0.9411764705882353,
              "rgb(247,212,187)"
             ],
             [
              1,
              "rgb(250,234,220)"
             ]
            ],
            "type": "heatmap"
           }
          ],
          "heatmapgl": [
           {
            "colorbar": {
             "outlinewidth": 0,
             "tickcolor": "rgb(36,36,36)",
             "ticklen": 8,
             "ticks": "outside",
             "tickwidth": 2
            },
            "colorscale": [
             [
              0,
              "rgb(2,4,25)"
             ],
             [
              0.06274509803921569,
              "rgb(24,15,41)"
             ],
             [
              0.12549019607843137,
              "rgb(47,23,57)"
             ],
             [
              0.18823529411764706,
              "rgb(71,28,72)"
             ],
             [
              0.25098039215686274,
              "rgb(97,30,82)"
             ],
             [
              0.3137254901960784,
              "rgb(123,30,89)"
             ],
             [
              0.3764705882352941,
              "rgb(150,27,91)"
             ],
             [
              0.4392156862745098,
              "rgb(177,22,88)"
             ],
             [
              0.5019607843137255,
              "rgb(203,26,79)"
             ],
             [
              0.5647058823529412,
              "rgb(223,47,67)"
             ],
             [
              0.6274509803921569,
              "rgb(236,76,61)"
             ],
             [
              0.6901960784313725,
              "rgb(242,107,73)"
             ],
             [
              0.7529411764705882,
              "rgb(244,135,95)"
             ],
             [
              0.8156862745098039,
              "rgb(245,162,122)"
             ],
             [
              0.8784313725490196,
              "rgb(246,188,153)"
             ],
             [
              0.9411764705882353,
              "rgb(247,212,187)"
             ],
             [
              1,
              "rgb(250,234,220)"
             ]
            ],
            "type": "heatmapgl"
           }
          ],
          "histogram": [
           {
            "marker": {
             "pattern": {
              "fillmode": "overlay",
              "size": 10,
              "solidity": 0.2
             }
            },
            "type": "histogram"
           }
          ],
          "histogram2d": [
           {
            "colorbar": {
             "outlinewidth": 0,
             "tickcolor": "rgb(36,36,36)",
             "ticklen": 8,
             "ticks": "outside",
             "tickwidth": 2
            },
            "colorscale": [
             [
              0,
              "rgb(2,4,25)"
             ],
             [
              0.06274509803921569,
              "rgb(24,15,41)"
             ],
             [
              0.12549019607843137,
              "rgb(47,23,57)"
             ],
             [
              0.18823529411764706,
              "rgb(71,28,72)"
             ],
             [
              0.25098039215686274,
              "rgb(97,30,82)"
             ],
             [
              0.3137254901960784,
              "rgb(123,30,89)"
             ],
             [
              0.3764705882352941,
              "rgb(150,27,91)"
             ],
             [
              0.4392156862745098,
              "rgb(177,22,88)"
             ],
             [
              0.5019607843137255,
              "rgb(203,26,79)"
             ],
             [
              0.5647058823529412,
              "rgb(223,47,67)"
             ],
             [
              0.6274509803921569,
              "rgb(236,76,61)"
             ],
             [
              0.6901960784313725,
              "rgb(242,107,73)"
             ],
             [
              0.7529411764705882,
              "rgb(244,135,95)"
             ],
             [
              0.8156862745098039,
              "rgb(245,162,122)"
             ],
             [
              0.8784313725490196,
              "rgb(246,188,153)"
             ],
             [
              0.9411764705882353,
              "rgb(247,212,187)"
             ],
             [
              1,
              "rgb(250,234,220)"
             ]
            ],
            "type": "histogram2d"
           }
          ],
          "histogram2dcontour": [
           {
            "colorbar": {
             "outlinewidth": 0,
             "tickcolor": "rgb(36,36,36)",
             "ticklen": 8,
             "ticks": "outside",
             "tickwidth": 2
            },
            "colorscale": [
             [
              0,
              "rgb(2,4,25)"
             ],
             [
              0.06274509803921569,
              "rgb(24,15,41)"
             ],
             [
              0.12549019607843137,
              "rgb(47,23,57)"
             ],
             [
              0.18823529411764706,
              "rgb(71,28,72)"
             ],
             [
              0.25098039215686274,
              "rgb(97,30,82)"
             ],
             [
              0.3137254901960784,
              "rgb(123,30,89)"
             ],
             [
              0.3764705882352941,
              "rgb(150,27,91)"
             ],
             [
              0.4392156862745098,
              "rgb(177,22,88)"
             ],
             [
              0.5019607843137255,
              "rgb(203,26,79)"
             ],
             [
              0.5647058823529412,
              "rgb(223,47,67)"
             ],
             [
              0.6274509803921569,
              "rgb(236,76,61)"
             ],
             [
              0.6901960784313725,
              "rgb(242,107,73)"
             ],
             [
              0.7529411764705882,
              "rgb(244,135,95)"
             ],
             [
              0.8156862745098039,
              "rgb(245,162,122)"
             ],
             [
              0.8784313725490196,
              "rgb(246,188,153)"
             ],
             [
              0.9411764705882353,
              "rgb(247,212,187)"
             ],
             [
              1,
              "rgb(250,234,220)"
             ]
            ],
            "type": "histogram2dcontour"
           }
          ],
          "mesh3d": [
           {
            "colorbar": {
             "outlinewidth": 0,
             "tickcolor": "rgb(36,36,36)",
             "ticklen": 8,
             "ticks": "outside",
             "tickwidth": 2
            },
            "type": "mesh3d"
           }
          ],
          "parcoords": [
           {
            "line": {
             "colorbar": {
              "outlinewidth": 0,
              "tickcolor": "rgb(36,36,36)",
              "ticklen": 8,
              "ticks": "outside",
              "tickwidth": 2
             }
            },
            "type": "parcoords"
           }
          ],
          "pie": [
           {
            "automargin": true,
            "type": "pie"
           }
          ],
          "scatter": [
           {
            "marker": {
             "colorbar": {
              "outlinewidth": 0,
              "tickcolor": "rgb(36,36,36)",
              "ticklen": 8,
              "ticks": "outside",
              "tickwidth": 2
             }
            },
            "type": "scatter"
           }
          ],
          "scatter3d": [
           {
            "line": {
             "colorbar": {
              "outlinewidth": 0,
              "tickcolor": "rgb(36,36,36)",
              "ticklen": 8,
              "ticks": "outside",
              "tickwidth": 2
             }
            },
            "marker": {
             "colorbar": {
              "outlinewidth": 0,
              "tickcolor": "rgb(36,36,36)",
              "ticklen": 8,
              "ticks": "outside",
              "tickwidth": 2
             }
            },
            "type": "scatter3d"
           }
          ],
          "scattercarpet": [
           {
            "marker": {
             "colorbar": {
              "outlinewidth": 0,
              "tickcolor": "rgb(36,36,36)",
              "ticklen": 8,
              "ticks": "outside",
              "tickwidth": 2
             }
            },
            "type": "scattercarpet"
           }
          ],
          "scattergeo": [
           {
            "marker": {
             "colorbar": {
              "outlinewidth": 0,
              "tickcolor": "rgb(36,36,36)",
              "ticklen": 8,
              "ticks": "outside",
              "tickwidth": 2
             }
            },
            "type": "scattergeo"
           }
          ],
          "scattergl": [
           {
            "marker": {
             "colorbar": {
              "outlinewidth": 0,
              "tickcolor": "rgb(36,36,36)",
              "ticklen": 8,
              "ticks": "outside",
              "tickwidth": 2
             }
            },
            "type": "scattergl"
           }
          ],
          "scattermapbox": [
           {
            "marker": {
             "colorbar": {
              "outlinewidth": 0,
              "tickcolor": "rgb(36,36,36)",
              "ticklen": 8,
              "ticks": "outside",
              "tickwidth": 2
             }
            },
            "type": "scattermapbox"
           }
          ],
          "scatterpolar": [
           {
            "marker": {
             "colorbar": {
              "outlinewidth": 0,
              "tickcolor": "rgb(36,36,36)",
              "ticklen": 8,
              "ticks": "outside",
              "tickwidth": 2
             }
            },
            "type": "scatterpolar"
           }
          ],
          "scatterpolargl": [
           {
            "marker": {
             "colorbar": {
              "outlinewidth": 0,
              "tickcolor": "rgb(36,36,36)",
              "ticklen": 8,
              "ticks": "outside",
              "tickwidth": 2
             }
            },
            "type": "scatterpolargl"
           }
          ],
          "scatterternary": [
           {
            "marker": {
             "colorbar": {
              "outlinewidth": 0,
              "tickcolor": "rgb(36,36,36)",
              "ticklen": 8,
              "ticks": "outside",
              "tickwidth": 2
             }
            },
            "type": "scatterternary"
           }
          ],
          "surface": [
           {
            "colorbar": {
             "outlinewidth": 0,
             "tickcolor": "rgb(36,36,36)",
             "ticklen": 8,
             "ticks": "outside",
             "tickwidth": 2
            },
            "colorscale": [
             [
              0,
              "rgb(2,4,25)"
             ],
             [
              0.06274509803921569,
              "rgb(24,15,41)"
             ],
             [
              0.12549019607843137,
              "rgb(47,23,57)"
             ],
             [
              0.18823529411764706,
              "rgb(71,28,72)"
             ],
             [
              0.25098039215686274,
              "rgb(97,30,82)"
             ],
             [
              0.3137254901960784,
              "rgb(123,30,89)"
             ],
             [
              0.3764705882352941,
              "rgb(150,27,91)"
             ],
             [
              0.4392156862745098,
              "rgb(177,22,88)"
             ],
             [
              0.5019607843137255,
              "rgb(203,26,79)"
             ],
             [
              0.5647058823529412,
              "rgb(223,47,67)"
             ],
             [
              0.6274509803921569,
              "rgb(236,76,61)"
             ],
             [
              0.6901960784313725,
              "rgb(242,107,73)"
             ],
             [
              0.7529411764705882,
              "rgb(244,135,95)"
             ],
             [
              0.8156862745098039,
              "rgb(245,162,122)"
             ],
             [
              0.8784313725490196,
              "rgb(246,188,153)"
             ],
             [
              0.9411764705882353,
              "rgb(247,212,187)"
             ],
             [
              1,
              "rgb(250,234,220)"
             ]
            ],
            "type": "surface"
           }
          ],
          "table": [
           {
            "cells": {
             "fill": {
              "color": "rgb(231,231,240)"
             },
             "line": {
              "color": "white"
             }
            },
            "header": {
             "fill": {
              "color": "rgb(183,183,191)"
             },
             "line": {
              "color": "white"
             }
            },
            "type": "table"
           }
          ]
         },
         "layout": {
          "annotationdefaults": {
           "arrowcolor": "rgb(67,103,167)"
          },
          "autotypenumbers": "strict",
          "coloraxis": {
           "colorbar": {
            "outlinewidth": 0,
            "tickcolor": "rgb(36,36,36)",
            "ticklen": 8,
            "ticks": "outside",
            "tickwidth": 2
           }
          },
          "colorscale": {
           "sequential": [
            [
             0,
             "rgb(2,4,25)"
            ],
            [
             0.06274509803921569,
             "rgb(24,15,41)"
            ],
            [
             0.12549019607843137,
             "rgb(47,23,57)"
            ],
            [
             0.18823529411764706,
             "rgb(71,28,72)"
            ],
            [
             0.25098039215686274,
             "rgb(97,30,82)"
            ],
            [
             0.3137254901960784,
             "rgb(123,30,89)"
            ],
            [
             0.3764705882352941,
             "rgb(150,27,91)"
            ],
            [
             0.4392156862745098,
             "rgb(177,22,88)"
            ],
            [
             0.5019607843137255,
             "rgb(203,26,79)"
            ],
            [
             0.5647058823529412,
             "rgb(223,47,67)"
            ],
            [
             0.6274509803921569,
             "rgb(236,76,61)"
            ],
            [
             0.6901960784313725,
             "rgb(242,107,73)"
            ],
            [
             0.7529411764705882,
             "rgb(244,135,95)"
            ],
            [
             0.8156862745098039,
             "rgb(245,162,122)"
            ],
            [
             0.8784313725490196,
             "rgb(246,188,153)"
            ],
            [
             0.9411764705882353,
             "rgb(247,212,187)"
            ],
            [
             1,
             "rgb(250,234,220)"
            ]
           ],
           "sequentialminus": [
            [
             0,
             "rgb(2,4,25)"
            ],
            [
             0.06274509803921569,
             "rgb(24,15,41)"
            ],
            [
             0.12549019607843137,
             "rgb(47,23,57)"
            ],
            [
             0.18823529411764706,
             "rgb(71,28,72)"
            ],
            [
             0.25098039215686274,
             "rgb(97,30,82)"
            ],
            [
             0.3137254901960784,
             "rgb(123,30,89)"
            ],
            [
             0.3764705882352941,
             "rgb(150,27,91)"
            ],
            [
             0.4392156862745098,
             "rgb(177,22,88)"
            ],
            [
             0.5019607843137255,
             "rgb(203,26,79)"
            ],
            [
             0.5647058823529412,
             "rgb(223,47,67)"
            ],
            [
             0.6274509803921569,
             "rgb(236,76,61)"
            ],
            [
             0.6901960784313725,
             "rgb(242,107,73)"
            ],
            [
             0.7529411764705882,
             "rgb(244,135,95)"
            ],
            [
             0.8156862745098039,
             "rgb(245,162,122)"
            ],
            [
             0.8784313725490196,
             "rgb(246,188,153)"
            ],
            [
             0.9411764705882353,
             "rgb(247,212,187)"
            ],
            [
             1,
             "rgb(250,234,220)"
            ]
           ]
          },
          "colorway": [
           "rgb(76,114,176)",
           "rgb(221,132,82)",
           "rgb(85,168,104)",
           "rgb(196,78,82)",
           "rgb(129,114,179)",
           "rgb(147,120,96)",
           "rgb(218,139,195)",
           "rgb(140,140,140)",
           "rgb(204,185,116)",
           "rgb(100,181,205)"
          ],
          "font": {
           "color": "rgb(36,36,36)"
          },
          "geo": {
           "bgcolor": "white",
           "lakecolor": "white",
           "landcolor": "rgb(234,234,242)",
           "showlakes": true,
           "showland": true,
           "subunitcolor": "white"
          },
          "hoverlabel": {
           "align": "left"
          },
          "hovermode": "closest",
          "paper_bgcolor": "white",
          "plot_bgcolor": "rgb(234,234,242)",
          "polar": {
           "angularaxis": {
            "gridcolor": "white",
            "linecolor": "white",
            "showgrid": true,
            "ticks": ""
           },
           "bgcolor": "rgb(234,234,242)",
           "radialaxis": {
            "gridcolor": "white",
            "linecolor": "white",
            "showgrid": true,
            "ticks": ""
           }
          },
          "scene": {
           "xaxis": {
            "backgroundcolor": "rgb(234,234,242)",
            "gridcolor": "white",
            "gridwidth": 2,
            "linecolor": "white",
            "showbackground": true,
            "showgrid": true,
            "ticks": "",
            "zerolinecolor": "white"
           },
           "yaxis": {
            "backgroundcolor": "rgb(234,234,242)",
            "gridcolor": "white",
            "gridwidth": 2,
            "linecolor": "white",
            "showbackground": true,
            "showgrid": true,
            "ticks": "",
            "zerolinecolor": "white"
           },
           "zaxis": {
            "backgroundcolor": "rgb(234,234,242)",
            "gridcolor": "white",
            "gridwidth": 2,
            "linecolor": "white",
            "showbackground": true,
            "showgrid": true,
            "ticks": "",
            "zerolinecolor": "white"
           }
          },
          "shapedefaults": {
           "fillcolor": "rgb(67,103,167)",
           "line": {
            "width": 0
           },
           "opacity": 0.5
          },
          "ternary": {
           "aaxis": {
            "gridcolor": "white",
            "linecolor": "white",
            "showgrid": true,
            "ticks": ""
           },
           "baxis": {
            "gridcolor": "white",
            "linecolor": "white",
            "showgrid": true,
            "ticks": ""
           },
           "bgcolor": "rgb(234,234,242)",
           "caxis": {
            "gridcolor": "white",
            "linecolor": "white",
            "showgrid": true,
            "ticks": ""
           }
          },
          "xaxis": {
           "automargin": true,
           "gridcolor": "white",
           "linecolor": "white",
           "showgrid": true,
           "ticks": "",
           "title": {
            "standoff": 15
           },
           "zerolinecolor": "white"
          },
          "yaxis": {
           "automargin": true,
           "gridcolor": "white",
           "linecolor": "white",
           "showgrid": true,
           "ticks": "",
           "title": {
            "standoff": 15
           },
           "zerolinecolor": "white"
          }
         }
        },
        "title": {
         "text": "Bar Chart of service of Appointments"
        },
        "xaxis": {
         "anchor": "y",
         "categoryarray": [
          "Virtual",
          "In Person"
         ],
         "categoryorder": "total descending",
         "domain": [
          0,
          1
         ],
         "title": {
          "text": "service"
         }
        },
        "yaxis": {
         "anchor": "x",
         "domain": [
          0,
          1
         ],
         "title": {
          "text": "count"
         }
        }
       }
      }
     },
     "metadata": {},
     "output_type": "display_data"
    },
    {
     "data": {
      "application/vnd.plotly.v1+json": {
       "config": {
        "plotlyServerURL": "https://plot.ly"
       },
       "data": [
        {
         "alignmentgroup": "True",
         "bingroup": "x",
         "hovertemplate": "month=%{x}<br>count=%{y}<extra></extra>",
         "legendgroup": "June",
         "marker": {
          "color": "rgb(76,114,176)",
          "pattern": {
           "shape": ""
          }
         },
         "name": "June",
         "offsetgroup": "June",
         "orientation": "v",
         "showlegend": true,
         "type": "histogram",
         "x": [
          "June",
          "June",
          "June",
          "June",
          "June",
          "June",
          "June",
          "June",
          "June",
          "June",
          "June",
          "June",
          "June"
         ],
         "xaxis": "x",
         "yaxis": "y"
        },
        {
         "alignmentgroup": "True",
         "bingroup": "x",
         "hovertemplate": "month=%{x}<br>count=%{y}<extra></extra>",
         "legendgroup": "July",
         "marker": {
          "color": "rgb(221,132,82)",
          "pattern": {
           "shape": ""
          }
         },
         "name": "July",
         "offsetgroup": "July",
         "orientation": "v",
         "showlegend": true,
         "type": "histogram",
         "x": [
          "July",
          "July",
          "July",
          "July",
          "July",
          "July",
          "July",
          "July",
          "July",
          "July",
          "July",
          "July",
          "July",
          "July",
          "July",
          "July",
          "July",
          "July",
          "July",
          "July",
          "July",
          "July",
          "July",
          "July",
          "July",
          "July",
          "July",
          "July",
          "July",
          "July",
          "July",
          "July",
          "July",
          "July",
          "July",
          "July",
          "July",
          "July",
          "July"
         ],
         "xaxis": "x",
         "yaxis": "y"
        },
        {
         "alignmentgroup": "True",
         "bingroup": "x",
         "hovertemplate": "month=%{x}<br>count=%{y}<extra></extra>",
         "legendgroup": "August",
         "marker": {
          "color": "rgb(85,168,104)",
          "pattern": {
           "shape": ""
          }
         },
         "name": "August",
         "offsetgroup": "August",
         "orientation": "v",
         "showlegend": true,
         "type": "histogram",
         "x": [
          "August",
          "August",
          "August",
          "August",
          "August",
          "August",
          "August",
          "August",
          "August",
          "August",
          "August",
          "August",
          "August",
          "August",
          "August",
          "August",
          "August",
          "August",
          "August",
          "August",
          "August",
          "August",
          "August",
          "August",
          "August",
          "August",
          "August",
          "August",
          "August",
          "August",
          "August",
          "August",
          "August",
          "August",
          "August",
          "August",
          "August"
         ],
         "xaxis": "x",
         "yaxis": "y"
        },
        {
         "alignmentgroup": "True",
         "bingroup": "x",
         "hovertemplate": "month=%{x}<br>count=%{y}<extra></extra>",
         "legendgroup": "September",
         "marker": {
          "color": "rgb(196,78,82)",
          "pattern": {
           "shape": ""
          }
         },
         "name": "September",
         "offsetgroup": "September",
         "orientation": "v",
         "showlegend": true,
         "type": "histogram",
         "x": [
          "September",
          "September",
          "September",
          "September",
          "September",
          "September",
          "September",
          "September",
          "September",
          "September",
          "September",
          "September",
          "September",
          "September",
          "September",
          "September",
          "September",
          "September",
          "September",
          "September",
          "September",
          "September",
          "September",
          "September",
          "September",
          "September"
         ],
         "xaxis": "x",
         "yaxis": "y"
        },
        {
         "alignmentgroup": "True",
         "bingroup": "x",
         "hovertemplate": "month=%{x}<br>count=%{y}<extra></extra>",
         "legendgroup": "October",
         "marker": {
          "color": "rgb(129,114,179)",
          "pattern": {
           "shape": ""
          }
         },
         "name": "October",
         "offsetgroup": "October",
         "orientation": "v",
         "showlegend": true,
         "type": "histogram",
         "x": [
          "October",
          "October",
          "October",
          "October",
          "October",
          "October",
          "October",
          "October",
          "October",
          "October",
          "October",
          "October",
          "October",
          "October",
          "October",
          "October",
          "October",
          "October",
          "October",
          "October",
          "October",
          "October",
          "October",
          "October",
          "October",
          "October",
          "October",
          "October",
          "October",
          "October",
          "October",
          "October",
          "October",
          "October",
          "October",
          "October",
          "October",
          "October",
          "October",
          "October",
          "October",
          "October",
          "October"
         ],
         "xaxis": "x",
         "yaxis": "y"
        },
        {
         "alignmentgroup": "True",
         "bingroup": "x",
         "hovertemplate": "month=%{x}<br>count=%{y}<extra></extra>",
         "legendgroup": "November",
         "marker": {
          "color": "rgb(147,120,96)",
          "pattern": {
           "shape": ""
          }
         },
         "name": "November",
         "offsetgroup": "November",
         "orientation": "v",
         "showlegend": true,
         "type": "histogram",
         "x": [
          "November",
          "November",
          "November",
          "November"
         ],
         "xaxis": "x",
         "yaxis": "y"
        }
       ],
       "layout": {
        "barmode": "relative",
        "legend": {
         "title": {
          "text": "month"
         },
         "tracegroupgap": 0
        },
        "template": {
         "data": {
          "bar": [
           {
            "error_x": {
             "color": "rgb(36,36,36)"
            },
            "error_y": {
             "color": "rgb(36,36,36)"
            },
            "marker": {
             "line": {
              "color": "rgb(234,234,242)",
              "width": 0.5
             },
             "pattern": {
              "fillmode": "overlay",
              "size": 10,
              "solidity": 0.2
             }
            },
            "type": "bar"
           }
          ],
          "barpolar": [
           {
            "marker": {
             "line": {
              "color": "rgb(234,234,242)",
              "width": 0.5
             },
             "pattern": {
              "fillmode": "overlay",
              "size": 10,
              "solidity": 0.2
             }
            },
            "type": "barpolar"
           }
          ],
          "carpet": [
           {
            "aaxis": {
             "endlinecolor": "rgb(36,36,36)",
             "gridcolor": "white",
             "linecolor": "white",
             "minorgridcolor": "white",
             "startlinecolor": "rgb(36,36,36)"
            },
            "baxis": {
             "endlinecolor": "rgb(36,36,36)",
             "gridcolor": "white",
             "linecolor": "white",
             "minorgridcolor": "white",
             "startlinecolor": "rgb(36,36,36)"
            },
            "type": "carpet"
           }
          ],
          "choropleth": [
           {
            "colorbar": {
             "outlinewidth": 0,
             "tickcolor": "rgb(36,36,36)",
             "ticklen": 8,
             "ticks": "outside",
             "tickwidth": 2
            },
            "type": "choropleth"
           }
          ],
          "contour": [
           {
            "colorbar": {
             "outlinewidth": 0,
             "tickcolor": "rgb(36,36,36)",
             "ticklen": 8,
             "ticks": "outside",
             "tickwidth": 2
            },
            "colorscale": [
             [
              0,
              "rgb(2,4,25)"
             ],
             [
              0.06274509803921569,
              "rgb(24,15,41)"
             ],
             [
              0.12549019607843137,
              "rgb(47,23,57)"
             ],
             [
              0.18823529411764706,
              "rgb(71,28,72)"
             ],
             [
              0.25098039215686274,
              "rgb(97,30,82)"
             ],
             [
              0.3137254901960784,
              "rgb(123,30,89)"
             ],
             [
              0.3764705882352941,
              "rgb(150,27,91)"
             ],
             [
              0.4392156862745098,
              "rgb(177,22,88)"
             ],
             [
              0.5019607843137255,
              "rgb(203,26,79)"
             ],
             [
              0.5647058823529412,
              "rgb(223,47,67)"
             ],
             [
              0.6274509803921569,
              "rgb(236,76,61)"
             ],
             [
              0.6901960784313725,
              "rgb(242,107,73)"
             ],
             [
              0.7529411764705882,
              "rgb(244,135,95)"
             ],
             [
              0.8156862745098039,
              "rgb(245,162,122)"
             ],
             [
              0.8784313725490196,
              "rgb(246,188,153)"
             ],
             [
              0.9411764705882353,
              "rgb(247,212,187)"
             ],
             [
              1,
              "rgb(250,234,220)"
             ]
            ],
            "type": "contour"
           }
          ],
          "contourcarpet": [
           {
            "colorbar": {
             "outlinewidth": 0,
             "tickcolor": "rgb(36,36,36)",
             "ticklen": 8,
             "ticks": "outside",
             "tickwidth": 2
            },
            "type": "contourcarpet"
           }
          ],
          "heatmap": [
           {
            "colorbar": {
             "outlinewidth": 0,
             "tickcolor": "rgb(36,36,36)",
             "ticklen": 8,
             "ticks": "outside",
             "tickwidth": 2
            },
            "colorscale": [
             [
              0,
              "rgb(2,4,25)"
             ],
             [
              0.06274509803921569,
              "rgb(24,15,41)"
             ],
             [
              0.12549019607843137,
              "rgb(47,23,57)"
             ],
             [
              0.18823529411764706,
              "rgb(71,28,72)"
             ],
             [
              0.25098039215686274,
              "rgb(97,30,82)"
             ],
             [
              0.3137254901960784,
              "rgb(123,30,89)"
             ],
             [
              0.3764705882352941,
              "rgb(150,27,91)"
             ],
             [
              0.4392156862745098,
              "rgb(177,22,88)"
             ],
             [
              0.5019607843137255,
              "rgb(203,26,79)"
             ],
             [
              0.5647058823529412,
              "rgb(223,47,67)"
             ],
             [
              0.6274509803921569,
              "rgb(236,76,61)"
             ],
             [
              0.6901960784313725,
              "rgb(242,107,73)"
             ],
             [
              0.7529411764705882,
              "rgb(244,135,95)"
             ],
             [
              0.8156862745098039,
              "rgb(245,162,122)"
             ],
             [
              0.8784313725490196,
              "rgb(246,188,153)"
             ],
             [
              0.9411764705882353,
              "rgb(247,212,187)"
             ],
             [
              1,
              "rgb(250,234,220)"
             ]
            ],
            "type": "heatmap"
           }
          ],
          "heatmapgl": [
           {
            "colorbar": {
             "outlinewidth": 0,
             "tickcolor": "rgb(36,36,36)",
             "ticklen": 8,
             "ticks": "outside",
             "tickwidth": 2
            },
            "colorscale": [
             [
              0,
              "rgb(2,4,25)"
             ],
             [
              0.06274509803921569,
              "rgb(24,15,41)"
             ],
             [
              0.12549019607843137,
              "rgb(47,23,57)"
             ],
             [
              0.18823529411764706,
              "rgb(71,28,72)"
             ],
             [
              0.25098039215686274,
              "rgb(97,30,82)"
             ],
             [
              0.3137254901960784,
              "rgb(123,30,89)"
             ],
             [
              0.3764705882352941,
              "rgb(150,27,91)"
             ],
             [
              0.4392156862745098,
              "rgb(177,22,88)"
             ],
             [
              0.5019607843137255,
              "rgb(203,26,79)"
             ],
             [
              0.5647058823529412,
              "rgb(223,47,67)"
             ],
             [
              0.6274509803921569,
              "rgb(236,76,61)"
             ],
             [
              0.6901960784313725,
              "rgb(242,107,73)"
             ],
             [
              0.7529411764705882,
              "rgb(244,135,95)"
             ],
             [
              0.8156862745098039,
              "rgb(245,162,122)"
             ],
             [
              0.8784313725490196,
              "rgb(246,188,153)"
             ],
             [
              0.9411764705882353,
              "rgb(247,212,187)"
             ],
             [
              1,
              "rgb(250,234,220)"
             ]
            ],
            "type": "heatmapgl"
           }
          ],
          "histogram": [
           {
            "marker": {
             "pattern": {
              "fillmode": "overlay",
              "size": 10,
              "solidity": 0.2
             }
            },
            "type": "histogram"
           }
          ],
          "histogram2d": [
           {
            "colorbar": {
             "outlinewidth": 0,
             "tickcolor": "rgb(36,36,36)",
             "ticklen": 8,
             "ticks": "outside",
             "tickwidth": 2
            },
            "colorscale": [
             [
              0,
              "rgb(2,4,25)"
             ],
             [
              0.06274509803921569,
              "rgb(24,15,41)"
             ],
             [
              0.12549019607843137,
              "rgb(47,23,57)"
             ],
             [
              0.18823529411764706,
              "rgb(71,28,72)"
             ],
             [
              0.25098039215686274,
              "rgb(97,30,82)"
             ],
             [
              0.3137254901960784,
              "rgb(123,30,89)"
             ],
             [
              0.3764705882352941,
              "rgb(150,27,91)"
             ],
             [
              0.4392156862745098,
              "rgb(177,22,88)"
             ],
             [
              0.5019607843137255,
              "rgb(203,26,79)"
             ],
             [
              0.5647058823529412,
              "rgb(223,47,67)"
             ],
             [
              0.6274509803921569,
              "rgb(236,76,61)"
             ],
             [
              0.6901960784313725,
              "rgb(242,107,73)"
             ],
             [
              0.7529411764705882,
              "rgb(244,135,95)"
             ],
             [
              0.8156862745098039,
              "rgb(245,162,122)"
             ],
             [
              0.8784313725490196,
              "rgb(246,188,153)"
             ],
             [
              0.9411764705882353,
              "rgb(247,212,187)"
             ],
             [
              1,
              "rgb(250,234,220)"
             ]
            ],
            "type": "histogram2d"
           }
          ],
          "histogram2dcontour": [
           {
            "colorbar": {
             "outlinewidth": 0,
             "tickcolor": "rgb(36,36,36)",
             "ticklen": 8,
             "ticks": "outside",
             "tickwidth": 2
            },
            "colorscale": [
             [
              0,
              "rgb(2,4,25)"
             ],
             [
              0.06274509803921569,
              "rgb(24,15,41)"
             ],
             [
              0.12549019607843137,
              "rgb(47,23,57)"
             ],
             [
              0.18823529411764706,
              "rgb(71,28,72)"
             ],
             [
              0.25098039215686274,
              "rgb(97,30,82)"
             ],
             [
              0.3137254901960784,
              "rgb(123,30,89)"
             ],
             [
              0.3764705882352941,
              "rgb(150,27,91)"
             ],
             [
              0.4392156862745098,
              "rgb(177,22,88)"
             ],
             [
              0.5019607843137255,
              "rgb(203,26,79)"
             ],
             [
              0.5647058823529412,
              "rgb(223,47,67)"
             ],
             [
              0.6274509803921569,
              "rgb(236,76,61)"
             ],
             [
              0.6901960784313725,
              "rgb(242,107,73)"
             ],
             [
              0.7529411764705882,
              "rgb(244,135,95)"
             ],
             [
              0.8156862745098039,
              "rgb(245,162,122)"
             ],
             [
              0.8784313725490196,
              "rgb(246,188,153)"
             ],
             [
              0.9411764705882353,
              "rgb(247,212,187)"
             ],
             [
              1,
              "rgb(250,234,220)"
             ]
            ],
            "type": "histogram2dcontour"
           }
          ],
          "mesh3d": [
           {
            "colorbar": {
             "outlinewidth": 0,
             "tickcolor": "rgb(36,36,36)",
             "ticklen": 8,
             "ticks": "outside",
             "tickwidth": 2
            },
            "type": "mesh3d"
           }
          ],
          "parcoords": [
           {
            "line": {
             "colorbar": {
              "outlinewidth": 0,
              "tickcolor": "rgb(36,36,36)",
              "ticklen": 8,
              "ticks": "outside",
              "tickwidth": 2
             }
            },
            "type": "parcoords"
           }
          ],
          "pie": [
           {
            "automargin": true,
            "type": "pie"
           }
          ],
          "scatter": [
           {
            "marker": {
             "colorbar": {
              "outlinewidth": 0,
              "tickcolor": "rgb(36,36,36)",
              "ticklen": 8,
              "ticks": "outside",
              "tickwidth": 2
             }
            },
            "type": "scatter"
           }
          ],
          "scatter3d": [
           {
            "line": {
             "colorbar": {
              "outlinewidth": 0,
              "tickcolor": "rgb(36,36,36)",
              "ticklen": 8,
              "ticks": "outside",
              "tickwidth": 2
             }
            },
            "marker": {
             "colorbar": {
              "outlinewidth": 0,
              "tickcolor": "rgb(36,36,36)",
              "ticklen": 8,
              "ticks": "outside",
              "tickwidth": 2
             }
            },
            "type": "scatter3d"
           }
          ],
          "scattercarpet": [
           {
            "marker": {
             "colorbar": {
              "outlinewidth": 0,
              "tickcolor": "rgb(36,36,36)",
              "ticklen": 8,
              "ticks": "outside",
              "tickwidth": 2
             }
            },
            "type": "scattercarpet"
           }
          ],
          "scattergeo": [
           {
            "marker": {
             "colorbar": {
              "outlinewidth": 0,
              "tickcolor": "rgb(36,36,36)",
              "ticklen": 8,
              "ticks": "outside",
              "tickwidth": 2
             }
            },
            "type": "scattergeo"
           }
          ],
          "scattergl": [
           {
            "marker": {
             "colorbar": {
              "outlinewidth": 0,
              "tickcolor": "rgb(36,36,36)",
              "ticklen": 8,
              "ticks": "outside",
              "tickwidth": 2
             }
            },
            "type": "scattergl"
           }
          ],
          "scattermapbox": [
           {
            "marker": {
             "colorbar": {
              "outlinewidth": 0,
              "tickcolor": "rgb(36,36,36)",
              "ticklen": 8,
              "ticks": "outside",
              "tickwidth": 2
             }
            },
            "type": "scattermapbox"
           }
          ],
          "scatterpolar": [
           {
            "marker": {
             "colorbar": {
              "outlinewidth": 0,
              "tickcolor": "rgb(36,36,36)",
              "ticklen": 8,
              "ticks": "outside",
              "tickwidth": 2
             }
            },
            "type": "scatterpolar"
           }
          ],
          "scatterpolargl": [
           {
            "marker": {
             "colorbar": {
              "outlinewidth": 0,
              "tickcolor": "rgb(36,36,36)",
              "ticklen": 8,
              "ticks": "outside",
              "tickwidth": 2
             }
            },
            "type": "scatterpolargl"
           }
          ],
          "scatterternary": [
           {
            "marker": {
             "colorbar": {
              "outlinewidth": 0,
              "tickcolor": "rgb(36,36,36)",
              "ticklen": 8,
              "ticks": "outside",
              "tickwidth": 2
             }
            },
            "type": "scatterternary"
           }
          ],
          "surface": [
           {
            "colorbar": {
             "outlinewidth": 0,
             "tickcolor": "rgb(36,36,36)",
             "ticklen": 8,
             "ticks": "outside",
             "tickwidth": 2
            },
            "colorscale": [
             [
              0,
              "rgb(2,4,25)"
             ],
             [
              0.06274509803921569,
              "rgb(24,15,41)"
             ],
             [
              0.12549019607843137,
              "rgb(47,23,57)"
             ],
             [
              0.18823529411764706,
              "rgb(71,28,72)"
             ],
             [
              0.25098039215686274,
              "rgb(97,30,82)"
             ],
             [
              0.3137254901960784,
              "rgb(123,30,89)"
             ],
             [
              0.3764705882352941,
              "rgb(150,27,91)"
             ],
             [
              0.4392156862745098,
              "rgb(177,22,88)"
             ],
             [
              0.5019607843137255,
              "rgb(203,26,79)"
             ],
             [
              0.5647058823529412,
              "rgb(223,47,67)"
             ],
             [
              0.6274509803921569,
              "rgb(236,76,61)"
             ],
             [
              0.6901960784313725,
              "rgb(242,107,73)"
             ],
             [
              0.7529411764705882,
              "rgb(244,135,95)"
             ],
             [
              0.8156862745098039,
              "rgb(245,162,122)"
             ],
             [
              0.8784313725490196,
              "rgb(246,188,153)"
             ],
             [
              0.9411764705882353,
              "rgb(247,212,187)"
             ],
             [
              1,
              "rgb(250,234,220)"
             ]
            ],
            "type": "surface"
           }
          ],
          "table": [
           {
            "cells": {
             "fill": {
              "color": "rgb(231,231,240)"
             },
             "line": {
              "color": "white"
             }
            },
            "header": {
             "fill": {
              "color": "rgb(183,183,191)"
             },
             "line": {
              "color": "white"
             }
            },
            "type": "table"
           }
          ]
         },
         "layout": {
          "annotationdefaults": {
           "arrowcolor": "rgb(67,103,167)"
          },
          "autotypenumbers": "strict",
          "coloraxis": {
           "colorbar": {
            "outlinewidth": 0,
            "tickcolor": "rgb(36,36,36)",
            "ticklen": 8,
            "ticks": "outside",
            "tickwidth": 2
           }
          },
          "colorscale": {
           "sequential": [
            [
             0,
             "rgb(2,4,25)"
            ],
            [
             0.06274509803921569,
             "rgb(24,15,41)"
            ],
            [
             0.12549019607843137,
             "rgb(47,23,57)"
            ],
            [
             0.18823529411764706,
             "rgb(71,28,72)"
            ],
            [
             0.25098039215686274,
             "rgb(97,30,82)"
            ],
            [
             0.3137254901960784,
             "rgb(123,30,89)"
            ],
            [
             0.3764705882352941,
             "rgb(150,27,91)"
            ],
            [
             0.4392156862745098,
             "rgb(177,22,88)"
            ],
            [
             0.5019607843137255,
             "rgb(203,26,79)"
            ],
            [
             0.5647058823529412,
             "rgb(223,47,67)"
            ],
            [
             0.6274509803921569,
             "rgb(236,76,61)"
            ],
            [
             0.6901960784313725,
             "rgb(242,107,73)"
            ],
            [
             0.7529411764705882,
             "rgb(244,135,95)"
            ],
            [
             0.8156862745098039,
             "rgb(245,162,122)"
            ],
            [
             0.8784313725490196,
             "rgb(246,188,153)"
            ],
            [
             0.9411764705882353,
             "rgb(247,212,187)"
            ],
            [
             1,
             "rgb(250,234,220)"
            ]
           ],
           "sequentialminus": [
            [
             0,
             "rgb(2,4,25)"
            ],
            [
             0.06274509803921569,
             "rgb(24,15,41)"
            ],
            [
             0.12549019607843137,
             "rgb(47,23,57)"
            ],
            [
             0.18823529411764706,
             "rgb(71,28,72)"
            ],
            [
             0.25098039215686274,
             "rgb(97,30,82)"
            ],
            [
             0.3137254901960784,
             "rgb(123,30,89)"
            ],
            [
             0.3764705882352941,
             "rgb(150,27,91)"
            ],
            [
             0.4392156862745098,
             "rgb(177,22,88)"
            ],
            [
             0.5019607843137255,
             "rgb(203,26,79)"
            ],
            [
             0.5647058823529412,
             "rgb(223,47,67)"
            ],
            [
             0.6274509803921569,
             "rgb(236,76,61)"
            ],
            [
             0.6901960784313725,
             "rgb(242,107,73)"
            ],
            [
             0.7529411764705882,
             "rgb(244,135,95)"
            ],
            [
             0.8156862745098039,
             "rgb(245,162,122)"
            ],
            [
             0.8784313725490196,
             "rgb(246,188,153)"
            ],
            [
             0.9411764705882353,
             "rgb(247,212,187)"
            ],
            [
             1,
             "rgb(250,234,220)"
            ]
           ]
          },
          "colorway": [
           "rgb(76,114,176)",
           "rgb(221,132,82)",
           "rgb(85,168,104)",
           "rgb(196,78,82)",
           "rgb(129,114,179)",
           "rgb(147,120,96)",
           "rgb(218,139,195)",
           "rgb(140,140,140)",
           "rgb(204,185,116)",
           "rgb(100,181,205)"
          ],
          "font": {
           "color": "rgb(36,36,36)"
          },
          "geo": {
           "bgcolor": "white",
           "lakecolor": "white",
           "landcolor": "rgb(234,234,242)",
           "showlakes": true,
           "showland": true,
           "subunitcolor": "white"
          },
          "hoverlabel": {
           "align": "left"
          },
          "hovermode": "closest",
          "paper_bgcolor": "white",
          "plot_bgcolor": "rgb(234,234,242)",
          "polar": {
           "angularaxis": {
            "gridcolor": "white",
            "linecolor": "white",
            "showgrid": true,
            "ticks": ""
           },
           "bgcolor": "rgb(234,234,242)",
           "radialaxis": {
            "gridcolor": "white",
            "linecolor": "white",
            "showgrid": true,
            "ticks": ""
           }
          },
          "scene": {
           "xaxis": {
            "backgroundcolor": "rgb(234,234,242)",
            "gridcolor": "white",
            "gridwidth": 2,
            "linecolor": "white",
            "showbackground": true,
            "showgrid": true,
            "ticks": "",
            "zerolinecolor": "white"
           },
           "yaxis": {
            "backgroundcolor": "rgb(234,234,242)",
            "gridcolor": "white",
            "gridwidth": 2,
            "linecolor": "white",
            "showbackground": true,
            "showgrid": true,
            "ticks": "",
            "zerolinecolor": "white"
           },
           "zaxis": {
            "backgroundcolor": "rgb(234,234,242)",
            "gridcolor": "white",
            "gridwidth": 2,
            "linecolor": "white",
            "showbackground": true,
            "showgrid": true,
            "ticks": "",
            "zerolinecolor": "white"
           }
          },
          "shapedefaults": {
           "fillcolor": "rgb(67,103,167)",
           "line": {
            "width": 0
           },
           "opacity": 0.5
          },
          "ternary": {
           "aaxis": {
            "gridcolor": "white",
            "linecolor": "white",
            "showgrid": true,
            "ticks": ""
           },
           "baxis": {
            "gridcolor": "white",
            "linecolor": "white",
            "showgrid": true,
            "ticks": ""
           },
           "bgcolor": "rgb(234,234,242)",
           "caxis": {
            "gridcolor": "white",
            "linecolor": "white",
            "showgrid": true,
            "ticks": ""
           }
          },
          "xaxis": {
           "automargin": true,
           "gridcolor": "white",
           "linecolor": "white",
           "showgrid": true,
           "ticks": "",
           "title": {
            "standoff": 15
           },
           "zerolinecolor": "white"
          },
          "yaxis": {
           "automargin": true,
           "gridcolor": "white",
           "linecolor": "white",
           "showgrid": true,
           "ticks": "",
           "title": {
            "standoff": 15
           },
           "zerolinecolor": "white"
          }
         }
        },
        "title": {
         "text": "Bar Chart of month of Appointments"
        },
        "xaxis": {
         "anchor": "y",
         "categoryarray": [
          "June",
          "July",
          "August",
          "September",
          "October",
          "November"
         ],
         "categoryorder": "total descending",
         "domain": [
          0,
          1
         ],
         "title": {
          "text": "month"
         }
        },
        "yaxis": {
         "anchor": "x",
         "domain": [
          0,
          1
         ],
         "title": {
          "text": "count"
         }
        }
       }
      }
     },
     "metadata": {},
     "output_type": "display_data"
    }
   ],
   "source": [
    "plot(df)"
   ]
  },
  {
   "cell_type": "code",
   "execution_count": null,
   "metadata": {},
   "outputs": [],
   "source": []
  }
 ],
 "metadata": {
  "kernelspec": {
   "display_name": "Python 3",
   "language": "python",
   "name": "python3"
  },
  "language_info": {
   "codemirror_mode": {
    "name": "ipython",
    "version": 3
   },
   "file_extension": ".py",
   "mimetype": "text/x-python",
   "name": "python",
   "nbconvert_exporter": "python",
   "pygments_lexer": "ipython3",
   "version": "3.10.1"
  },
  "orig_nbformat": 4,
  "vscode": {
   "interpreter": {
    "hash": "aee8b7b246df8f9039afb4144a1f6fd8d2ca17a180786b69acc140d282b71a49"
   }
  }
 },
 "nbformat": 4,
 "nbformat_minor": 2
}
