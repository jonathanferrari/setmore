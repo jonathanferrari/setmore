{
 "cells": [
  {
   "cell_type": "code",
   "execution_count": 1,
   "metadata": {},
   "outputs": [],
   "source": [
    "from setmore import *\n",
    "import numpy as np\n",
    "import pandas as pd"
   ]
  },
  {
   "cell_type": "code",
   "execution_count": 2,
   "metadata": {},
   "outputs": [],
   "source": [
    "df = get_appointments(\"01-06-2022\", \"01-11-2022\")\n"
   ]
  },
  {
   "cell_type": "code",
   "execution_count": 5,
   "metadata": {},
   "outputs": [
    {
     "data": {
      "text/html": [
       "<div>\n",
       "<style scoped>\n",
       "    .dataframe tbody tr th:only-of-type {\n",
       "        vertical-align: middle;\n",
       "    }\n",
       "\n",
       "    .dataframe tbody tr th {\n",
       "        vertical-align: top;\n",
       "    }\n",
       "\n",
       "    .dataframe thead th {\n",
       "        text-align: right;\n",
       "    }\n",
       "</style>\n",
       "<table border=\"1\" class=\"dataframe\">\n",
       "  <thead>\n",
       "    <tr style=\"text-align: right;\">\n",
       "      <th></th>\n",
       "      <th>duration</th>\n",
       "      <th>staff</th>\n",
       "      <th>service</th>\n",
       "      <th>start</th>\n",
       "      <th>time</th>\n",
       "      <th>month</th>\n",
       "      <th>weekday</th>\n",
       "    </tr>\n",
       "    <tr>\n",
       "      <th>key</th>\n",
       "      <th></th>\n",
       "      <th></th>\n",
       "      <th></th>\n",
       "      <th></th>\n",
       "      <th></th>\n",
       "      <th></th>\n",
       "      <th></th>\n",
       "    </tr>\n",
       "  </thead>\n",
       "  <tbody>\n",
       "    <tr>\n",
       "      <th>c27be410-dac0-4ff9-b9bb-495c38c3c608</th>\n",
       "      <td>30</td>\n",
       "      <td>Jonathan Ferrari</td>\n",
       "      <td>Virtual</td>\n",
       "      <td>2022-10-31 12:00:00+00:00</td>\n",
       "      <td>12:00 PM</td>\n",
       "      <td>October</td>\n",
       "      <td>Monday</td>\n",
       "    </tr>\n",
       "    <tr>\n",
       "      <th>4ef3fd3a-a7f9-411c-861b-d4b517490659</th>\n",
       "      <td>60</td>\n",
       "      <td>Elsy Lewis</td>\n",
       "      <td>Virtual</td>\n",
       "      <td>2022-11-01 13:00:00+00:00</td>\n",
       "      <td>01:00 PM</td>\n",
       "      <td>November</td>\n",
       "      <td>Tuesday</td>\n",
       "    </tr>\n",
       "    <tr>\n",
       "      <th>87206ada-8ee3-4a97-9872-0468cfde504b</th>\n",
       "      <td>60</td>\n",
       "      <td>Elsy Lewis</td>\n",
       "      <td>Virtual</td>\n",
       "      <td>2022-11-01 14:00:00+00:00</td>\n",
       "      <td>02:00 PM</td>\n",
       "      <td>November</td>\n",
       "      <td>Tuesday</td>\n",
       "    </tr>\n",
       "    <tr>\n",
       "      <th>34e90f17-a1e5-447e-8b81-a2f1477688cb</th>\n",
       "      <td>60</td>\n",
       "      <td>Elsy Lewis</td>\n",
       "      <td>Virtual</td>\n",
       "      <td>2022-11-01 15:00:00+00:00</td>\n",
       "      <td>03:00 PM</td>\n",
       "      <td>November</td>\n",
       "      <td>Tuesday</td>\n",
       "    </tr>\n",
       "    <tr>\n",
       "      <th>0c0795d4-2d59-4915-b15c-65377feac988</th>\n",
       "      <td>30</td>\n",
       "      <td>Trae Sebastian</td>\n",
       "      <td>Virtual</td>\n",
       "      <td>2022-11-01 16:00:00+00:00</td>\n",
       "      <td>04:00 PM</td>\n",
       "      <td>November</td>\n",
       "      <td>Tuesday</td>\n",
       "    </tr>\n",
       "  </tbody>\n",
       "</table>\n",
       "</div>"
      ],
      "text/plain": [
       "                                      duration              staff  service  \\\n",
       "key                                                                          \n",
       "c27be410-dac0-4ff9-b9bb-495c38c3c608        30  Jonathan Ferrari   Virtual   \n",
       "4ef3fd3a-a7f9-411c-861b-d4b517490659        60        Elsy Lewis   Virtual   \n",
       "87206ada-8ee3-4a97-9872-0468cfde504b        60        Elsy Lewis   Virtual   \n",
       "34e90f17-a1e5-447e-8b81-a2f1477688cb        60        Elsy Lewis   Virtual   \n",
       "0c0795d4-2d59-4915-b15c-65377feac988        30    Trae Sebastian   Virtual   \n",
       "\n",
       "                                                         start      time  \\\n",
       "key                                                                        \n",
       "c27be410-dac0-4ff9-b9bb-495c38c3c608 2022-10-31 12:00:00+00:00  12:00 PM   \n",
       "4ef3fd3a-a7f9-411c-861b-d4b517490659 2022-11-01 13:00:00+00:00  01:00 PM   \n",
       "87206ada-8ee3-4a97-9872-0468cfde504b 2022-11-01 14:00:00+00:00  02:00 PM   \n",
       "34e90f17-a1e5-447e-8b81-a2f1477688cb 2022-11-01 15:00:00+00:00  03:00 PM   \n",
       "0c0795d4-2d59-4915-b15c-65377feac988 2022-11-01 16:00:00+00:00  04:00 PM   \n",
       "\n",
       "                                         month  weekday  \n",
       "key                                                      \n",
       "c27be410-dac0-4ff9-b9bb-495c38c3c608   October   Monday  \n",
       "4ef3fd3a-a7f9-411c-861b-d4b517490659  November  Tuesday  \n",
       "87206ada-8ee3-4a97-9872-0468cfde504b  November  Tuesday  \n",
       "34e90f17-a1e5-447e-8b81-a2f1477688cb  November  Tuesday  \n",
       "0c0795d4-2d59-4915-b15c-65377feac988  November  Tuesday  "
      ]
     },
     "execution_count": 5,
     "metadata": {},
     "output_type": "execute_result"
    }
   ],
   "source": []
  },
  {
   "cell_type": "code",
   "execution_count": null,
   "metadata": {},
   "outputs": [],
   "source": []
  }
 ],
 "metadata": {
  "kernelspec": {
   "display_name": "Python 3",
   "language": "python",
   "name": "python3"
  },
  "language_info": {
   "codemirror_mode": {
    "name": "ipython",
    "version": 3
   },
   "file_extension": ".py",
   "mimetype": "text/x-python",
   "name": "python",
   "nbconvert_exporter": "python",
   "pygments_lexer": "ipython3",
   "version": "3.10.1"
  },
  "orig_nbformat": 4,
  "vscode": {
   "interpreter": {
    "hash": "aee8b7b246df8f9039afb4144a1f6fd8d2ca17a180786b69acc140d282b71a49"
   }
  }
 },
 "nbformat": 4,
 "nbformat_minor": 2
}
